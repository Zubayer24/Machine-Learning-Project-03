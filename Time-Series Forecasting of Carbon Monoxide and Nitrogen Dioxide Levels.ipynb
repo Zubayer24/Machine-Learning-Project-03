{
 "cells": [
  {
   "cell_type": "markdown",
   "id": "3e181d2b",
   "metadata": {},
   "source": [
    "# Time-Series Forecasting of Carbon Monoxide and Nitrogen Dioxide Levels"
   ]
  },
  {
   "cell_type": "markdown",
   "id": "9961bc79",
   "metadata": {},
   "source": [
    "Build predictive models to forecast daily or hourly concentrations of **CO(GT)** and **NO₂(GT)** based on historical data.\n"
   ]
  },
  {
   "cell_type": "code",
   "execution_count": 7,
   "id": "cc2c4f6f",
   "metadata": {},
   "outputs": [],
   "source": [
    "import pandas as pd"
   ]
  },
  {
   "cell_type": "code",
   "execution_count": 9,
   "id": "10a0a4c1",
   "metadata": {},
   "outputs": [
    {
     "data": {
      "text/html": [
       "<div>\n",
       "<style scoped>\n",
       "    .dataframe tbody tr th:only-of-type {\n",
       "        vertical-align: middle;\n",
       "    }\n",
       "\n",
       "    .dataframe tbody tr th {\n",
       "        vertical-align: top;\n",
       "    }\n",
       "\n",
       "    .dataframe thead th {\n",
       "        text-align: right;\n",
       "    }\n",
       "</style>\n",
       "<table border=\"1\" class=\"dataframe\">\n",
       "  <thead>\n",
       "    <tr style=\"text-align: right;\">\n",
       "      <th></th>\n",
       "      <th>Date</th>\n",
       "      <th>Time</th>\n",
       "      <th>CO(GT)</th>\n",
       "      <th>PT08.S1(CO)</th>\n",
       "      <th>NMHC(GT)</th>\n",
       "      <th>C6H6(GT)</th>\n",
       "      <th>PT08.S2(NMHC)</th>\n",
       "      <th>NOx(GT)</th>\n",
       "      <th>PT08.S3(NOx)</th>\n",
       "      <th>NO2(GT)</th>\n",
       "      <th>PT08.S4(NO2)</th>\n",
       "      <th>PT08.S5(O3)</th>\n",
       "      <th>T</th>\n",
       "      <th>RH</th>\n",
       "      <th>AH</th>\n",
       "    </tr>\n",
       "  </thead>\n",
       "  <tbody>\n",
       "    <tr>\n",
       "      <th>0</th>\n",
       "      <td>2004-03-10</td>\n",
       "      <td>18:00:00</td>\n",
       "      <td>2.6</td>\n",
       "      <td>1360</td>\n",
       "      <td>150</td>\n",
       "      <td>11.9</td>\n",
       "      <td>1046</td>\n",
       "      <td>166</td>\n",
       "      <td>1056</td>\n",
       "      <td>113</td>\n",
       "      <td>1692</td>\n",
       "      <td>1268</td>\n",
       "      <td>13.6</td>\n",
       "      <td>48.9</td>\n",
       "      <td>0.7578</td>\n",
       "    </tr>\n",
       "    <tr>\n",
       "      <th>1</th>\n",
       "      <td>2004-03-10</td>\n",
       "      <td>19:00:00</td>\n",
       "      <td>2.0</td>\n",
       "      <td>1292</td>\n",
       "      <td>112</td>\n",
       "      <td>9.4</td>\n",
       "      <td>955</td>\n",
       "      <td>103</td>\n",
       "      <td>1174</td>\n",
       "      <td>92</td>\n",
       "      <td>1559</td>\n",
       "      <td>972</td>\n",
       "      <td>13.3</td>\n",
       "      <td>47.7</td>\n",
       "      <td>0.7255</td>\n",
       "    </tr>\n",
       "    <tr>\n",
       "      <th>2</th>\n",
       "      <td>2004-03-10</td>\n",
       "      <td>20:00:00</td>\n",
       "      <td>2.2</td>\n",
       "      <td>1402</td>\n",
       "      <td>88</td>\n",
       "      <td>9.0</td>\n",
       "      <td>939</td>\n",
       "      <td>131</td>\n",
       "      <td>1140</td>\n",
       "      <td>114</td>\n",
       "      <td>1555</td>\n",
       "      <td>1074</td>\n",
       "      <td>11.9</td>\n",
       "      <td>54.0</td>\n",
       "      <td>0.7502</td>\n",
       "    </tr>\n",
       "    <tr>\n",
       "      <th>3</th>\n",
       "      <td>2004-03-10</td>\n",
       "      <td>21:00:00</td>\n",
       "      <td>2.2</td>\n",
       "      <td>1376</td>\n",
       "      <td>80</td>\n",
       "      <td>9.2</td>\n",
       "      <td>948</td>\n",
       "      <td>172</td>\n",
       "      <td>1092</td>\n",
       "      <td>122</td>\n",
       "      <td>1584</td>\n",
       "      <td>1203</td>\n",
       "      <td>11.0</td>\n",
       "      <td>60.0</td>\n",
       "      <td>0.7867</td>\n",
       "    </tr>\n",
       "    <tr>\n",
       "      <th>4</th>\n",
       "      <td>2004-03-10</td>\n",
       "      <td>22:00:00</td>\n",
       "      <td>1.6</td>\n",
       "      <td>1272</td>\n",
       "      <td>51</td>\n",
       "      <td>6.5</td>\n",
       "      <td>836</td>\n",
       "      <td>131</td>\n",
       "      <td>1205</td>\n",
       "      <td>116</td>\n",
       "      <td>1490</td>\n",
       "      <td>1110</td>\n",
       "      <td>11.2</td>\n",
       "      <td>59.6</td>\n",
       "      <td>0.7888</td>\n",
       "    </tr>\n",
       "  </tbody>\n",
       "</table>\n",
       "</div>"
      ],
      "text/plain": [
       "         Date      Time  CO(GT)  PT08.S1(CO)  NMHC(GT)  C6H6(GT)  \\\n",
       "0  2004-03-10  18:00:00     2.6         1360       150      11.9   \n",
       "1  2004-03-10  19:00:00     2.0         1292       112       9.4   \n",
       "2  2004-03-10  20:00:00     2.2         1402        88       9.0   \n",
       "3  2004-03-10  21:00:00     2.2         1376        80       9.2   \n",
       "4  2004-03-10  22:00:00     1.6         1272        51       6.5   \n",
       "\n",
       "   PT08.S2(NMHC)  NOx(GT)  PT08.S3(NOx)  NO2(GT)  PT08.S4(NO2)  PT08.S5(O3)  \\\n",
       "0           1046      166          1056      113          1692         1268   \n",
       "1            955      103          1174       92          1559          972   \n",
       "2            939      131          1140      114          1555         1074   \n",
       "3            948      172          1092      122          1584         1203   \n",
       "4            836      131          1205      116          1490         1110   \n",
       "\n",
       "      T    RH      AH  \n",
       "0  13.6  48.9  0.7578  \n",
       "1  13.3  47.7  0.7255  \n",
       "2  11.9  54.0  0.7502  \n",
       "3  11.0  60.0  0.7867  \n",
       "4  11.2  59.6  0.7888  "
      ]
     },
     "execution_count": 9,
     "metadata": {},
     "output_type": "execute_result"
    }
   ],
   "source": [
    "url = 'https://raw.githubusercontent.com/rashakil-ds/Public-Datasets/refs/heads/main/airquality.csv'\n",
    "df = pd.read_csv(url)\n",
    "df.head()"
   ]
  },
  {
   "cell_type": "code",
   "execution_count": 10,
   "id": "af3a04f5",
   "metadata": {},
   "outputs": [
    {
     "data": {
      "text/plain": [
       "Index(['Date', 'Time', 'CO(GT)', 'PT08.S1(CO)', 'NMHC(GT)', 'C6H6(GT)',\n",
       "       'PT08.S2(NMHC)', 'NOx(GT)', 'PT08.S3(NOx)', 'NO2(GT)', 'PT08.S4(NO2)',\n",
       "       'PT08.S5(O3)', 'T', 'RH', 'AH'],\n",
       "      dtype='object')"
      ]
     },
     "execution_count": 10,
     "metadata": {},
     "output_type": "execute_result"
    }
   ],
   "source": [
    "df.columns"
   ]
  },
  {
   "cell_type": "code",
   "execution_count": 11,
   "id": "bb0531d2-adf2-448b-86cb-0ef9fdd54c25",
   "metadata": {},
   "outputs": [
    {
     "data": {
      "text/plain": [
       "(9357, 15)"
      ]
     },
     "execution_count": 11,
     "metadata": {},
     "output_type": "execute_result"
    }
   ],
   "source": [
    "df.shape"
   ]
  },
  {
   "cell_type": "markdown",
   "id": "0d95c2cc",
   "metadata": {},
   "source": [
    "# Project Workflow\n",
    "\n",
    "### **Deliverables**:\n",
    "1. **Forecasting Models**:\n",
    "   - Trained models for `CO(GT)` and `NO₂(GT)`.\n",
    "2. **Forecast Visualization**:\n",
    "   - Plots showing historical trends and future predictions.\n",
    "3. **Evaluation Report**:\n",
    "   - Metrics and comparison of different forecasting models.\n",
    "4. **Insights and Recommendations**:\n",
    "   - Suggestions for mitigating high levels of these gases based on predictions.\n"
   ]
  },
  {
   "cell_type": "markdown",
   "id": "8b7b5d32",
   "metadata": {},
   "source": [
    "### 1. Data Preprocessing\n",
    "- **Date-Time Parsing**:\n",
    "  - Combine the `Date` and `Time` columns into a single `datetime` column.\n",
    "  - Set the `datetime` column as the index of the dataset.\n",
    "- **Resampling**:\n",
    "  - Aggregate the data into meaningful time intervals (e.g., hourly or daily averages).\n",
    "- **Handle Missing Values**:\n",
    "  - Use interpolation, mean, or advanced imputation techniques to fill missing data for `CO(GT)` and `NO₂(GT)`.\n",
    "- **Outlier Detection**:\n",
    "  - Remove or cap extreme values in `CO(GT)` and `NO₂(GT)` using statistical thresholds."
   ]
  },
  {
   "cell_type": "code",
   "execution_count": 14,
   "id": "8b58e003",
   "metadata": {},
   "outputs": [],
   "source": [
    "df['datetime'] = pd.DatetimeIndex(df['Date']+ ' '+ df['Time'])    # datetime index column"
   ]
  },
  {
   "cell_type": "code",
   "execution_count": 15,
   "id": "fbe353c4-a8ab-42d0-ba57-923096a7a3be",
   "metadata": {},
   "outputs": [],
   "source": [
    "# df= df.drop(['Datetime'],axis=1)"
   ]
  },
  {
   "cell_type": "code",
   "execution_count": 16,
   "id": "cc03f46e",
   "metadata": {},
   "outputs": [
    {
     "data": {
      "text/html": [
       "<div>\n",
       "<style scoped>\n",
       "    .dataframe tbody tr th:only-of-type {\n",
       "        vertical-align: middle;\n",
       "    }\n",
       "\n",
       "    .dataframe tbody tr th {\n",
       "        vertical-align: top;\n",
       "    }\n",
       "\n",
       "    .dataframe thead th {\n",
       "        text-align: right;\n",
       "    }\n",
       "</style>\n",
       "<table border=\"1\" class=\"dataframe\">\n",
       "  <thead>\n",
       "    <tr style=\"text-align: right;\">\n",
       "      <th></th>\n",
       "      <th>Date</th>\n",
       "      <th>Time</th>\n",
       "      <th>CO(GT)</th>\n",
       "      <th>PT08.S1(CO)</th>\n",
       "      <th>NMHC(GT)</th>\n",
       "      <th>C6H6(GT)</th>\n",
       "      <th>PT08.S2(NMHC)</th>\n",
       "      <th>NOx(GT)</th>\n",
       "      <th>PT08.S3(NOx)</th>\n",
       "      <th>NO2(GT)</th>\n",
       "      <th>PT08.S4(NO2)</th>\n",
       "      <th>PT08.S5(O3)</th>\n",
       "      <th>T</th>\n",
       "      <th>RH</th>\n",
       "      <th>AH</th>\n",
       "      <th>datetime</th>\n",
       "    </tr>\n",
       "  </thead>\n",
       "  <tbody>\n",
       "    <tr>\n",
       "      <th>0</th>\n",
       "      <td>2004-03-10</td>\n",
       "      <td>18:00:00</td>\n",
       "      <td>2.6</td>\n",
       "      <td>1360</td>\n",
       "      <td>150</td>\n",
       "      <td>11.9</td>\n",
       "      <td>1046</td>\n",
       "      <td>166</td>\n",
       "      <td>1056</td>\n",
       "      <td>113</td>\n",
       "      <td>1692</td>\n",
       "      <td>1268</td>\n",
       "      <td>13.6</td>\n",
       "      <td>48.9</td>\n",
       "      <td>0.7578</td>\n",
       "      <td>2004-03-10 18:00:00</td>\n",
       "    </tr>\n",
       "    <tr>\n",
       "      <th>1</th>\n",
       "      <td>2004-03-10</td>\n",
       "      <td>19:00:00</td>\n",
       "      <td>2.0</td>\n",
       "      <td>1292</td>\n",
       "      <td>112</td>\n",
       "      <td>9.4</td>\n",
       "      <td>955</td>\n",
       "      <td>103</td>\n",
       "      <td>1174</td>\n",
       "      <td>92</td>\n",
       "      <td>1559</td>\n",
       "      <td>972</td>\n",
       "      <td>13.3</td>\n",
       "      <td>47.7</td>\n",
       "      <td>0.7255</td>\n",
       "      <td>2004-03-10 19:00:00</td>\n",
       "    </tr>\n",
       "    <tr>\n",
       "      <th>2</th>\n",
       "      <td>2004-03-10</td>\n",
       "      <td>20:00:00</td>\n",
       "      <td>2.2</td>\n",
       "      <td>1402</td>\n",
       "      <td>88</td>\n",
       "      <td>9.0</td>\n",
       "      <td>939</td>\n",
       "      <td>131</td>\n",
       "      <td>1140</td>\n",
       "      <td>114</td>\n",
       "      <td>1555</td>\n",
       "      <td>1074</td>\n",
       "      <td>11.9</td>\n",
       "      <td>54.0</td>\n",
       "      <td>0.7502</td>\n",
       "      <td>2004-03-10 20:00:00</td>\n",
       "    </tr>\n",
       "    <tr>\n",
       "      <th>3</th>\n",
       "      <td>2004-03-10</td>\n",
       "      <td>21:00:00</td>\n",
       "      <td>2.2</td>\n",
       "      <td>1376</td>\n",
       "      <td>80</td>\n",
       "      <td>9.2</td>\n",
       "      <td>948</td>\n",
       "      <td>172</td>\n",
       "      <td>1092</td>\n",
       "      <td>122</td>\n",
       "      <td>1584</td>\n",
       "      <td>1203</td>\n",
       "      <td>11.0</td>\n",
       "      <td>60.0</td>\n",
       "      <td>0.7867</td>\n",
       "      <td>2004-03-10 21:00:00</td>\n",
       "    </tr>\n",
       "    <tr>\n",
       "      <th>4</th>\n",
       "      <td>2004-03-10</td>\n",
       "      <td>22:00:00</td>\n",
       "      <td>1.6</td>\n",
       "      <td>1272</td>\n",
       "      <td>51</td>\n",
       "      <td>6.5</td>\n",
       "      <td>836</td>\n",
       "      <td>131</td>\n",
       "      <td>1205</td>\n",
       "      <td>116</td>\n",
       "      <td>1490</td>\n",
       "      <td>1110</td>\n",
       "      <td>11.2</td>\n",
       "      <td>59.6</td>\n",
       "      <td>0.7888</td>\n",
       "      <td>2004-03-10 22:00:00</td>\n",
       "    </tr>\n",
       "  </tbody>\n",
       "</table>\n",
       "</div>"
      ],
      "text/plain": [
       "         Date      Time  CO(GT)  PT08.S1(CO)  NMHC(GT)  C6H6(GT)  \\\n",
       "0  2004-03-10  18:00:00     2.6         1360       150      11.9   \n",
       "1  2004-03-10  19:00:00     2.0         1292       112       9.4   \n",
       "2  2004-03-10  20:00:00     2.2         1402        88       9.0   \n",
       "3  2004-03-10  21:00:00     2.2         1376        80       9.2   \n",
       "4  2004-03-10  22:00:00     1.6         1272        51       6.5   \n",
       "\n",
       "   PT08.S2(NMHC)  NOx(GT)  PT08.S3(NOx)  NO2(GT)  PT08.S4(NO2)  PT08.S5(O3)  \\\n",
       "0           1046      166          1056      113          1692         1268   \n",
       "1            955      103          1174       92          1559          972   \n",
       "2            939      131          1140      114          1555         1074   \n",
       "3            948      172          1092      122          1584         1203   \n",
       "4            836      131          1205      116          1490         1110   \n",
       "\n",
       "      T    RH      AH            datetime  \n",
       "0  13.6  48.9  0.7578 2004-03-10 18:00:00  \n",
       "1  13.3  47.7  0.7255 2004-03-10 19:00:00  \n",
       "2  11.9  54.0  0.7502 2004-03-10 20:00:00  \n",
       "3  11.0  60.0  0.7867 2004-03-10 21:00:00  \n",
       "4  11.2  59.6  0.7888 2004-03-10 22:00:00  "
      ]
     },
     "execution_count": 16,
     "metadata": {},
     "output_type": "execute_result"
    }
   ],
   "source": [
    "df.head()"
   ]
  },
  {
   "cell_type": "code",
   "execution_count": 17,
   "id": "752520fe-bf7c-49f3-8a9d-f9d6a91d7fd0",
   "metadata": {},
   "outputs": [
    {
     "name": "stdout",
     "output_type": "stream",
     "text": [
      "<class 'pandas.core.frame.DataFrame'>\n",
      "RangeIndex: 9357 entries, 0 to 9356\n",
      "Data columns (total 16 columns):\n",
      " #   Column         Non-Null Count  Dtype         \n",
      "---  ------         --------------  -----         \n",
      " 0   Date           9357 non-null   object        \n",
      " 1   Time           9357 non-null   object        \n",
      " 2   CO(GT)         9357 non-null   float64       \n",
      " 3   PT08.S1(CO)    9357 non-null   int64         \n",
      " 4   NMHC(GT)       9357 non-null   int64         \n",
      " 5   C6H6(GT)       9357 non-null   float64       \n",
      " 6   PT08.S2(NMHC)  9357 non-null   int64         \n",
      " 7   NOx(GT)        9357 non-null   int64         \n",
      " 8   PT08.S3(NOx)   9357 non-null   int64         \n",
      " 9   NO2(GT)        9357 non-null   int64         \n",
      " 10  PT08.S4(NO2)   9357 non-null   int64         \n",
      " 11  PT08.S5(O3)    9357 non-null   int64         \n",
      " 12  T              9357 non-null   float64       \n",
      " 13  RH             9357 non-null   float64       \n",
      " 14  AH             9357 non-null   float64       \n",
      " 15  datetime       9357 non-null   datetime64[ns]\n",
      "dtypes: datetime64[ns](1), float64(5), int64(8), object(2)\n",
      "memory usage: 1.1+ MB\n"
     ]
    }
   ],
   "source": [
    "df.info()"
   ]
  },
  {
   "cell_type": "code",
   "execution_count": 18,
   "id": "19677a90-5732-4f39-be36-feb834f960ed",
   "metadata": {},
   "outputs": [],
   "source": [
    "df = df.set_index('datetime').sort_index()"
   ]
  },
  {
   "cell_type": "code",
   "execution_count": 19,
   "id": "b93a954c-8b8b-4486-9576-49e352a0b873",
   "metadata": {},
   "outputs": [
    {
     "name": "stdout",
     "output_type": "stream",
     "text": [
      "<class 'pandas.core.indexes.datetimes.DatetimeIndex'>\n"
     ]
    }
   ],
   "source": [
    "print(type(df.index))  "
   ]
  },
  {
   "cell_type": "code",
   "execution_count": 20,
   "id": "58644654-ff74-4ab2-a6ec-44d5ff05607b",
   "metadata": {},
   "outputs": [
    {
     "name": "stdout",
     "output_type": "stream",
     "text": [
      "               CO(GT)  PT08.S1(CO)    NMHC(GT)   C6H6(GT)  PT08.S2(NMHC)  \\\n",
      "datetime                                                                   \n",
      "2004-03-10   1.966667  1316.500000   86.500000   8.450000     912.333333   \n",
      "2004-03-11  -6.187500  1244.166667  104.500000   7.979167     851.958333   \n",
      "2004-03-12 -14.095833  1281.666667  141.500000  12.129167    1008.291667   \n",
      "2004-03-13  -5.750000  1330.666667  139.250000  10.916667     992.833333   \n",
      "2004-03-14  -5.966667  1361.125000  116.958333   9.637500     943.916667   \n",
      "\n",
      "               NOx(GT)  PT08.S3(NOx)     NO2(GT)  PT08.S4(NO2)  PT08.S5(O3)  \\\n",
      "datetime                                                                      \n",
      "2004-03-10  132.000000   1167.333333  108.833333   1545.500000  1096.000000   \n",
      "2004-03-11  130.041667   1277.250000   87.375000   1522.833333   885.250000   \n",
      "2004-03-12  142.583333   1101.875000   89.916667   1627.291667  1084.375000   \n",
      "2004-03-13  168.416667    993.208333  105.583333   1595.791667  1245.916667   \n",
      "2004-03-14  132.166667   1001.291667   97.458333   1602.375000  1234.208333   \n",
      "\n",
      "                    T         RH        AH  \n",
      "datetime                                    \n",
      "2004-03-10  12.033333  54.900000  0.765633  \n",
      "2004-03-11   9.837500  64.075000  0.775767  \n",
      "2004-03-12  11.287500  51.095833  0.663104  \n",
      "2004-03-13  12.866667  51.533333  0.732296  \n",
      "2004-03-14  16.012500  48.850000  0.849671  \n"
     ]
    }
   ],
   "source": [
    "df_numeric = df.select_dtypes(include='number')\n",
    "df_daily = df_numeric.resample('D').mean()\n",
    "print(df_daily.head())"
   ]
  },
  {
   "cell_type": "code",
   "execution_count": 21,
   "id": "18eae06f-4293-46f5-b81e-d2a290040908",
   "metadata": {},
   "outputs": [
    {
     "data": {
      "text/html": [
       "<div>\n",
       "<style scoped>\n",
       "    .dataframe tbody tr th:only-of-type {\n",
       "        vertical-align: middle;\n",
       "    }\n",
       "\n",
       "    .dataframe tbody tr th {\n",
       "        vertical-align: top;\n",
       "    }\n",
       "\n",
       "    .dataframe thead th {\n",
       "        text-align: right;\n",
       "    }\n",
       "</style>\n",
       "<table border=\"1\" class=\"dataframe\">\n",
       "  <thead>\n",
       "    <tr style=\"text-align: right;\">\n",
       "      <th></th>\n",
       "      <th>CO(GT)</th>\n",
       "      <th>PT08.S1(CO)</th>\n",
       "      <th>NMHC(GT)</th>\n",
       "      <th>C6H6(GT)</th>\n",
       "      <th>PT08.S2(NMHC)</th>\n",
       "      <th>NOx(GT)</th>\n",
       "      <th>PT08.S3(NOx)</th>\n",
       "      <th>NO2(GT)</th>\n",
       "      <th>PT08.S4(NO2)</th>\n",
       "      <th>PT08.S5(O3)</th>\n",
       "      <th>T</th>\n",
       "      <th>RH</th>\n",
       "      <th>AH</th>\n",
       "    </tr>\n",
       "    <tr>\n",
       "      <th>datetime</th>\n",
       "      <th></th>\n",
       "      <th></th>\n",
       "      <th></th>\n",
       "      <th></th>\n",
       "      <th></th>\n",
       "      <th></th>\n",
       "      <th></th>\n",
       "      <th></th>\n",
       "      <th></th>\n",
       "      <th></th>\n",
       "      <th></th>\n",
       "      <th></th>\n",
       "      <th></th>\n",
       "    </tr>\n",
       "  </thead>\n",
       "  <tbody>\n",
       "    <tr>\n",
       "      <th>2004-03-10</th>\n",
       "      <td>1.966667</td>\n",
       "      <td>1316.500000</td>\n",
       "      <td>86.500000</td>\n",
       "      <td>8.450000</td>\n",
       "      <td>912.333333</td>\n",
       "      <td>132.000000</td>\n",
       "      <td>1167.333333</td>\n",
       "      <td>108.833333</td>\n",
       "      <td>1545.500000</td>\n",
       "      <td>1096.000000</td>\n",
       "      <td>12.033333</td>\n",
       "      <td>54.900000</td>\n",
       "      <td>0.765633</td>\n",
       "    </tr>\n",
       "    <tr>\n",
       "      <th>2004-03-11</th>\n",
       "      <td>-6.187500</td>\n",
       "      <td>1244.166667</td>\n",
       "      <td>104.500000</td>\n",
       "      <td>7.979167</td>\n",
       "      <td>851.958333</td>\n",
       "      <td>130.041667</td>\n",
       "      <td>1277.250000</td>\n",
       "      <td>87.375000</td>\n",
       "      <td>1522.833333</td>\n",
       "      <td>885.250000</td>\n",
       "      <td>9.837500</td>\n",
       "      <td>64.075000</td>\n",
       "      <td>0.775767</td>\n",
       "    </tr>\n",
       "    <tr>\n",
       "      <th>2004-03-12</th>\n",
       "      <td>-14.095833</td>\n",
       "      <td>1281.666667</td>\n",
       "      <td>141.500000</td>\n",
       "      <td>12.129167</td>\n",
       "      <td>1008.291667</td>\n",
       "      <td>142.583333</td>\n",
       "      <td>1101.875000</td>\n",
       "      <td>89.916667</td>\n",
       "      <td>1627.291667</td>\n",
       "      <td>1084.375000</td>\n",
       "      <td>11.287500</td>\n",
       "      <td>51.095833</td>\n",
       "      <td>0.663104</td>\n",
       "    </tr>\n",
       "    <tr>\n",
       "      <th>2004-03-13</th>\n",
       "      <td>-5.750000</td>\n",
       "      <td>1330.666667</td>\n",
       "      <td>139.250000</td>\n",
       "      <td>10.916667</td>\n",
       "      <td>992.833333</td>\n",
       "      <td>168.416667</td>\n",
       "      <td>993.208333</td>\n",
       "      <td>105.583333</td>\n",
       "      <td>1595.791667</td>\n",
       "      <td>1245.916667</td>\n",
       "      <td>12.866667</td>\n",
       "      <td>51.533333</td>\n",
       "      <td>0.732296</td>\n",
       "    </tr>\n",
       "    <tr>\n",
       "      <th>2004-03-14</th>\n",
       "      <td>-5.966667</td>\n",
       "      <td>1361.125000</td>\n",
       "      <td>116.958333</td>\n",
       "      <td>9.637500</td>\n",
       "      <td>943.916667</td>\n",
       "      <td>132.166667</td>\n",
       "      <td>1001.291667</td>\n",
       "      <td>97.458333</td>\n",
       "      <td>1602.375000</td>\n",
       "      <td>1234.208333</td>\n",
       "      <td>16.012500</td>\n",
       "      <td>48.850000</td>\n",
       "      <td>0.849671</td>\n",
       "    </tr>\n",
       "  </tbody>\n",
       "</table>\n",
       "</div>"
      ],
      "text/plain": [
       "               CO(GT)  PT08.S1(CO)    NMHC(GT)   C6H6(GT)  PT08.S2(NMHC)  \\\n",
       "datetime                                                                   \n",
       "2004-03-10   1.966667  1316.500000   86.500000   8.450000     912.333333   \n",
       "2004-03-11  -6.187500  1244.166667  104.500000   7.979167     851.958333   \n",
       "2004-03-12 -14.095833  1281.666667  141.500000  12.129167    1008.291667   \n",
       "2004-03-13  -5.750000  1330.666667  139.250000  10.916667     992.833333   \n",
       "2004-03-14  -5.966667  1361.125000  116.958333   9.637500     943.916667   \n",
       "\n",
       "               NOx(GT)  PT08.S3(NOx)     NO2(GT)  PT08.S4(NO2)  PT08.S5(O3)  \\\n",
       "datetime                                                                      \n",
       "2004-03-10  132.000000   1167.333333  108.833333   1545.500000  1096.000000   \n",
       "2004-03-11  130.041667   1277.250000   87.375000   1522.833333   885.250000   \n",
       "2004-03-12  142.583333   1101.875000   89.916667   1627.291667  1084.375000   \n",
       "2004-03-13  168.416667    993.208333  105.583333   1595.791667  1245.916667   \n",
       "2004-03-14  132.166667   1001.291667   97.458333   1602.375000  1234.208333   \n",
       "\n",
       "                    T         RH        AH  \n",
       "datetime                                    \n",
       "2004-03-10  12.033333  54.900000  0.765633  \n",
       "2004-03-11   9.837500  64.075000  0.775767  \n",
       "2004-03-12  11.287500  51.095833  0.663104  \n",
       "2004-03-13  12.866667  51.533333  0.732296  \n",
       "2004-03-14  16.012500  48.850000  0.849671  "
      ]
     },
     "execution_count": 21,
     "metadata": {},
     "output_type": "execute_result"
    }
   ],
   "source": [
    "df_daily.head()"
   ]
  },
  {
   "cell_type": "code",
   "execution_count": 22,
   "id": "577b64f1-a5da-42aa-a3a2-ef283f0018b6",
   "metadata": {},
   "outputs": [
    {
     "data": {
      "text/plain": [
       "(391, 13)"
      ]
     },
     "execution_count": 22,
     "metadata": {},
     "output_type": "execute_result"
    }
   ],
   "source": [
    "df_daily.shape    #(391, 13) shape is expected. The drop from 9000 → 391 rows comes from aggregating many measurements per day into one daily average and the drop from 15 → 13 columns comes from keeping only numeric data."
   ]
  },
  {
   "cell_type": "code",
   "execution_count": 23,
   "id": "a826cbf8-1bb1-44a3-a4dd-81cfc1cbf5e5",
   "metadata": {},
   "outputs": [
    {
     "data": {
      "text/plain": [
       "CO(GT)           0\n",
       "PT08.S1(CO)      0\n",
       "NMHC(GT)         0\n",
       "C6H6(GT)         0\n",
       "PT08.S2(NMHC)    0\n",
       "NOx(GT)          0\n",
       "PT08.S3(NOx)     0\n",
       "NO2(GT)          0\n",
       "PT08.S4(NO2)     0\n",
       "PT08.S5(O3)      0\n",
       "T                0\n",
       "RH               0\n",
       "AH               0\n",
       "dtype: int64"
      ]
     },
     "execution_count": 23,
     "metadata": {},
     "output_type": "execute_result"
    }
   ],
   "source": [
    "df_daily.isnull().sum()"
   ]
  },
  {
   "cell_type": "code",
   "execution_count": 24,
   "id": "ba85a185-df43-4ff1-9971-d51c2eed5554",
   "metadata": {},
   "outputs": [
    {
     "data": {
      "text/html": [
       "<div>\n",
       "<style scoped>\n",
       "    .dataframe tbody tr th:only-of-type {\n",
       "        vertical-align: middle;\n",
       "    }\n",
       "\n",
       "    .dataframe tbody tr th {\n",
       "        vertical-align: top;\n",
       "    }\n",
       "\n",
       "    .dataframe thead th {\n",
       "        text-align: right;\n",
       "    }\n",
       "</style>\n",
       "<table border=\"1\" class=\"dataframe\">\n",
       "  <thead>\n",
       "    <tr style=\"text-align: right;\">\n",
       "      <th></th>\n",
       "      <th>CO(GT)</th>\n",
       "      <th>PT08.S1(CO)</th>\n",
       "      <th>NMHC(GT)</th>\n",
       "      <th>C6H6(GT)</th>\n",
       "      <th>PT08.S2(NMHC)</th>\n",
       "      <th>NOx(GT)</th>\n",
       "      <th>PT08.S3(NOx)</th>\n",
       "      <th>NO2(GT)</th>\n",
       "      <th>PT08.S4(NO2)</th>\n",
       "      <th>PT08.S5(O3)</th>\n",
       "      <th>T</th>\n",
       "      <th>RH</th>\n",
       "      <th>AH</th>\n",
       "    </tr>\n",
       "    <tr>\n",
       "      <th>datetime</th>\n",
       "      <th></th>\n",
       "      <th></th>\n",
       "      <th></th>\n",
       "      <th></th>\n",
       "      <th></th>\n",
       "      <th></th>\n",
       "      <th></th>\n",
       "      <th></th>\n",
       "      <th></th>\n",
       "      <th></th>\n",
       "      <th></th>\n",
       "      <th></th>\n",
       "      <th></th>\n",
       "    </tr>\n",
       "  </thead>\n",
       "  <tbody>\n",
       "    <tr>\n",
       "      <th>2004-03-10</th>\n",
       "      <td>1.966667</td>\n",
       "      <td>1316.500000</td>\n",
       "      <td>86.500000</td>\n",
       "      <td>8.450000</td>\n",
       "      <td>912.333333</td>\n",
       "      <td>132.000000</td>\n",
       "      <td>1167.333333</td>\n",
       "      <td>108.833333</td>\n",
       "      <td>1545.500000</td>\n",
       "      <td>1096.000000</td>\n",
       "      <td>12.033333</td>\n",
       "      <td>54.900000</td>\n",
       "      <td>0.765633</td>\n",
       "    </tr>\n",
       "    <tr>\n",
       "      <th>2004-03-11</th>\n",
       "      <td>-6.187500</td>\n",
       "      <td>1244.166667</td>\n",
       "      <td>104.500000</td>\n",
       "      <td>7.979167</td>\n",
       "      <td>851.958333</td>\n",
       "      <td>130.041667</td>\n",
       "      <td>1277.250000</td>\n",
       "      <td>87.375000</td>\n",
       "      <td>1522.833333</td>\n",
       "      <td>885.250000</td>\n",
       "      <td>9.837500</td>\n",
       "      <td>64.075000</td>\n",
       "      <td>0.775767</td>\n",
       "    </tr>\n",
       "    <tr>\n",
       "      <th>2004-03-12</th>\n",
       "      <td>-14.095833</td>\n",
       "      <td>1281.666667</td>\n",
       "      <td>141.500000</td>\n",
       "      <td>12.129167</td>\n",
       "      <td>1008.291667</td>\n",
       "      <td>142.583333</td>\n",
       "      <td>1101.875000</td>\n",
       "      <td>89.916667</td>\n",
       "      <td>1627.291667</td>\n",
       "      <td>1084.375000</td>\n",
       "      <td>11.287500</td>\n",
       "      <td>51.095833</td>\n",
       "      <td>0.663104</td>\n",
       "    </tr>\n",
       "    <tr>\n",
       "      <th>2004-03-13</th>\n",
       "      <td>-5.750000</td>\n",
       "      <td>1330.666667</td>\n",
       "      <td>139.250000</td>\n",
       "      <td>10.916667</td>\n",
       "      <td>992.833333</td>\n",
       "      <td>168.416667</td>\n",
       "      <td>993.208333</td>\n",
       "      <td>105.583333</td>\n",
       "      <td>1595.791667</td>\n",
       "      <td>1245.916667</td>\n",
       "      <td>12.866667</td>\n",
       "      <td>51.533333</td>\n",
       "      <td>0.732296</td>\n",
       "    </tr>\n",
       "    <tr>\n",
       "      <th>2004-03-14</th>\n",
       "      <td>-5.966667</td>\n",
       "      <td>1361.125000</td>\n",
       "      <td>116.958333</td>\n",
       "      <td>9.637500</td>\n",
       "      <td>943.916667</td>\n",
       "      <td>132.166667</td>\n",
       "      <td>1001.291667</td>\n",
       "      <td>97.458333</td>\n",
       "      <td>1602.375000</td>\n",
       "      <td>1234.208333</td>\n",
       "      <td>16.012500</td>\n",
       "      <td>48.850000</td>\n",
       "      <td>0.849671</td>\n",
       "    </tr>\n",
       "  </tbody>\n",
       "</table>\n",
       "</div>"
      ],
      "text/plain": [
       "               CO(GT)  PT08.S1(CO)    NMHC(GT)   C6H6(GT)  PT08.S2(NMHC)  \\\n",
       "datetime                                                                   \n",
       "2004-03-10   1.966667  1316.500000   86.500000   8.450000     912.333333   \n",
       "2004-03-11  -6.187500  1244.166667  104.500000   7.979167     851.958333   \n",
       "2004-03-12 -14.095833  1281.666667  141.500000  12.129167    1008.291667   \n",
       "2004-03-13  -5.750000  1330.666667  139.250000  10.916667     992.833333   \n",
       "2004-03-14  -5.966667  1361.125000  116.958333   9.637500     943.916667   \n",
       "\n",
       "               NOx(GT)  PT08.S3(NOx)     NO2(GT)  PT08.S4(NO2)  PT08.S5(O3)  \\\n",
       "datetime                                                                      \n",
       "2004-03-10  132.000000   1167.333333  108.833333   1545.500000  1096.000000   \n",
       "2004-03-11  130.041667   1277.250000   87.375000   1522.833333   885.250000   \n",
       "2004-03-12  142.583333   1101.875000   89.916667   1627.291667  1084.375000   \n",
       "2004-03-13  168.416667    993.208333  105.583333   1595.791667  1245.916667   \n",
       "2004-03-14  132.166667   1001.291667   97.458333   1602.375000  1234.208333   \n",
       "\n",
       "                    T         RH        AH  \n",
       "datetime                                    \n",
       "2004-03-10  12.033333  54.900000  0.765633  \n",
       "2004-03-11   9.837500  64.075000  0.775767  \n",
       "2004-03-12  11.287500  51.095833  0.663104  \n",
       "2004-03-13  12.866667  51.533333  0.732296  \n",
       "2004-03-14  16.012500  48.850000  0.849671  "
      ]
     },
     "execution_count": 24,
     "metadata": {},
     "output_type": "execute_result"
    }
   ],
   "source": [
    "df_daily.head()"
   ]
  },
  {
   "cell_type": "code",
   "execution_count": 47,
   "id": "a9012062-c211-48d0-80bc-aef735b8294a",
   "metadata": {},
   "outputs": [],
   "source": [
    "import numpy as np\n",
    "\n",
    "df_daily[df_daily.select_dtypes(include=['number']).columns] = (\n",
    "    df_daily.select_dtypes(include=['number']).mask(df_daily.select_dtypes(include=['number']) < 0, np.nan)\n",
    ")"
   ]
  },
  {
   "cell_type": "code",
   "execution_count": 53,
   "id": "a0b70f03-169e-415d-9a28-6f29487e3df9",
   "metadata": {},
   "outputs": [],
   "source": [
    "df_daily = df_daily.interpolate(method='linear')   # smooth interpolation\n",
    "df_daily = df_daily.bfill().ffill()                # fill edges if needed"
   ]
  },
  {
   "cell_type": "code",
   "execution_count": 63,
   "id": "e47c02c4-931f-46e5-8444-db1e6bbd4e93",
   "metadata": {},
   "outputs": [
    {
     "data": {
      "text/plain": [
       "CO(GT)           0\n",
       "PT08.S1(CO)      0\n",
       "NMHC(GT)         0\n",
       "C6H6(GT)         0\n",
       "PT08.S2(NMHC)    0\n",
       "NOx(GT)          0\n",
       "PT08.S3(NOx)     0\n",
       "NO2(GT)          0\n",
       "PT08.S4(NO2)     0\n",
       "PT08.S5(O3)      0\n",
       "T                0\n",
       "RH               0\n",
       "AH               0\n",
       "dtype: int64"
      ]
     },
     "execution_count": 63,
     "metadata": {},
     "output_type": "execute_result"
    }
   ],
   "source": [
    "df_daily.isnull().sum()"
   ]
  },
  {
   "cell_type": "code",
   "execution_count": 65,
   "id": "6c2f0df5-a37d-4bb4-9ef4-2566076abf53",
   "metadata": {},
   "outputs": [
    {
     "data": {
      "image/png": "[encoded data removed]",
      "text/plain": [
       "<Figure size 600x400 with 1 Axes>"
      ]
     },
     "metadata": {},
     "output_type": "display_data"
    }
   ],
   "source": [
    "import matplotlib.pyplot as plt\n",
    "\n",
    "# Boxplot\n",
    "df_daily[['CO(GT)', 'NO2(GT)']].plot(kind='box', figsize=(6,4))\n",
    "plt.show()"
   ]
  },
  {
   "cell_type": "code",
   "execution_count": 67,
   "id": "deb606ad-0dfc-4de1-b876-e27449fde730",
   "metadata": {},
   "outputs": [
    {
     "data": {
      "text/html": [
       "<div>\n",
       "<style scoped>\n",
       "    .dataframe tbody tr th:only-of-type {\n",
       "        vertical-align: middle;\n",
       "    }\n",
       "\n",
       "    .dataframe tbody tr th {\n",
       "        vertical-align: top;\n",
       "    }\n",
       "\n",
       "    .dataframe thead th {\n",
       "        text-align: right;\n",
       "    }\n",
       "</style>\n",
       "<table border=\"1\" class=\"dataframe\">\n",
       "  <thead>\n",
       "    <tr style=\"text-align: right;\">\n",
       "      <th></th>\n",
       "      <th>CO(GT)</th>\n",
       "      <th>NO2(GT)</th>\n",
       "    </tr>\n",
       "  </thead>\n",
       "  <tbody>\n",
       "    <tr>\n",
       "      <th>count</th>\n",
       "      <td>391.000000</td>\n",
       "      <td>391.000000</td>\n",
       "    </tr>\n",
       "    <tr>\n",
       "      <th>mean</th>\n",
       "      <td>2.154689</td>\n",
       "      <td>95.217391</td>\n",
       "    </tr>\n",
       "    <tr>\n",
       "      <th>std</th>\n",
       "      <td>0.690274</td>\n",
       "      <td>33.477066</td>\n",
       "    </tr>\n",
       "    <tr>\n",
       "      <th>min</th>\n",
       "      <td>0.612500</td>\n",
       "      <td>3.000000</td>\n",
       "    </tr>\n",
       "    <tr>\n",
       "      <th>25%</th>\n",
       "      <td>1.691667</td>\n",
       "      <td>72.895833</td>\n",
       "    </tr>\n",
       "    <tr>\n",
       "      <th>50%</th>\n",
       "      <td>2.087500</td>\n",
       "      <td>92.583333</td>\n",
       "    </tr>\n",
       "    <tr>\n",
       "      <th>75%</th>\n",
       "      <td>2.626750</td>\n",
       "      <td>115.526042</td>\n",
       "    </tr>\n",
       "    <tr>\n",
       "      <th>max</th>\n",
       "      <td>5.320833</td>\n",
       "      <td>205.708333</td>\n",
       "    </tr>\n",
       "  </tbody>\n",
       "</table>\n",
       "</div>"
      ],
      "text/plain": [
       "           CO(GT)     NO2(GT)\n",
       "count  391.000000  391.000000\n",
       "mean     2.154689   95.217391\n",
       "std      0.690274   33.477066\n",
       "min      0.612500    3.000000\n",
       "25%      1.691667   72.895833\n",
       "50%      2.087500   92.583333\n",
       "75%      2.626750  115.526042\n",
       "max      5.320833  205.708333"
      ]
     },
     "execution_count": 67,
     "metadata": {},
     "output_type": "execute_result"
    }
   ],
   "source": [
    "df_daily[['CO(GT)', 'NO2(GT)']].describe()"
   ]
  },
  {
   "cell_type": "code",
   "execution_count": 69,
   "id": "0676427f-8446-4f61-9e5e-a39ee3563b7f",
   "metadata": {},
   "outputs": [],
   "source": [
    "# Tukey’s method for outlier detection\n",
    "def outliers(df_daily):\n",
    "    Q1 = df_daily.quantile(0.25)\n",
    "    Q3 = df_daily.quantile(0.75)\n",
    "    IQR = Q3 - Q1\n",
    "    lower = Q1 - 1.5 * IQR\n",
    "    upper = Q3 + 1.5 * IQR\n",
    "    return df_daily.clip(lower, upper)"
   ]
  },
  {
   "cell_type": "code",
   "execution_count": 71,
   "id": "cfdcfe7c-ca49-48e1-b885-ed98d50067c5",
   "metadata": {},
   "outputs": [],
   "source": [
    "df_daily['CO(GT)'] = outliers(df_daily['CO(GT)'])\n",
    "df_daily['NO2(GT)'] = outliers(df_daily['NO2(GT)'])"
   ]
  },
  {
   "cell_type": "code",
   "execution_count": 73,
   "id": "b0dd5bef-1ba1-4c72-82fa-3f049888b75c",
   "metadata": {},
   "outputs": [
    {
     "data": {
      "text/plain": [
       "(391, 13)"
      ]
     },
     "execution_count": 73,
     "metadata": {},
     "output_type": "execute_result"
    }
   ],
   "source": [
    "df_daily.shape"
   ]
  },
  {
   "cell_type": "markdown",
   "id": "6edcc2d1",
   "metadata": {},
   "source": [
    "### 2. Exploratory Data Analysis (EDA)\n",
    "- **Trend Analysis**:\n",
    "  - Visualize the long-term trends of `CO(GT)` and `NO₂(GT)`.\n",
    "- **Seasonality**:\n",
    "  - Identify seasonal patterns (e.g., daily or yearly fluctuations).\n",
    "- **Correlation Analysis**:\n",
    "  - Explore relationships between `CO(GT)`, `NO₂(GT)`, and other features (e.g., temperature or humidity).\n"
   ]
  },
  {
   "cell_type": "code",
   "execution_count": 76,
   "id": "016b2ced",
   "metadata": {},
   "outputs": [
    {
     "data": {
      "text/html": [
       "<div>\n",
       "<style scoped>\n",
       "    .dataframe tbody tr th:only-of-type {\n",
       "        vertical-align: middle;\n",
       "    }\n",
       "\n",
       "    .dataframe tbody tr th {\n",
       "        vertical-align: top;\n",
       "    }\n",
       "\n",
       "    .dataframe thead th {\n",
       "        text-align: right;\n",
       "    }\n",
       "</style>\n",
       "<table border=\"1\" class=\"dataframe\">\n",
       "  <thead>\n",
       "    <tr style=\"text-align: right;\">\n",
       "      <th></th>\n",
       "      <th>CO(GT)</th>\n",
       "      <th>PT08.S1(CO)</th>\n",
       "      <th>NMHC(GT)</th>\n",
       "      <th>C6H6(GT)</th>\n",
       "      <th>PT08.S2(NMHC)</th>\n",
       "      <th>NOx(GT)</th>\n",
       "      <th>PT08.S3(NOx)</th>\n",
       "      <th>NO2(GT)</th>\n",
       "      <th>PT08.S4(NO2)</th>\n",
       "      <th>PT08.S5(O3)</th>\n",
       "      <th>T</th>\n",
       "      <th>RH</th>\n",
       "      <th>AH</th>\n",
       "    </tr>\n",
       "    <tr>\n",
       "      <th>datetime</th>\n",
       "      <th></th>\n",
       "      <th></th>\n",
       "      <th></th>\n",
       "      <th></th>\n",
       "      <th></th>\n",
       "      <th></th>\n",
       "      <th></th>\n",
       "      <th></th>\n",
       "      <th></th>\n",
       "      <th></th>\n",
       "      <th></th>\n",
       "      <th></th>\n",
       "      <th></th>\n",
       "    </tr>\n",
       "  </thead>\n",
       "  <tbody>\n",
       "    <tr>\n",
       "      <th>2004-03-10</th>\n",
       "      <td>1.966667</td>\n",
       "      <td>1316.500000</td>\n",
       "      <td>86.500000</td>\n",
       "      <td>8.450000</td>\n",
       "      <td>912.333333</td>\n",
       "      <td>132.000000</td>\n",
       "      <td>1167.333333</td>\n",
       "      <td>108.833333</td>\n",
       "      <td>1545.500000</td>\n",
       "      <td>1096.000000</td>\n",
       "      <td>12.033333</td>\n",
       "      <td>54.900000</td>\n",
       "      <td>0.765633</td>\n",
       "    </tr>\n",
       "    <tr>\n",
       "      <th>2004-03-11</th>\n",
       "      <td>1.962500</td>\n",
       "      <td>1244.166667</td>\n",
       "      <td>104.500000</td>\n",
       "      <td>7.979167</td>\n",
       "      <td>851.958333</td>\n",
       "      <td>130.041667</td>\n",
       "      <td>1277.250000</td>\n",
       "      <td>87.375000</td>\n",
       "      <td>1522.833333</td>\n",
       "      <td>885.250000</td>\n",
       "      <td>9.837500</td>\n",
       "      <td>64.075000</td>\n",
       "      <td>0.775767</td>\n",
       "    </tr>\n",
       "    <tr>\n",
       "      <th>2004-03-12</th>\n",
       "      <td>1.958333</td>\n",
       "      <td>1281.666667</td>\n",
       "      <td>141.500000</td>\n",
       "      <td>12.129167</td>\n",
       "      <td>1008.291667</td>\n",
       "      <td>142.583333</td>\n",
       "      <td>1101.875000</td>\n",
       "      <td>89.916667</td>\n",
       "      <td>1627.291667</td>\n",
       "      <td>1084.375000</td>\n",
       "      <td>11.287500</td>\n",
       "      <td>51.095833</td>\n",
       "      <td>0.663104</td>\n",
       "    </tr>\n",
       "    <tr>\n",
       "      <th>2004-03-13</th>\n",
       "      <td>1.954167</td>\n",
       "      <td>1330.666667</td>\n",
       "      <td>139.250000</td>\n",
       "      <td>10.916667</td>\n",
       "      <td>992.833333</td>\n",
       "      <td>168.416667</td>\n",
       "      <td>993.208333</td>\n",
       "      <td>105.583333</td>\n",
       "      <td>1595.791667</td>\n",
       "      <td>1245.916667</td>\n",
       "      <td>12.866667</td>\n",
       "      <td>51.533333</td>\n",
       "      <td>0.732296</td>\n",
       "    </tr>\n",
       "    <tr>\n",
       "      <th>2004-03-14</th>\n",
       "      <td>1.950000</td>\n",
       "      <td>1361.125000</td>\n",
       "      <td>116.958333</td>\n",
       "      <td>9.637500</td>\n",
       "      <td>943.916667</td>\n",
       "      <td>132.166667</td>\n",
       "      <td>1001.291667</td>\n",
       "      <td>97.458333</td>\n",
       "      <td>1602.375000</td>\n",
       "      <td>1234.208333</td>\n",
       "      <td>16.012500</td>\n",
       "      <td>48.850000</td>\n",
       "      <td>0.849671</td>\n",
       "    </tr>\n",
       "  </tbody>\n",
       "</table>\n",
       "</div>"
      ],
      "text/plain": [
       "              CO(GT)  PT08.S1(CO)    NMHC(GT)   C6H6(GT)  PT08.S2(NMHC)  \\\n",
       "datetime                                                                  \n",
       "2004-03-10  1.966667  1316.500000   86.500000   8.450000     912.333333   \n",
       "2004-03-11  1.962500  1244.166667  104.500000   7.979167     851.958333   \n",
       "2004-03-12  1.958333  1281.666667  141.500000  12.129167    1008.291667   \n",
       "2004-03-13  1.954167  1330.666667  139.250000  10.916667     992.833333   \n",
       "2004-03-14  1.950000  1361.125000  116.958333   9.637500     943.916667   \n",
       "\n",
       "               NOx(GT)  PT08.S3(NOx)     NO2(GT)  PT08.S4(NO2)  PT08.S5(O3)  \\\n",
       "datetime                                                                      \n",
       "2004-03-10  132.000000   1167.333333  108.833333   1545.500000  1096.000000   \n",
       "2004-03-11  130.041667   1277.250000   87.375000   1522.833333   885.250000   \n",
       "2004-03-12  142.583333   1101.875000   89.916667   1627.291667  1084.375000   \n",
       "2004-03-13  168.416667    993.208333  105.583333   1595.791667  1245.916667   \n",
       "2004-03-14  132.166667   1001.291667   97.458333   1602.375000  1234.208333   \n",
       "\n",
       "                    T         RH        AH  \n",
       "datetime                                    \n",
       "2004-03-10  12.033333  54.900000  0.765633  \n",
       "2004-03-11   9.837500  64.075000  0.775767  \n",
       "2004-03-12  11.287500  51.095833  0.663104  \n",
       "2004-03-13  12.866667  51.533333  0.732296  \n",
       "2004-03-14  16.012500  48.850000  0.849671  "
      ]
     },
     "execution_count": 76,
     "metadata": {},
     "output_type": "execute_result"
    }
   ],
   "source": [
    "df_daily.head()"
   ]
  },
  {
   "cell_type": "code",
   "execution_count": 78,
   "id": "b58baabb",
   "metadata": {},
   "outputs": [
    {
     "data": {
      "image/png": "[encoded data removed]",
      "text/plain": [
       "<Figure size 1000x600 with 1 Axes>"
      ]
     },
     "metadata": {},
     "output_type": "display_data"
    }
   ],
   "source": [
    "import matplotlib.pyplot as plt\n",
    "\n",
    "plt.figure(figsize=(10,6))\n",
    "plt.plot(df_daily.index, df_daily['CO(GT)'], label='CO(GT)')\n",
    "plt.plot(df_daily.index, df_daily['NO2(GT)'], label='NO₂(GT)')\n",
    "plt.title(\"Trend of CO and NO₂ over Time\")\n",
    "plt.xlabel(\"Date\")\n",
    "plt.ylabel(\"Concentration\")\n",
    "plt.legend()\n",
    "plt.show()"
   ]
  },
  {
   "cell_type": "code",
   "execution_count": 82,
   "id": "fc490e22-7dc1-44d4-8492-c212c511e95f",
   "metadata": {},
   "outputs": [
    {
     "name": "stdout",
     "output_type": "stream",
     "text": [
      "ADF Statistics: -2.8061534914849133\n",
      "p-value: 0.05740014750068582\n"
     ]
    }
   ],
   "source": [
    "from statsmodels.tsa.stattools import adfuller\n",
    "result = adfuller(df_daily['NO2(GT)'])\n",
    "print('ADF Statistics:', result[0])\n",
    "print('p-value:', result[1])"
   ]
  },
  {
   "cell_type": "code",
   "execution_count": 84,
   "id": "d3246175-dea2-47b9-a2ab-a9270f7e91d5",
   "metadata": {},
   "outputs": [],
   "source": [
    "import seaborn as sns"
   ]
  },
  {
   "cell_type": "code",
   "execution_count": 86,
   "id": "8f66f8ff-ed3d-445a-bf54-2d4e9117657e",
   "metadata": {},
   "outputs": [
    {
     "data": {
      "text/plain": [
       "<Figure size 1000x600 with 0 Axes>"
      ]
     },
     "metadata": {},
     "output_type": "display_data"
    },
    {
     "data": {
      "image/png": "[encoded data removed]",
      "text/plain": [
       "<Figure size 640x480 with 1 Axes>"
      ]
     },
     "metadata": {},
     "output_type": "display_data"
    }
   ],
   "source": [
    "df_daily['day'] = df_daily.index.day\n",
    "\n",
    "monthly_avg = df_daily.groupby('day')[['CO(GT)', 'NO2(GT)']].mean()\n",
    "plt.figure(figsize=(10,6))\n",
    "monthly_avg.plot()\n",
    "plt.title(\"Daily average Seasonality of CO & NO₂\")\n",
    "plt.xlabel(\"Day\")\n",
    "plt.ylabel(\"Concentration\")\n",
    "plt.show()"
   ]
  },
  {
   "cell_type": "code",
   "execution_count": 88,
   "id": "cd48daa2-7c2b-4c4d-a7fe-9dea03681dae",
   "metadata": {},
   "outputs": [
    {
     "data": {
      "image/png": "[encoded data removed]",
      "text/plain": [
       "<Figure size 800x500 with 1 Axes>"
      ]
     },
     "metadata": {},
     "output_type": "display_data"
    }
   ],
   "source": [
    "# Extract month\n",
    "df_daily['month'] = df_daily.index.month\n",
    "# Average per month\n",
    "monthly_avg = df_daily.groupby('month')[['CO(GT)', 'NO2(GT)']].mean() \n",
    "monthly_avg.plot(kind='barh', figsize=(8,5)) \n",
    "\n",
    "plt.title(\"Average CO & NO₂ by Month\")\n",
    "plt.ylabel(\"Month (1=Jan, 12=Dec)\")\n",
    "plt.xlabel(\"Concentration\")\n",
    "plt.show() "
   ]
  },
  {
   "cell_type": "markdown",
   "id": "b8290f5e-bc9f-4f80-8bf5-d17058d0f79f",
   "metadata": {},
   "source": [
    "### Analysis result:\n",
    "- **Monthly average analysis**: In year ending months including Jan, Feb, Mar, Nov,Dec have over 90 concentration of NO2(GT). This Bar chart there months also indicates comparatively higher concentration of CO(GT). But middle of the year when NO2(GT) concentration is slight lower there CO(GT) also have lower concentration.\n",
    "- **Correlation**: NO2(GT) and CO(GT) are positively correlated which is 0.38 . Now, temparature(T), Humidity(AH,RH) are highly correlated features. Temparature has negatively lower correlation with NO2(GT) and CO(GT)."
   ]
  },
  {
   "cell_type": "code",
   "execution_count": 93,
   "id": "ae4e0b57-e12f-42d2-8c3c-5d5ac3b1c868",
   "metadata": {},
   "outputs": [
    {
     "data": {
      "image/png": "[encoded data removed]",
      "text/plain": [
       "<Figure size 800x600 with 2 Axes>"
      ]
     },
     "metadata": {},
     "output_type": "display_data"
    }
   ],
   "source": [
    "corr = df_daily[['CO(GT)', 'NO2(GT)', 'T', 'RH', 'AH']].corr()\n",
    "\n",
    "plt.figure(figsize=(8,6))\n",
    "sns.heatmap(corr, annot=True, cmap='coolwarm', center=0)\n",
    "plt.title(\"Correlation matrix\")\n",
    "plt.show()"
   ]
  },
  {
   "cell_type": "markdown",
   "id": "b858f031",
   "metadata": {},
   "source": [
    "\n",
    "### 3. Feature Engineering\n",
    "- Create lag features for `CO(GT)` and `NO₂(GT)` to incorporate historical values.\n",
    "- Add time-based features (e.g., hour of the day, day of the week, month).\n",
    "- Include environmental factors (`T`, `RH`, `AH`) as predictors.\n"
   ]
  },
  {
   "cell_type": "code",
   "execution_count": 96,
   "id": "b3178a1a",
   "metadata": {},
   "outputs": [],
   "source": [
    "# Create lag-1 features to see previous vlaues of CO(GT) and NO2(GT)\n",
    "df_daily['CO_lag1'] = df_daily['CO(GT)'].shift(1)\n",
    "df_daily['NO2_lag1'] = df_daily['NO2(GT)'].shift(1)"
   ]
  },
  {
   "cell_type": "code",
   "execution_count": 98,
   "id": "0036049b",
   "metadata": {},
   "outputs": [],
   "source": [
    "df_daily=df_daily.dropna()"
   ]
  },
  {
   "cell_type": "code",
   "execution_count": 100,
   "id": "0cd349ad-c03f-4cfd-8287-35ce8de9ac8c",
   "metadata": {},
   "outputs": [],
   "source": [
    "df_daily['day_of_week'] = df_daily.index.dayofweek  # 0=Monday, 6=Sunday\n",
    "df_daily['week_of_year'] = df_daily.index.isocalendar().week\n",
    "df_daily['month'] = df_daily.index.month\n",
    "df_daily['day_of_month'] = df_daily.index.day"
   ]
  },
  {
   "cell_type": "code",
   "execution_count": 102,
   "id": "2e6078c4-f078-4e05-ae87-83ad2ce9938d",
   "metadata": {
    "scrolled": true
   },
   "outputs": [
    {
     "data": {
      "text/plain": [
       "array([ 851.95833333, 1008.29166667,  992.83333333,  943.91666667,\n",
       "       1138.91666667, 1061.91666667, 1099.08333333, 1072.58333333,\n",
       "       1058.        ,  911.95833333,  870.625     ,  911.54166667,\n",
       "        896.625     ,  888.875     ,  859.70833333,  892.5       ,\n",
       "        873.125     ,  783.45833333,  762.20833333,  912.91666667,\n",
       "        863.29166667,  859.125     , 1059.29166667,  989.70833333,\n",
       "        856.79166667,  970.54166667,  969.875     ,  823.16666667,\n",
       "        962.91666667,  916.33333333,  869.75      ,  707.95833333,\n",
       "        599.75      ,  912.83333333,  959.45833333, 1085.25      ,\n",
       "       1069.        ,  828.625     ,  800.625     ,  872.5       ,\n",
       "       1034.58333333, 1078.33333333, 1072.29166667, 1163.16666667,\n",
       "        976.33333333,  695.125     ,  778.58333333,  985.41666667,\n",
       "       1111.04166667, 1141.29166667, 1103.58333333,  913.70833333,\n",
       "        858.91666667,  995.5       ,  971.70833333,  942.91666667,\n",
       "        897.33333333,  936.875     ,  839.5       ,  837.25      ,\n",
       "       1041.54166667, 1111.5       , 1062.625     ,  974.91666667,\n",
       "       1069.25      ,  930.125     ,  841.20833333,  886.83333333,\n",
       "       1018.70833333, 1041.95833333, 1055.70833333, 1039.45833333,\n",
       "       1006.66666667,  812.04166667,  781.875     ,  712.45833333,\n",
       "        663.79166667, 1040.79166667,  984.83333333,  776.70833333,\n",
       "        788.625     ,  977.125     , 1021.875     ,  856.70833333,\n",
       "        986.75      ,  938.83333333,  891.29166667,  751.95833333,\n",
       "       1031.83333333, 1086.5       , 1114.125     , 1114.5       ,\n",
       "       1056.25      ,  901.54166667,  641.70833333,  736.20833333,\n",
       "       1011.08333333, 1015.45833333, 1022.83333333, 1035.58333333,\n",
       "        408.75      ,  598.77083333,  788.79166667, 1031.29166667,\n",
       "       1061.125     ,  914.04166667,  986.5       ,  877.16666667,\n",
       "        858.75      , 1040.70833333, 1082.125     , 1080.33333333,\n",
       "       1038.54166667, 1022.04166667,  899.75      ,  810.58333333,\n",
       "       1011.79166667, 1106.41666667, 1128.54166667, 1109.625     ,\n",
       "        990.5       ,  822.16666667,  768.45833333,  907.33333333,\n",
       "       1022.29166667, 1081.91666667, 1040.58333333, 1034.20833333,\n",
       "        917.08333333,  805.33333333, 1027.16666667, 1089.91666667,\n",
       "       1058.29166667, 1120.33333333, 1074.54166667,  858.125     ,\n",
       "        677.29166667,  876.58333333,  850.54166667,  993.66666667,\n",
       "        999.83333333, 1034.66666667,  888.95833333,  792.58333333,\n",
       "        930.91666667,  958.625     ,  902.04166667,  869.29166667,\n",
       "        980.79166667,  829.45833333,  752.41666667,  708.625     ,\n",
       "        920.25      ,  855.45833333,  834.45833333,  760.45833333,\n",
       "        722.91666667,  693.25      ,  797.625     ,  828.70833333,\n",
       "        847.54166667,  798.20833333,  786.91666667,  712.70833333,\n",
       "        757.08333333,  812.375     ,  853.04166667,  872.45833333,\n",
       "         18.625     ,  356.60416667,  694.58333333,  826.70833333,\n",
       "        973.875     , 1050.25      , 1072.75      , 1069.41666667,\n",
       "        938.33333333,  762.04166667,  794.70833333,  898.        ,\n",
       "        228.25      , 1066.45833333, 1009.5       ,  928.125     ,\n",
       "        884.33333333, 1126.79166667, 1016.375     , 1088.45833333,\n",
       "       1015.5       ,  882.95833333,  814.08333333,  941.54166667,\n",
       "       1095.33333333, 1124.70833333, 1113.45833333, 1075.16666667,\n",
       "       1021.58333333,  751.16666667,  821.29166667,  982.91666667,\n",
       "       1114.79166667, 1092.41666667, 1129.41666667, 1097.45833333,\n",
       "        983.33333333,  893.625     , 1122.91666667, 1189.66666667,\n",
       "       1151.29166667, 1141.04166667, 1144.125     , 1101.41666667,\n",
       "        858.375     , 1053.625     ,  863.33333333,  748.95833333,\n",
       "        875.29166667, 1039.29166667,  851.5       ,  810.95833333,\n",
       "       1130.        , 1216.41666667, 1355.16666667, 1213.        ,\n",
       "       1189.45833333, 1079.5       ,  972.16666667, 1249.54166667,\n",
       "       1243.41666667, 1052.95833333, 1080.70833333, 1020.        ,\n",
       "       1091.66666667,  938.79166667, 1094.58333333, 1297.25      ,\n",
       "       1081.66666667, 1210.125     , 1178.95833333, 1034.41666667,\n",
       "        747.83333333,  848.20833333,  950.125     ,  843.25      ,\n",
       "       1061.29166667,  858.29166667,  869.375     ,  524.625     ,\n",
       "        776.        ,  926.20833333, 1074.        , 1098.58333333,\n",
       "       1014.41666667,  909.33333333,  857.625     , 1239.83333333,\n",
       "       1353.16666667, 1158.91666667, 1100.41666667, 1268.        ,\n",
       "       1157.33333333,  839.58333333, 1000.375     ,  962.25      ,\n",
       "       1050.45833333, 1182.54166667, 1147.95833333,  939.20833333,\n",
       "        707.54166667,  982.41666667,  984.25      ,  849.125     ,\n",
       "        732.20833333,  804.        ,  895.5       , 1008.70833333,\n",
       "       1149.54166667,  735.25      ,  767.53125   ,  799.8125    ,\n",
       "        832.09375   ,  864.375     ,  934.08333333,  753.375     ,\n",
       "        864.29166667,  870.16666667, 1108.58333333, 1081.04166667,\n",
       "        723.79166667,  783.16666667,  922.29166667,  691.625     ,\n",
       "        697.45833333,  696.375     ,  853.79166667,  678.54166667,\n",
       "        796.01388889,  913.48611111, 1030.95833333,  811.375     ,\n",
       "        965.16666667,  988.45833333,  822.58333333, 1032.375     ,\n",
       "       1072.5       , 1135.79166667, 1043.79166667, 1083.29166667,\n",
       "        977.45833333,  749.54166667, 1008.95833333, 1078.79166667,\n",
       "        727.70833333,  947.375     , 1180.91666667, 1105.54166667,\n",
       "        795.29166667,  762.        ,  611.375     ,  636.125     ,\n",
       "        703.375     ,  434.375     ,  518.33333333,  573.83333333,\n",
       "        939.875     , 1016.58333333, 1024.125     , 1027.04166667,\n",
       "        897.16666667,  775.        ,  661.45833333,  727.25      ,\n",
       "        456.29166667,  626.76041667,  797.22916667,  967.69791667,\n",
       "       1138.16666667,  952.66666667,  875.58333333,  760.58333333,\n",
       "        802.45833333,  819.20833333,  809.45833333,  667.08333333,\n",
       "        820.20833333,  842.79166667,  792.875     ,  891.08333333,\n",
       "        937.        ,  768.25      ,  722.04166667,  606.79166667,\n",
       "        618.91666667,  831.125     ,  884.70833333,  994.91666667,\n",
       "        820.08333333,  676.58333333,  739.41666667,  985.875     ,\n",
       "        947.58333333,  907.125     ,  779.20833333,  758.16666667,\n",
       "        968.625     ,  966.79166667, 1000.875     ,  969.95833333,\n",
       "       1007.29166667,  851.83333333,  770.66666667,  967.95833333,\n",
       "        958.16666667, 1039.91666667, 1052.25      , 1051.29166667,\n",
       "        910.54166667,  723.16666667,  745.16666667,  943.41666667,\n",
       "        908.79166667,  749.41666667,  663.        ,  616.29166667,\n",
       "        714.70833333,  862.26666667])"
      ]
     },
     "execution_count": 102,
     "metadata": {},
     "output_type": "execute_result"
    }
   ],
   "source": [
    "df_daily['PT08.S2(NMHC)'].unique()\t"
   ]
  },
  {
   "cell_type": "code",
   "execution_count": null,
   "id": "103aa040-5aea-4e25-bef9-7994f81bb6b4",
   "metadata": {},
   "outputs": [],
   "source": []
  },
  {
   "cell_type": "code",
   "execution_count": 107,
   "id": "bc7ae765-a241-4a48-9d3f-36b5cb489a7c",
   "metadata": {},
   "outputs": [
    {
     "data": {
      "text/html": [
       "<div>\n",
       "<style scoped>\n",
       "    .dataframe tbody tr th:only-of-type {\n",
       "        vertical-align: middle;\n",
       "    }\n",
       "\n",
       "    .dataframe tbody tr th {\n",
       "        vertical-align: top;\n",
       "    }\n",
       "\n",
       "    .dataframe thead th {\n",
       "        text-align: right;\n",
       "    }\n",
       "</style>\n",
       "<table border=\"1\" class=\"dataframe\">\n",
       "  <thead>\n",
       "    <tr style=\"text-align: right;\">\n",
       "      <th></th>\n",
       "      <th>CO(GT)</th>\n",
       "      <th>PT08.S1(CO)</th>\n",
       "      <th>NMHC(GT)</th>\n",
       "      <th>C6H6(GT)</th>\n",
       "      <th>PT08.S2(NMHC)</th>\n",
       "      <th>NOx(GT)</th>\n",
       "      <th>PT08.S3(NOx)</th>\n",
       "      <th>NO2(GT)</th>\n",
       "      <th>PT08.S4(NO2)</th>\n",
       "      <th>PT08.S5(O3)</th>\n",
       "      <th>T</th>\n",
       "      <th>RH</th>\n",
       "      <th>AH</th>\n",
       "      <th>day</th>\n",
       "      <th>month</th>\n",
       "      <th>CO_lag1</th>\n",
       "      <th>NO2_lag1</th>\n",
       "      <th>day_of_week</th>\n",
       "      <th>week_of_year</th>\n",
       "      <th>day_of_month</th>\n",
       "    </tr>\n",
       "    <tr>\n",
       "      <th>datetime</th>\n",
       "      <th></th>\n",
       "      <th></th>\n",
       "      <th></th>\n",
       "      <th></th>\n",
       "      <th></th>\n",
       "      <th></th>\n",
       "      <th></th>\n",
       "      <th></th>\n",
       "      <th></th>\n",
       "      <th></th>\n",
       "      <th></th>\n",
       "      <th></th>\n",
       "      <th></th>\n",
       "      <th></th>\n",
       "      <th></th>\n",
       "      <th></th>\n",
       "      <th></th>\n",
       "      <th></th>\n",
       "      <th></th>\n",
       "      <th></th>\n",
       "    </tr>\n",
       "  </thead>\n",
       "  <tbody>\n",
       "    <tr>\n",
       "      <th>2005-03-31</th>\n",
       "      <td>1.387500</td>\n",
       "      <td>1008.125000</td>\n",
       "      <td>261.416667</td>\n",
       "      <td>5.220833</td>\n",
       "      <td>749.416667</td>\n",
       "      <td>185.083333</td>\n",
       "      <td>795.666667</td>\n",
       "      <td>100.708333</td>\n",
       "      <td>1176.541667</td>\n",
       "      <td>763.833333</td>\n",
       "      <td>17.550000</td>\n",
       "      <td>50.083333</td>\n",
       "      <td>0.951917</td>\n",
       "      <td>31</td>\n",
       "      <td>3</td>\n",
       "      <td>1.916667</td>\n",
       "      <td>122.125000</td>\n",
       "      <td>3</td>\n",
       "      <td>13</td>\n",
       "      <td>31</td>\n",
       "    </tr>\n",
       "    <tr>\n",
       "      <th>2005-04-01</th>\n",
       "      <td>1.120833</td>\n",
       "      <td>903.291667</td>\n",
       "      <td>261.416667</td>\n",
       "      <td>3.412500</td>\n",
       "      <td>663.000000</td>\n",
       "      <td>161.833333</td>\n",
       "      <td>946.875000</td>\n",
       "      <td>107.333333</td>\n",
       "      <td>943.250000</td>\n",
       "      <td>523.958333</td>\n",
       "      <td>15.929167</td>\n",
       "      <td>35.962500</td>\n",
       "      <td>0.636529</td>\n",
       "      <td>1</td>\n",
       "      <td>4</td>\n",
       "      <td>1.387500</td>\n",
       "      <td>100.708333</td>\n",
       "      <td>4</td>\n",
       "      <td>13</td>\n",
       "      <td>1</td>\n",
       "    </tr>\n",
       "    <tr>\n",
       "      <th>2005-04-02</th>\n",
       "      <td>0.854167</td>\n",
       "      <td>890.958333</td>\n",
       "      <td>261.416667</td>\n",
       "      <td>2.529167</td>\n",
       "      <td>616.291667</td>\n",
       "      <td>142.375000</td>\n",
       "      <td>991.750000</td>\n",
       "      <td>100.166667</td>\n",
       "      <td>864.333333</td>\n",
       "      <td>481.750000</td>\n",
       "      <td>15.483333</td>\n",
       "      <td>32.225000</td>\n",
       "      <td>0.546167</td>\n",
       "      <td>2</td>\n",
       "      <td>4</td>\n",
       "      <td>1.120833</td>\n",
       "      <td>107.333333</td>\n",
       "      <td>5</td>\n",
       "      <td>13</td>\n",
       "      <td>2</td>\n",
       "    </tr>\n",
       "    <tr>\n",
       "      <th>2005-04-03</th>\n",
       "      <td>1.141667</td>\n",
       "      <td>981.375000</td>\n",
       "      <td>261.416667</td>\n",
       "      <td>4.316667</td>\n",
       "      <td>714.708333</td>\n",
       "      <td>167.666667</td>\n",
       "      <td>856.166667</td>\n",
       "      <td>111.125000</td>\n",
       "      <td>985.166667</td>\n",
       "      <td>717.083333</td>\n",
       "      <td>18.383333</td>\n",
       "      <td>33.695833</td>\n",
       "      <td>0.617583</td>\n",
       "      <td>3</td>\n",
       "      <td>4</td>\n",
       "      <td>0.854167</td>\n",
       "      <td>100.166667</td>\n",
       "      <td>6</td>\n",
       "      <td>13</td>\n",
       "      <td>3</td>\n",
       "    </tr>\n",
       "    <tr>\n",
       "      <th>2005-04-04</th>\n",
       "      <td>1.141667</td>\n",
       "      <td>1090.533333</td>\n",
       "      <td>261.416667</td>\n",
       "      <td>8.440000</td>\n",
       "      <td>862.266667</td>\n",
       "      <td>263.333333</td>\n",
       "      <td>745.266667</td>\n",
       "      <td>122.000000</td>\n",
       "      <td>1195.066667</td>\n",
       "      <td>995.266667</td>\n",
       "      <td>16.960000</td>\n",
       "      <td>42.786667</td>\n",
       "      <td>0.724787</td>\n",
       "      <td>4</td>\n",
       "      <td>4</td>\n",
       "      <td>1.141667</td>\n",
       "      <td>111.125000</td>\n",
       "      <td>0</td>\n",
       "      <td>14</td>\n",
       "      <td>4</td>\n",
       "    </tr>\n",
       "  </tbody>\n",
       "</table>\n",
       "</div>"
      ],
      "text/plain": [
       "              CO(GT)  PT08.S1(CO)    NMHC(GT)  C6H6(GT)  PT08.S2(NMHC)  \\\n",
       "datetime                                                                 \n",
       "2005-03-31  1.387500  1008.125000  261.416667  5.220833     749.416667   \n",
       "2005-04-01  1.120833   903.291667  261.416667  3.412500     663.000000   \n",
       "2005-04-02  0.854167   890.958333  261.416667  2.529167     616.291667   \n",
       "2005-04-03  1.141667   981.375000  261.416667  4.316667     714.708333   \n",
       "2005-04-04  1.141667  1090.533333  261.416667  8.440000     862.266667   \n",
       "\n",
       "               NOx(GT)  PT08.S3(NOx)     NO2(GT)  PT08.S4(NO2)  PT08.S5(O3)  \\\n",
       "datetime                                                                      \n",
       "2005-03-31  185.083333    795.666667  100.708333   1176.541667   763.833333   \n",
       "2005-04-01  161.833333    946.875000  107.333333    943.250000   523.958333   \n",
       "2005-04-02  142.375000    991.750000  100.166667    864.333333   481.750000   \n",
       "2005-04-03  167.666667    856.166667  111.125000    985.166667   717.083333   \n",
       "2005-04-04  263.333333    745.266667  122.000000   1195.066667   995.266667   \n",
       "\n",
       "                    T         RH        AH  day  month   CO_lag1    NO2_lag1  \\\n",
       "datetime                                                                       \n",
       "2005-03-31  17.550000  50.083333  0.951917   31      3  1.916667  122.125000   \n",
       "2005-04-01  15.929167  35.962500  0.636529    1      4  1.387500  100.708333   \n",
       "2005-04-02  15.483333  32.225000  0.546167    2      4  1.120833  107.333333   \n",
       "2005-04-03  18.383333  33.695833  0.617583    3      4  0.854167  100.166667   \n",
       "2005-04-04  16.960000  42.786667  0.724787    4      4  1.141667  111.125000   \n",
       "\n",
       "            day_of_week  week_of_year  day_of_month  \n",
       "datetime                                             \n",
       "2005-03-31            3            13            31  \n",
       "2005-04-01            4            13             1  \n",
       "2005-04-02            5            13             2  \n",
       "2005-04-03            6            13             3  \n",
       "2005-04-04            0            14             4  "
      ]
     },
     "execution_count": 107,
     "metadata": {},
     "output_type": "execute_result"
    }
   ],
   "source": [
    "df_daily.tail()"
   ]
  },
  {
   "cell_type": "code",
   "execution_count": 109,
   "id": "e27db922-dca1-4857-98cd-5c4609dfc3de",
   "metadata": {},
   "outputs": [],
   "source": [
    "df_daily = df_daily.drop(['day_of_month'],axis=1)"
   ]
  },
  {
   "cell_type": "code",
   "execution_count": 111,
   "id": "0bb84cb2-4f8c-407a-8819-76a06c7dce2c",
   "metadata": {},
   "outputs": [
    {
     "data": {
      "text/plain": [
       "(390, 19)"
      ]
     },
     "execution_count": 111,
     "metadata": {},
     "output_type": "execute_result"
    }
   ],
   "source": [
    "df_daily.shape"
   ]
  },
  {
   "cell_type": "code",
   "execution_count": 113,
   "id": "06a5be3b-d7f5-4ba7-961c-9621e0cc7067",
   "metadata": {},
   "outputs": [],
   "source": [
    "#including environmental lags as predictors\n",
    "for col in ['T', 'RH', 'AH']:\n",
    "    df_daily[f'{col}_lag1'] = df_daily[col].shift(1)"
   ]
  },
  {
   "cell_type": "code",
   "execution_count": 115,
   "id": "42003c19-c07a-41f6-8427-f23bebc199fc",
   "metadata": {},
   "outputs": [],
   "source": [
    "df_daily=df_daily.dropna()"
   ]
  },
  {
   "cell_type": "code",
   "execution_count": 117,
   "id": "5677989f-89c8-41a1-b2aa-95998c3734ff",
   "metadata": {},
   "outputs": [
    {
     "data": {
      "text/html": [
       "<div>\n",
       "<style scoped>\n",
       "    .dataframe tbody tr th:only-of-type {\n",
       "        vertical-align: middle;\n",
       "    }\n",
       "\n",
       "    .dataframe tbody tr th {\n",
       "        vertical-align: top;\n",
       "    }\n",
       "\n",
       "    .dataframe thead th {\n",
       "        text-align: right;\n",
       "    }\n",
       "</style>\n",
       "<table border=\"1\" class=\"dataframe\">\n",
       "  <thead>\n",
       "    <tr style=\"text-align: right;\">\n",
       "      <th></th>\n",
       "      <th>CO(GT)</th>\n",
       "      <th>PT08.S1(CO)</th>\n",
       "      <th>NMHC(GT)</th>\n",
       "      <th>C6H6(GT)</th>\n",
       "      <th>PT08.S2(NMHC)</th>\n",
       "      <th>NOx(GT)</th>\n",
       "      <th>PT08.S3(NOx)</th>\n",
       "      <th>NO2(GT)</th>\n",
       "      <th>PT08.S4(NO2)</th>\n",
       "      <th>PT08.S5(O3)</th>\n",
       "      <th>...</th>\n",
       "      <th>AH</th>\n",
       "      <th>day</th>\n",
       "      <th>month</th>\n",
       "      <th>CO_lag1</th>\n",
       "      <th>NO2_lag1</th>\n",
       "      <th>day_of_week</th>\n",
       "      <th>week_of_year</th>\n",
       "      <th>T_lag1</th>\n",
       "      <th>RH_lag1</th>\n",
       "      <th>AH_lag1</th>\n",
       "    </tr>\n",
       "    <tr>\n",
       "      <th>datetime</th>\n",
       "      <th></th>\n",
       "      <th></th>\n",
       "      <th></th>\n",
       "      <th></th>\n",
       "      <th></th>\n",
       "      <th></th>\n",
       "      <th></th>\n",
       "      <th></th>\n",
       "      <th></th>\n",
       "      <th></th>\n",
       "      <th></th>\n",
       "      <th></th>\n",
       "      <th></th>\n",
       "      <th></th>\n",
       "      <th></th>\n",
       "      <th></th>\n",
       "      <th></th>\n",
       "      <th></th>\n",
       "      <th></th>\n",
       "      <th></th>\n",
       "      <th></th>\n",
       "    </tr>\n",
       "  </thead>\n",
       "  <tbody>\n",
       "    <tr>\n",
       "      <th>2004-03-12</th>\n",
       "      <td>1.958333</td>\n",
       "      <td>1281.666667</td>\n",
       "      <td>141.500000</td>\n",
       "      <td>12.129167</td>\n",
       "      <td>1008.291667</td>\n",
       "      <td>142.583333</td>\n",
       "      <td>1101.875000</td>\n",
       "      <td>89.916667</td>\n",
       "      <td>1627.291667</td>\n",
       "      <td>1084.375000</td>\n",
       "      <td>...</td>\n",
       "      <td>0.663104</td>\n",
       "      <td>12</td>\n",
       "      <td>3</td>\n",
       "      <td>1.962500</td>\n",
       "      <td>87.375000</td>\n",
       "      <td>4</td>\n",
       "      <td>11</td>\n",
       "      <td>9.837500</td>\n",
       "      <td>64.075000</td>\n",
       "      <td>0.775767</td>\n",
       "    </tr>\n",
       "    <tr>\n",
       "      <th>2004-03-13</th>\n",
       "      <td>1.954167</td>\n",
       "      <td>1330.666667</td>\n",
       "      <td>139.250000</td>\n",
       "      <td>10.916667</td>\n",
       "      <td>992.833333</td>\n",
       "      <td>168.416667</td>\n",
       "      <td>993.208333</td>\n",
       "      <td>105.583333</td>\n",
       "      <td>1595.791667</td>\n",
       "      <td>1245.916667</td>\n",
       "      <td>...</td>\n",
       "      <td>0.732296</td>\n",
       "      <td>13</td>\n",
       "      <td>3</td>\n",
       "      <td>1.958333</td>\n",
       "      <td>89.916667</td>\n",
       "      <td>5</td>\n",
       "      <td>11</td>\n",
       "      <td>11.287500</td>\n",
       "      <td>51.095833</td>\n",
       "      <td>0.663104</td>\n",
       "    </tr>\n",
       "    <tr>\n",
       "      <th>2004-03-14</th>\n",
       "      <td>1.950000</td>\n",
       "      <td>1361.125000</td>\n",
       "      <td>116.958333</td>\n",
       "      <td>9.637500</td>\n",
       "      <td>943.916667</td>\n",
       "      <td>132.166667</td>\n",
       "      <td>1001.291667</td>\n",
       "      <td>97.458333</td>\n",
       "      <td>1602.375000</td>\n",
       "      <td>1234.208333</td>\n",
       "      <td>...</td>\n",
       "      <td>0.849671</td>\n",
       "      <td>14</td>\n",
       "      <td>3</td>\n",
       "      <td>1.954167</td>\n",
       "      <td>105.583333</td>\n",
       "      <td>6</td>\n",
       "      <td>11</td>\n",
       "      <td>12.866667</td>\n",
       "      <td>51.533333</td>\n",
       "      <td>0.732296</td>\n",
       "    </tr>\n",
       "    <tr>\n",
       "      <th>2004-03-15</th>\n",
       "      <td>1.945833</td>\n",
       "      <td>1452.166667</td>\n",
       "      <td>236.625000</td>\n",
       "      <td>16.091667</td>\n",
       "      <td>1138.916667</td>\n",
       "      <td>197.833333</td>\n",
       "      <td>845.625000</td>\n",
       "      <td>105.458333</td>\n",
       "      <td>1888.625000</td>\n",
       "      <td>1439.083333</td>\n",
       "      <td>...</td>\n",
       "      <td>0.944029</td>\n",
       "      <td>15</td>\n",
       "      <td>3</td>\n",
       "      <td>1.950000</td>\n",
       "      <td>97.458333</td>\n",
       "      <td>0</td>\n",
       "      <td>12</td>\n",
       "      <td>16.012500</td>\n",
       "      <td>48.850000</td>\n",
       "      <td>0.849671</td>\n",
       "    </tr>\n",
       "    <tr>\n",
       "      <th>2004-03-16</th>\n",
       "      <td>1.941667</td>\n",
       "      <td>1339.666667</td>\n",
       "      <td>191.125000</td>\n",
       "      <td>13.500000</td>\n",
       "      <td>1061.916667</td>\n",
       "      <td>165.708333</td>\n",
       "      <td>939.291667</td>\n",
       "      <td>104.916667</td>\n",
       "      <td>1726.625000</td>\n",
       "      <td>1322.625000</td>\n",
       "      <td>...</td>\n",
       "      <td>0.871021</td>\n",
       "      <td>16</td>\n",
       "      <td>3</td>\n",
       "      <td>1.945833</td>\n",
       "      <td>105.458333</td>\n",
       "      <td>1</td>\n",
       "      <td>12</td>\n",
       "      <td>17.366667</td>\n",
       "      <td>50.320833</td>\n",
       "      <td>0.944029</td>\n",
       "    </tr>\n",
       "  </tbody>\n",
       "</table>\n",
       "<p>5 rows × 22 columns</p>\n",
       "</div>"
      ],
      "text/plain": [
       "              CO(GT)  PT08.S1(CO)    NMHC(GT)   C6H6(GT)  PT08.S2(NMHC)  \\\n",
       "datetime                                                                  \n",
       "2004-03-12  1.958333  1281.666667  141.500000  12.129167    1008.291667   \n",
       "2004-03-13  1.954167  1330.666667  139.250000  10.916667     992.833333   \n",
       "2004-03-14  1.950000  1361.125000  116.958333   9.637500     943.916667   \n",
       "2004-03-15  1.945833  1452.166667  236.625000  16.091667    1138.916667   \n",
       "2004-03-16  1.941667  1339.666667  191.125000  13.500000    1061.916667   \n",
       "\n",
       "               NOx(GT)  PT08.S3(NOx)     NO2(GT)  PT08.S4(NO2)  PT08.S5(O3)  \\\n",
       "datetime                                                                      \n",
       "2004-03-12  142.583333   1101.875000   89.916667   1627.291667  1084.375000   \n",
       "2004-03-13  168.416667    993.208333  105.583333   1595.791667  1245.916667   \n",
       "2004-03-14  132.166667   1001.291667   97.458333   1602.375000  1234.208333   \n",
       "2004-03-15  197.833333    845.625000  105.458333   1888.625000  1439.083333   \n",
       "2004-03-16  165.708333    939.291667  104.916667   1726.625000  1322.625000   \n",
       "\n",
       "            ...        AH  day  month   CO_lag1    NO2_lag1  day_of_week  \\\n",
       "datetime    ...                                                            \n",
       "2004-03-12  ...  0.663104   12      3  1.962500   87.375000            4   \n",
       "2004-03-13  ...  0.732296   13      3  1.958333   89.916667            5   \n",
       "2004-03-14  ...  0.849671   14      3  1.954167  105.583333            6   \n",
       "2004-03-15  ...  0.944029   15      3  1.950000   97.458333            0   \n",
       "2004-03-16  ...  0.871021   16      3  1.945833  105.458333            1   \n",
       "\n",
       "            week_of_year     T_lag1    RH_lag1   AH_lag1  \n",
       "datetime                                                  \n",
       "2004-03-12            11   9.837500  64.075000  0.775767  \n",
       "2004-03-13            11  11.287500  51.095833  0.663104  \n",
       "2004-03-14            11  12.866667  51.533333  0.732296  \n",
       "2004-03-15            12  16.012500  48.850000  0.849671  \n",
       "2004-03-16            12  17.366667  50.320833  0.944029  \n",
       "\n",
       "[5 rows x 22 columns]"
      ]
     },
     "execution_count": 117,
     "metadata": {},
     "output_type": "execute_result"
    }
   ],
   "source": [
    "df_daily.head()"
   ]
  },
  {
   "cell_type": "markdown",
   "id": "d63f075a",
   "metadata": {},
   "source": [
    "### 4. Time-Series Forecasting\n",
    "- Train separate models for **CO(GT)** and **NO₂(GT)**.\n",
    "- Explore the following forecasting approaches:\n",
    "  - **Statistical Models**:\n",
    "    - Classical models like ARIMA or SARIMA for univariate forecasting.\n",
    "  - **Machine Learning Models**:\n",
    "    - Use regression models trained on lag features and external predictors.\n",
    "  - **Deep Learning Models**:\n",
    "    - Apply LSTM, GRU, or other RNN-based models for sequence forecasting.\n",
    "- Evaluate and compare the models.\n"
   ]
  },
  {
   "cell_type": "markdown",
   "id": "a135b6d3-02a5-4e72-8c39-05db5e0062b2",
   "metadata": {},
   "source": [
    "# ARIMA model "
   ]
  },
  {
   "cell_type": "markdown",
   "id": "74af17dc-9475-4466-bb9a-fb9488dd183f",
   "metadata": {},
   "source": [
    "### *Predict CO(GT)*"
   ]
  },
  {
   "cell_type": "code",
   "execution_count": 122,
   "id": "598539c3",
   "metadata": {},
   "outputs": [
    {
     "name": "stdout",
     "output_type": "stream",
     "text": [
      "ADF value: -3.674020009038291\n",
      "p-value: 0.004493786397780226\n",
      "The series is stationary. Proceeding without differencing\n"
     ]
    }
   ],
   "source": [
    "# applying differencing to find seasonality\n",
    "from statsmodels.tsa.stattools import adfuller\n",
    "result = adfuller(df_daily['CO(GT)'])\n",
    "print('ADF value:', result[0])\n",
    "print('p-value:', result[1])\n",
    "\n",
    "if result[1] >0.05:\n",
    "    print('The time series is not stationary. Differencing will be applied')\n",
    "    df_daily['CO(GT)_diff'] = df_daily['CO(GT)'].diff().dropna()\n",
    "\n",
    "else:\n",
    "    print('The series is stationary. Proceeding without differencing')"
   ]
  },
  {
   "cell_type": "code",
   "execution_count": 124,
   "id": "a1357cf8-fd7b-4716-bbc7-21b921a30ed0",
   "metadata": {},
   "outputs": [],
   "source": [
    "# tunning the arima model\n",
    "import pmdarima as pm"
   ]
  },
  {
   "cell_type": "code",
   "execution_count": 125,
   "id": "8948c1ef-a28a-4e6c-9be1-93ff35e050f7",
   "metadata": {},
   "outputs": [
    {
     "name": "stdout",
     "output_type": "stream",
     "text": [
      "Performing stepwise search to minimize aic\n",
      " ARIMA(2,1,2)(0,0,0)[0] intercept   : AIC=313.101, Time=0.43 sec\n",
      " ARIMA(0,1,0)(0,0,0)[0] intercept   : AIC=378.687, Time=0.04 sec\n",
      " ARIMA(1,1,0)(0,0,0)[0] intercept   : AIC=369.323, Time=0.05 sec\n",
      " ARIMA(0,1,1)(0,0,0)[0] intercept   : AIC=363.167, Time=0.05 sec\n",
      " ARIMA(0,1,0)(0,0,0)[0]             : AIC=376.698, Time=0.02 sec\n",
      " ARIMA(1,1,2)(0,0,0)[0] intercept   : AIC=309.511, Time=0.23 sec\n",
      " ARIMA(0,1,2)(0,0,0)[0] intercept   : AIC=350.610, Time=0.09 sec\n",
      " ARIMA(1,1,1)(0,0,0)[0] intercept   : AIC=362.357, Time=0.06 sec\n",
      " ARIMA(1,1,3)(0,0,0)[0] intercept   : AIC=308.171, Time=0.38 sec\n",
      " ARIMA(0,1,3)(0,0,0)[0] intercept   : AIC=317.029, Time=0.15 sec\n",
      " ARIMA(2,1,3)(0,0,0)[0] intercept   : AIC=305.798, Time=0.44 sec\n",
      " ARIMA(3,1,3)(0,0,0)[0] intercept   : AIC=307.600, Time=0.52 sec\n",
      " ARIMA(2,1,4)(0,0,0)[0] intercept   : AIC=306.369, Time=0.37 sec\n",
      " ARIMA(1,1,4)(0,0,0)[0] intercept   : AIC=306.631, Time=0.40 sec\n",
      " ARIMA(3,1,2)(0,0,0)[0] intercept   : AIC=305.840, Time=0.27 sec\n",
      " ARIMA(3,1,4)(0,0,0)[0] intercept   : AIC=308.028, Time=0.56 sec\n",
      " ARIMA(2,1,3)(0,0,0)[0]             : AIC=303.833, Time=0.19 sec\n",
      " ARIMA(1,1,3)(0,0,0)[0]             : AIC=305.394, Time=0.13 sec\n",
      " ARIMA(2,1,2)(0,0,0)[0]             : AIC=301.836, Time=0.19 sec\n",
      " ARIMA(1,1,2)(0,0,0)[0]             : AIC=307.544, Time=0.12 sec\n",
      " ARIMA(2,1,1)(0,0,0)[0]             : AIC=299.887, Time=0.07 sec\n",
      " ARIMA(1,1,1)(0,0,0)[0]             : AIC=360.367, Time=0.06 sec\n",
      " ARIMA(2,1,0)(0,0,0)[0]             : AIC=346.180, Time=0.04 sec\n",
      " ARIMA(3,1,1)(0,0,0)[0]             : AIC=301.835, Time=0.13 sec\n",
      " ARIMA(1,1,0)(0,0,0)[0]             : AIC=367.331, Time=0.03 sec\n",
      " ARIMA(3,1,0)(0,0,0)[0]             : AIC=332.925, Time=0.06 sec\n",
      " ARIMA(3,1,2)(0,0,0)[0]             : AIC=303.857, Time=0.23 sec\n",
      " ARIMA(2,1,1)(0,0,0)[0] intercept   : AIC=301.853, Time=0.23 sec\n",
      "\n",
      "Best model:  ARIMA(2,1,1)(0,0,0)[0]          \n",
      "Total fit time: 5.579 seconds\n"
     ]
    }
   ],
   "source": [
    "model = pm.auto_arima(df_daily['CO(GT)'],\n",
    "                      seasonal=False,   \n",
    "                      trace=True) "
   ]
  },
  {
   "cell_type": "code",
   "execution_count": 126,
   "id": "f6be930b-29f3-4ef4-97f8-d885166c16d5",
   "metadata": {},
   "outputs": [
    {
     "name": "stdout",
     "output_type": "stream",
     "text": [
      "                               SARIMAX Results                                \n",
      "==============================================================================\n",
      "Dep. Variable:                      y   No. Observations:                  389\n",
      "Model:               SARIMAX(2, 1, 1)   Log Likelihood                -145.944\n",
      "Date:                Sat, 13 Sep 2025   AIC                            299.887\n",
      "Time:                        20:56:29   BIC                            315.731\n",
      "Sample:                    03-12-2004   HQIC                           306.169\n",
      "                         - 04-04-2005                                         \n",
      "Covariance Type:                  opg                                         \n",
      "==============================================================================\n",
      "                 coef    std err          z      P>|z|      [0.025      0.975]\n",
      "------------------------------------------------------------------------------\n",
      "ar.L1          0.9414      0.041     22.947      0.000       0.861       1.022\n",
      "ar.L2         -0.3695      0.037     -9.938      0.000      -0.442      -0.297\n",
      "ma.L1         -0.8792      0.039    -22.776      0.000      -0.955      -0.804\n",
      "sigma2         0.1240      0.007     19.069      0.000       0.111       0.137\n",
      "===================================================================================\n",
      "Ljung-Box (L1) (Q):                   0.00   Jarque-Bera (JB):               102.72\n",
      "Prob(Q):                              0.95   Prob(JB):                         0.00\n",
      "Heteroskedasticity (H):               2.64   Skew:                            -0.35\n",
      "Prob(H) (two-sided):                  0.00   Kurtosis:                         5.42\n",
      "===================================================================================\n",
      "\n",
      "Warnings:\n",
      "[1] Covariance matrix calculated using the outer product of gradients (complex-step).\n"
     ]
    }
   ],
   "source": [
    "print(model.summary())"
   ]
  },
  {
   "cell_type": "code",
   "execution_count": 128,
   "id": "8f4c47d1-2613-4a0b-ad44-39a331fe081c",
   "metadata": {},
   "outputs": [],
   "source": [
    "from statsmodels.tsa.arima.model import ARIMA"
   ]
  },
  {
   "cell_type": "code",
   "execution_count": 129,
   "id": "0c48b8cb-8c1c-48f4-9f45-9482145c0bf4",
   "metadata": {},
   "outputs": [
    {
     "name": "stdout",
     "output_type": "stream",
     "text": [
      "<Day>\n"
     ]
    }
   ],
   "source": [
    "df_daily = df_daily.asfreq('D')\n",
    "print(df_daily.index.freq)"
   ]
  },
  {
   "cell_type": "code",
   "execution_count": 134,
   "id": "295e6a34-6888-496d-ae09-668fa4459a55",
   "metadata": {},
   "outputs": [],
   "source": [
    "# ARIMA model for CO(GT)\n",
    "p, d, q = 2,1,1\n",
    "\n",
    "arima_CO = ARIMA(df_daily['CO(GT)'], order= (p, d, q))\n",
    "arima_fit_CO= arima_CO.fit()"
   ]
  },
  {
   "cell_type": "code",
   "execution_count": 136,
   "id": "4deb6f12-737f-42ef-a55b-365d6d0a13ba",
   "metadata": {},
   "outputs": [
    {
     "name": "stdout",
     "output_type": "stream",
     "text": [
      "                               SARIMAX Results                                \n",
      "==============================================================================\n",
      "Dep. Variable:                 CO(GT)   No. Observations:                  389\n",
      "Model:                 ARIMA(2, 1, 1)   Log Likelihood                -145.944\n",
      "Date:                Sat, 13 Sep 2025   AIC                            299.887\n",
      "Time:                        20:56:47   BIC                            315.731\n",
      "Sample:                    03-12-2004   HQIC                           306.169\n",
      "                         - 04-04-2005                                         \n",
      "Covariance Type:                  opg                                         \n",
      "==============================================================================\n",
      "                 coef    std err          z      P>|z|      [0.025      0.975]\n",
      "------------------------------------------------------------------------------\n",
      "ar.L1          0.9414      0.041     22.947      0.000       0.861       1.022\n",
      "ar.L2         -0.3695      0.037     -9.938      0.000      -0.442      -0.297\n",
      "ma.L1         -0.8792      0.039    -22.776      0.000      -0.955      -0.804\n",
      "sigma2         0.1240      0.007     19.069      0.000       0.111       0.137\n",
      "===================================================================================\n",
      "Ljung-Box (L1) (Q):                   0.00   Jarque-Bera (JB):               102.72\n",
      "Prob(Q):                              0.95   Prob(JB):                         0.00\n",
      "Heteroskedasticity (H):               2.64   Skew:                            -0.35\n",
      "Prob(H) (two-sided):                  0.00   Kurtosis:                         5.42\n",
      "===================================================================================\n",
      "\n",
      "Warnings:\n",
      "[1] Covariance matrix calculated using the outer product of gradients (complex-step).\n"
     ]
    }
   ],
   "source": [
    "print(arima_fit_CO.summary())"
   ]
  },
  {
   "cell_type": "code",
   "execution_count": 138,
   "id": "df742fc1-7cf8-4fd5-bd12-994277a02de0",
   "metadata": {},
   "outputs": [
    {
     "name": "stdout",
     "output_type": "stream",
     "text": [
      "ARIMA Forecast of CO(GT):\n",
      " 2005-04-05    1.335103\n",
      "2005-04-06    1.517195\n",
      "2005-04-07    1.617126\n",
      "2005-04-08    1.643906\n",
      "2005-04-09    1.632186\n",
      "                ...   \n",
      "2005-07-09    1.593423\n",
      "2005-07-10    1.593423\n",
      "2005-07-11    1.593423\n",
      "2005-07-12    1.593423\n",
      "2005-07-13    1.593423\n",
      "Freq: D, Name: predicted_mean, Length: 100, dtype: float64\n"
     ]
    }
   ],
   "source": [
    "#forecast future values of CO(GT)\n",
    "forecast_steps = 100\n",
    "forecast_CO = arima_fit_CO.forecast(steps=forecast_steps)\n",
    "print('ARIMA Forecast of CO(GT):\\n', forecast_CO)"
   ]
  },
  {
   "cell_type": "code",
   "execution_count": 140,
   "id": "006e4347-4e8c-4df7-b8ff-8d5f315dbeaf",
   "metadata": {},
   "outputs": [],
   "source": [
    "df_daily_CO = pd.DataFrame({\n",
    "    'Date': pd.to_datetime([str(i) for i in forecast_CO.index]),\n",
    "    'predicted_CO(GT)': forecast_CO.values\n",
    "})"
   ]
  },
  {
   "cell_type": "code",
   "execution_count": 142,
   "id": "47944fd5-720a-4f93-8c24-157d01be53c1",
   "metadata": {},
   "outputs": [
    {
     "data": {
      "text/html": [
       "<div>\n",
       "<style scoped>\n",
       "    .dataframe tbody tr th:only-of-type {\n",
       "        vertical-align: middle;\n",
       "    }\n",
       "\n",
       "    .dataframe tbody tr th {\n",
       "        vertical-align: top;\n",
       "    }\n",
       "\n",
       "    .dataframe thead th {\n",
       "        text-align: right;\n",
       "    }\n",
       "</style>\n",
       "<table border=\"1\" class=\"dataframe\">\n",
       "  <thead>\n",
       "    <tr style=\"text-align: right;\">\n",
       "      <th></th>\n",
       "      <th>Date</th>\n",
       "      <th>predicted_CO(GT)</th>\n",
       "    </tr>\n",
       "  </thead>\n",
       "  <tbody>\n",
       "    <tr>\n",
       "      <th>0</th>\n",
       "      <td>2005-04-05</td>\n",
       "      <td>1.335103</td>\n",
       "    </tr>\n",
       "    <tr>\n",
       "      <th>1</th>\n",
       "      <td>2005-04-06</td>\n",
       "      <td>1.517195</td>\n",
       "    </tr>\n",
       "    <tr>\n",
       "      <th>2</th>\n",
       "      <td>2005-04-07</td>\n",
       "      <td>1.617126</td>\n",
       "    </tr>\n",
       "    <tr>\n",
       "      <th>3</th>\n",
       "      <td>2005-04-08</td>\n",
       "      <td>1.643906</td>\n",
       "    </tr>\n",
       "    <tr>\n",
       "      <th>4</th>\n",
       "      <td>2005-04-09</td>\n",
       "      <td>1.632186</td>\n",
       "    </tr>\n",
       "  </tbody>\n",
       "</table>\n",
       "</div>"
      ],
      "text/plain": [
       "        Date  predicted_CO(GT)\n",
       "0 2005-04-05          1.335103\n",
       "1 2005-04-06          1.517195\n",
       "2 2005-04-07          1.617126\n",
       "3 2005-04-08          1.643906\n",
       "4 2005-04-09          1.632186"
      ]
     },
     "execution_count": 142,
     "metadata": {},
     "output_type": "execute_result"
    }
   ],
   "source": [
    "df_daily_CO.head()"
   ]
  },
  {
   "cell_type": "code",
   "execution_count": 144,
   "id": "293e08b3-8682-4648-9fd4-f32e10fc72fd",
   "metadata": {},
   "outputs": [
    {
     "data": {
      "image/png": "[encoded data removed]",
      "text/plain": [
       "<Figure size 640x480 with 1 Axes>"
      ]
     },
     "metadata": {},
     "output_type": "display_data"
    }
   ],
   "source": [
    "#plt.plot(df['CO(GT)'], label='Historical')\n",
    "plt.plot(df_daily_CO['Date'], df_daily_CO['predicted_CO(GT)'], color='red', label='Forecast')\n",
    "plt.legend()\n",
    "plt.xlabel('Dates')\n",
    "plt.ylabel('values')\n",
    "plt.title('Next 100 Days forecast of CO(GT)')\n",
    "plt.xticks(rotation=70)\n",
    "plt.show()"
   ]
  },
  {
   "cell_type": "markdown",
   "id": "72b4d9cf-0ad1-4415-869a-d82b3daa1ac0",
   "metadata": {},
   "source": [
    "### *predict NO2(GT)*"
   ]
  },
  {
   "cell_type": "code",
   "execution_count": 176,
   "id": "330ae534-d7ef-4180-af70-a98dbefb6c4f",
   "metadata": {},
   "outputs": [
    {
     "name": "stdout",
     "output_type": "stream",
     "text": [
      "ADF value: -2.805425093195391\n",
      "p-value: 0.057503001060161436\n",
      "The time series is not stationary. Differencing will be applied\n"
     ]
    }
   ],
   "source": [
    "# applying differencing to find seasonality\n",
    "from statsmodels.tsa.stattools import adfuller\n",
    "result = adfuller(df_daily['NO2(GT)'])\n",
    "print('ADF value:', result[0])\n",
    "print('p-value:', result[1])\n",
    "\n",
    "if result[1] >0.05:\n",
    "    print('The time series is not stationary. Differencing will be applied')\n",
    "    df_daily['NO2(GT)_diff'] = df_daily['NO2(GT)'].diff().dropna()\n",
    "\n",
    "else:\n",
    "    print('The series is stationary. Proceeding without differencing')"
   ]
  },
  {
   "cell_type": "code",
   "execution_count": 178,
   "id": "186ed174-4646-4528-b628-a0dd5b720711",
   "metadata": {},
   "outputs": [],
   "source": [
    "df_daily = df_daily.drop(df_daily.index[0])"
   ]
  },
  {
   "cell_type": "code",
   "execution_count": 202,
   "id": "28ea4a4f-7443-43b6-92d1-0fe443e48a6a",
   "metadata": {},
   "outputs": [],
   "source": [
    "df_daily = df_daily.drop(['NO2(GT)_diff'], axis=1)"
   ]
  },
  {
   "cell_type": "code",
   "execution_count": 206,
   "id": "3859007a-ca4e-4f64-b108-8826a8141fe6",
   "metadata": {},
   "outputs": [
    {
     "data": {
      "text/plain": [
       "Index(['CO(GT)', 'PT08.S1(CO)', 'NMHC(GT)', 'C6H6(GT)', 'PT08.S2(NMHC)',\n",
       "       'NOx(GT)', 'PT08.S3(NOx)', 'NO2(GT)', 'PT08.S4(NO2)', 'PT08.S5(O3)',\n",
       "       'T', 'RH', 'AH', 'day', 'month', 'CO_lag1', 'NO2_lag1', 'day_of_week',\n",
       "       'week_of_year', 'T_lag1', 'RH_lag1', 'AH_lag1'],\n",
       "      dtype='object')"
      ]
     },
     "execution_count": 206,
     "metadata": {},
     "output_type": "execute_result"
    }
   ],
   "source": [
    "df_daily.columns"
   ]
  },
  {
   "cell_type": "code",
   "execution_count": 210,
   "id": "8767cb42-802b-4b77-b783-6890ecc0d013",
   "metadata": {},
   "outputs": [
    {
     "name": "stdout",
     "output_type": "stream",
     "text": [
      "<Day>\n"
     ]
    }
   ],
   "source": [
    "df_daily = df_daily.asfreq('D')\n",
    "print(df_daily.index.freq)"
   ]
  },
  {
   "cell_type": "code",
   "execution_count": 212,
   "id": "c3eb49db-78d6-4b7b-b1d8-2aea15aff9eb",
   "metadata": {},
   "outputs": [
    {
     "name": "stdout",
     "output_type": "stream",
     "text": [
      "Performing stepwise search to minimize aic\n",
      " ARIMA(2,1,2)(0,0,0)[0] intercept   : AIC=3368.419, Time=0.18 sec\n",
      " ARIMA(0,1,0)(0,0,0)[0] intercept   : AIC=3426.641, Time=0.01 sec\n",
      " ARIMA(1,1,0)(0,0,0)[0] intercept   : AIC=3426.615, Time=0.05 sec\n",
      " ARIMA(0,1,1)(0,0,0)[0] intercept   : AIC=3424.696, Time=0.06 sec\n",
      " ARIMA(0,1,0)(0,0,0)[0]             : AIC=3424.642, Time=0.01 sec\n",
      " ARIMA(1,1,2)(0,0,0)[0] intercept   : AIC=3368.706, Time=0.15 sec\n",
      " ARIMA(2,1,1)(0,0,0)[0] intercept   : AIC=3369.223, Time=0.17 sec\n",
      " ARIMA(3,1,2)(0,0,0)[0] intercept   : AIC=3369.688, Time=0.23 sec\n",
      " ARIMA(2,1,3)(0,0,0)[0] intercept   : AIC=3369.816, Time=0.28 sec\n",
      " ARIMA(1,1,1)(0,0,0)[0] intercept   : AIC=3373.944, Time=0.14 sec\n",
      " ARIMA(1,1,3)(0,0,0)[0] intercept   : AIC=3370.474, Time=0.25 sec\n",
      " ARIMA(3,1,1)(0,0,0)[0] intercept   : AIC=3370.909, Time=0.25 sec\n",
      " ARIMA(3,1,3)(0,0,0)[0] intercept   : AIC=3371.591, Time=0.36 sec\n",
      " ARIMA(2,1,2)(0,0,0)[0]             : AIC=3366.881, Time=0.12 sec\n",
      " ARIMA(1,1,2)(0,0,0)[0]             : AIC=3366.893, Time=0.10 sec\n",
      " ARIMA(2,1,1)(0,0,0)[0]             : AIC=3367.318, Time=0.10 sec\n",
      " ARIMA(3,1,2)(0,0,0)[0]             : AIC=3367.909, Time=0.15 sec\n",
      " ARIMA(2,1,3)(0,0,0)[0]             : AIC=3368.118, Time=0.23 sec\n",
      " ARIMA(1,1,1)(0,0,0)[0]             : AIC=3372.643, Time=0.05 sec\n",
      " ARIMA(1,1,3)(0,0,0)[0]             : AIC=3368.785, Time=0.16 sec\n",
      " ARIMA(3,1,1)(0,0,0)[0]             : AIC=3369.171, Time=0.15 sec\n",
      " ARIMA(3,1,3)(0,0,0)[0]             : AIC=3369.699, Time=0.23 sec\n",
      "\n",
      "Best model:  ARIMA(2,1,2)(0,0,0)[0]          \n",
      "Total fit time: 3.426 seconds\n"
     ]
    }
   ],
   "source": [
    "model_no2 = pm.auto_arima(df_daily['NO2(GT)'],\n",
    "                      seasonal=False,   \n",
    "                      trace=True) "
   ]
  },
  {
   "cell_type": "code",
   "execution_count": 214,
   "id": "0ebc93e7-ee01-4cd7-91f4-70e2f9ec445b",
   "metadata": {},
   "outputs": [
    {
     "name": "stdout",
     "output_type": "stream",
     "text": [
      "                               SARIMAX Results                                \n",
      "==============================================================================\n",
      "Dep. Variable:                      y   No. Observations:                  388\n",
      "Model:               SARIMAX(2, 1, 2)   Log Likelihood               -1678.441\n",
      "Date:                Sat, 13 Sep 2025   AIC                           3366.881\n",
      "Time:                        21:43:32   BIC                           3386.674\n",
      "Sample:                    03-13-2004   HQIC                          3374.729\n",
      "                         - 04-04-2005                                         \n",
      "Covariance Type:                  opg                                         \n",
      "==============================================================================\n",
      "                 coef    std err          z      P>|z|      [0.025      0.975]\n",
      "------------------------------------------------------------------------------\n",
      "ar.L1         -0.0685      0.133     -0.516      0.606      -0.329       0.192\n",
      "ar.L2          0.3852      0.120      3.215      0.001       0.150       0.620\n",
      "ma.L1         -0.1540      0.112     -1.380      0.168      -0.373       0.065\n",
      "ma.L2         -0.7389      0.118     -6.243      0.000      -0.971      -0.507\n",
      "sigma2       341.6103     20.241     16.877      0.000     301.938     381.283\n",
      "===================================================================================\n",
      "Ljung-Box (L1) (Q):                   0.08   Jarque-Bera (JB):                22.23\n",
      "Prob(Q):                              0.78   Prob(JB):                         0.00\n",
      "Heteroskedasticity (H):               1.57   Skew:                             0.04\n",
      "Prob(H) (two-sided):                  0.01   Kurtosis:                         4.17\n",
      "===================================================================================\n",
      "\n",
      "Warnings:\n",
      "[1] Covariance matrix calculated using the outer product of gradients (complex-step).\n"
     ]
    }
   ],
   "source": [
    "print(model_no2.summary())"
   ]
  },
  {
   "cell_type": "code",
   "execution_count": 216,
   "id": "67a01c6d-902e-4439-92f3-f10d11c68cd6",
   "metadata": {},
   "outputs": [],
   "source": [
    "train_no2 = df_daily['NO2(GT)'][:-30]\n",
    "test_no2 = df_daily['NO2(GT)'][-30:]"
   ]
  },
  {
   "cell_type": "code",
   "execution_count": 218,
   "id": "e26e0cd8-d8a3-4987-b045-884479a75527",
   "metadata": {},
   "outputs": [
    {
     "name": "stderr",
     "output_type": "stream",
     "text": [
      "C:\\Users\\PC\\anaconda3\\envs\\py312-env\\Lib\\site-packages\\statsmodels\\tsa\\statespace\\sarimax.py:978: UserWarning: Non-invertible starting MA parameters found. Using zeros as starting parameters.\n",
      "  warn('Non-invertible starting MA parameters found.'\n"
     ]
    }
   ],
   "source": [
    "# ARIMA model for CO(GT)\n",
    "p, d, q = 2,1,2\n",
    "\n",
    "arima_no2 = ARIMA(train_no2, order= (p, d, q))\n",
    "arima_fit_NO= arima_no2.fit()"
   ]
  },
  {
   "cell_type": "code",
   "execution_count": 220,
   "id": "ba352514-b212-4fc0-973f-b1bae28e9718",
   "metadata": {},
   "outputs": [
    {
     "name": "stdout",
     "output_type": "stream",
     "text": [
      "                               SARIMAX Results                                \n",
      "==============================================================================\n",
      "Dep. Variable:                NO2(GT)   No. Observations:                  358\n",
      "Model:                 ARIMA(2, 1, 2)   Log Likelihood               -1550.615\n",
      "Date:                Sat, 13 Sep 2025   AIC                           3111.229\n",
      "Time:                        21:43:47   BIC                           3130.618\n",
      "Sample:                    03-13-2004   HQIC                          3118.941\n",
      "                         - 03-05-2005                                         \n",
      "Covariance Type:                  opg                                         \n",
      "==============================================================================\n",
      "                 coef    std err          z      P>|z|      [0.025      0.975]\n",
      "------------------------------------------------------------------------------\n",
      "ar.L1         -0.0299      0.155     -0.193      0.847      -0.334       0.274\n",
      "ar.L2          0.3734      0.136      2.739      0.006       0.106       0.641\n",
      "ma.L1         -0.1861      0.133     -1.394      0.163      -0.448       0.075\n",
      "ma.L2         -0.7109      0.138     -5.148      0.000      -0.982      -0.440\n",
      "sigma2       346.0277     20.970     16.501      0.000     304.927     387.128\n",
      "===================================================================================\n",
      "Ljung-Box (L1) (Q):                   0.09   Jarque-Bera (JB):                25.53\n",
      "Prob(Q):                              0.76   Prob(JB):                         0.00\n",
      "Heteroskedasticity (H):               2.23   Skew:                             0.03\n",
      "Prob(H) (two-sided):                  0.00   Kurtosis:                         4.31\n",
      "===================================================================================\n",
      "\n",
      "Warnings:\n",
      "[1] Covariance matrix calculated using the outer product of gradients (complex-step).\n"
     ]
    }
   ],
   "source": [
    "print(arima_fit_NO.summary())"
   ]
  },
  {
   "cell_type": "markdown",
   "id": "b408636c-c806-44a8-bb94-f0d5153c765e",
   "metadata": {},
   "source": [
    "### forecast future values of CO(GT)"
   ]
  },
  {
   "cell_type": "code",
   "execution_count": 222,
   "id": "41113e86-7c3d-4ae7-b000-ef769a74c200",
   "metadata": {},
   "outputs": [
    {
     "name": "stdout",
     "output_type": "stream",
     "text": [
      "ARIMA Forecast of CO(GT):\n",
      " 2005-03-06    131.869701\n",
      "2005-03-07    135.089265\n",
      "2005-03-08    132.937362\n",
      "2005-03-09    134.203868\n",
      "2005-03-10    133.362496\n",
      "2005-03-11    133.860558\n",
      "2005-03-12    133.531503\n",
      "2005-03-13    133.727315\n",
      "2005-03-14    133.598594\n",
      "2005-03-15    133.675558\n",
      "2005-03-16    133.625193\n",
      "2005-03-17    133.655436\n",
      "2005-03-18    133.635726\n",
      "2005-03-19    133.647608\n",
      "2005-03-20    133.639893\n",
      "2005-03-21    133.644561\n",
      "2005-03-22    133.641541\n",
      "2005-03-23    133.643374\n",
      "2005-03-24    133.642191\n",
      "2005-03-25    133.642911\n",
      "2005-03-26    133.642448\n",
      "2005-03-27    133.642730\n",
      "2005-03-28    133.642549\n",
      "2005-03-29    133.642660\n",
      "2005-03-30    133.642589\n",
      "2005-03-31    133.642633\n",
      "2005-04-01    133.642605\n",
      "2005-04-02    133.642622\n",
      "2005-04-03    133.642611\n",
      "2005-04-04    133.642618\n",
      "Freq: D, Name: predicted_mean, dtype: float64\n"
     ]
    }
   ],
   "source": [
    "#forecast future values of CO(GT)\n",
    "forecast_steps = len(test_no2)\n",
    "forecast_NO = arima_fit_NO.forecast(steps=forecast_steps)\n",
    "print('ARIMA Forecast of CO(GT):\\n', forecast_NO)"
   ]
  },
  {
   "cell_type": "code",
   "execution_count": 224,
   "id": "e3bb8f90-2b35-48ec-9730-9e30bf5a9145",
   "metadata": {},
   "outputs": [],
   "source": [
    "df_daily_NO = pd.DataFrame({\n",
    "    'Date': pd.to_datetime([str(i) for i in forecast_NO.index]),\n",
    "    'predicted_NO2(GT)': forecast_NO.values\n",
    "})"
   ]
  },
  {
   "cell_type": "code",
   "execution_count": 228,
   "id": "0ad13306-d363-4bbc-a27d-c19eb8778fca",
   "metadata": {},
   "outputs": [
    {
     "data": {
      "text/html": [
       "<div>\n",
       "<style scoped>\n",
       "    .dataframe tbody tr th:only-of-type {\n",
       "        vertical-align: middle;\n",
       "    }\n",
       "\n",
       "    .dataframe tbody tr th {\n",
       "        vertical-align: top;\n",
       "    }\n",
       "\n",
       "    .dataframe thead th {\n",
       "        text-align: right;\n",
       "    }\n",
       "</style>\n",
       "<table border=\"1\" class=\"dataframe\">\n",
       "  <thead>\n",
       "    <tr style=\"text-align: right;\">\n",
       "      <th></th>\n",
       "      <th>Date</th>\n",
       "      <th>predicted_NO2(GT)</th>\n",
       "    </tr>\n",
       "  </thead>\n",
       "  <tbody>\n",
       "    <tr>\n",
       "      <th>25</th>\n",
       "      <td>2005-03-31</td>\n",
       "      <td>133.642633</td>\n",
       "    </tr>\n",
       "    <tr>\n",
       "      <th>26</th>\n",
       "      <td>2005-04-01</td>\n",
       "      <td>133.642605</td>\n",
       "    </tr>\n",
       "    <tr>\n",
       "      <th>27</th>\n",
       "      <td>2005-04-02</td>\n",
       "      <td>133.642622</td>\n",
       "    </tr>\n",
       "    <tr>\n",
       "      <th>28</th>\n",
       "      <td>2005-04-03</td>\n",
       "      <td>133.642611</td>\n",
       "    </tr>\n",
       "    <tr>\n",
       "      <th>29</th>\n",
       "      <td>2005-04-04</td>\n",
       "      <td>133.642618</td>\n",
       "    </tr>\n",
       "  </tbody>\n",
       "</table>\n",
       "</div>"
      ],
      "text/plain": [
       "         Date  predicted_NO2(GT)\n",
       "25 2005-03-31         133.642633\n",
       "26 2005-04-01         133.642605\n",
       "27 2005-04-02         133.642622\n",
       "28 2005-04-03         133.642611\n",
       "29 2005-04-04         133.642618"
      ]
     },
     "execution_count": 228,
     "metadata": {},
     "output_type": "execute_result"
    }
   ],
   "source": [
    "df_daily_NO.tail()"
   ]
  },
  {
   "cell_type": "code",
   "execution_count": 230,
   "id": "f8a4c06e-93ab-4bf2-8e72-639dfa84d286",
   "metadata": {},
   "outputs": [
    {
     "data": {
      "image/png": "[encoded data removed]",
      "text/plain": [
       "<Figure size 640x480 with 1 Axes>"
      ]
     },
     "metadata": {},
     "output_type": "display_data"
    }
   ],
   "source": [
    "#plt.plot(df['CO(GT)'], label='Historical')\n",
    "plt.plot(df_daily_NO['Date'], df_daily_NO['predicted_NO2(GT)'], color='red', label='Forecast')\n",
    "plt.legend()\n",
    "plt.xlabel('Dates')\n",
    "plt.ylabel('values')\n",
    "plt.title('Next 100 Days forecast of CO(GT)')\n",
    "plt.xticks(rotation=70)\n",
    "plt.show()"
   ]
  },
  {
   "cell_type": "markdown",
   "id": "f5f34d9b-b62a-4c3f-accd-8f359d88bdc8",
   "metadata": {},
   "source": [
    "# *Random Forest Regressor*"
   ]
  },
  {
   "cell_type": "code",
   "execution_count": 233,
   "id": "78656ac2-182c-44d7-aaa4-81658c36554f",
   "metadata": {},
   "outputs": [
    {
     "data": {
      "text/plain": [
       "Index(['CO(GT)', 'PT08.S1(CO)', 'NMHC(GT)', 'C6H6(GT)', 'PT08.S2(NMHC)',\n",
       "       'NOx(GT)', 'PT08.S3(NOx)', 'NO2(GT)', 'PT08.S4(NO2)', 'PT08.S5(O3)',\n",
       "       'T', 'RH', 'AH', 'day', 'month', 'CO_lag1', 'NO2_lag1', 'day_of_week',\n",
       "       'week_of_year', 'T_lag1', 'RH_lag1', 'AH_lag1'],\n",
       "      dtype='object')"
      ]
     },
     "execution_count": 233,
     "metadata": {},
     "output_type": "execute_result"
    }
   ],
   "source": [
    "df_daily.columns"
   ]
  },
  {
   "cell_type": "markdown",
   "id": "d7a073ee-1e88-4e4d-8d21-f7743229d8c6",
   "metadata": {},
   "source": [
    "### **NO2(GT)**"
   ]
  },
  {
   "cell_type": "code",
   "execution_count": 75,
   "id": "8c0e12b2-2c4b-478a-bb58-a48c5327319d",
   "metadata": {},
   "outputs": [],
   "source": [
    "x = df_daily.drop(['NO2(GT)'],axis=1)\n",
    "y = df_daily['NO2(GT)']"
   ]
  },
  {
   "cell_type": "code",
   "execution_count": 76,
   "id": "3547f098-13a0-4efc-bf13-b75a3f07fd12",
   "metadata": {},
   "outputs": [],
   "source": [
    "from sklearn.ensemble import RandomForestRegressor\n",
    "from sklearn.model_selection import train_test_split\n",
    "import numpy as np\n",
    "from sklearn.linear_model import LinearRegression\n",
    "from sklearn.metrics import mean_squared_error, mean_absolute_error"
   ]
  },
  {
   "cell_type": "code",
   "execution_count": 77,
   "id": "0fa9a38b-9485-4618-8a8b-b6c5e5466336",
   "metadata": {},
   "outputs": [],
   "source": [
    "x_train, x_test, y_train, y_test = train_test_split(x, y, test_size=0.3, shuffle=False,random_state=30)"
   ]
  },
  {
   "cell_type": "code",
   "execution_count": 78,
   "id": "233f10f5-9e34-454e-97ab-c03a70e1793c",
   "metadata": {},
   "outputs": [
    {
     "data": {
      "text/html": [
       "<style>#sk-container-id-1 {\n",
       "  /* Definition of color scheme common for light and dark mode */\n",
       "  --sklearn-color-text: black;\n",
       "  --sklearn-color-line: gray;\n",
       "  /* Definition of color scheme for unfitted estimators */\n",
       "  --sklearn-color-unfitted-level-0: #fff5e6;\n",
       "  --sklearn-color-unfitted-level-1: #f6e4d2;\n",
       "  --sklearn-color-unfitted-level-2: #ffe0b3;\n",
       "  --sklearn-color-unfitted-level-3: chocolate;\n",
       "  /* Definition of color scheme for fitted estimators */\n",
       "  --sklearn-color-fitted-level-0: #f0f8ff;\n",
       "  --sklearn-color-fitted-level-1: #d4ebff;\n",
       "  --sklearn-color-fitted-level-2: #b3dbfd;\n",
       "  --sklearn-color-fitted-level-3: cornflowerblue;\n",
       "\n",
       "  /* Specific color for light theme */\n",
       "  --sklearn-color-text-on-default-background: var(--sg-text-color, var(--theme-code-foreground, var(--jp-content-font-color1, black)));\n",
       "  --sklearn-color-background: var(--sg-background-color, var(--theme-background, var(--jp-layout-color0, white)));\n",
       "  --sklearn-color-border-box: var(--sg-text-color, var(--theme-code-foreground, var(--jp-content-font-color1, black)));\n",
       "  --sklearn-color-icon: #696969;\n",
       "\n",
       "  @media (prefers-color-scheme: dark) {\n",
       "    /* Redefinition of color scheme for dark theme */\n",
       "    --sklearn-color-text-on-default-background: var(--sg-text-color, var(--theme-code-foreground, var(--jp-content-font-color1, white)));\n",
       "    --sklearn-color-background: var(--sg-background-color, var(--theme-background, var(--jp-layout-color0, #111)));\n",
       "    --sklearn-color-border-box: var(--sg-text-color, var(--theme-code-foreground, var(--jp-content-font-color1, white)));\n",
       "    --sklearn-color-icon: #878787;\n",
       "  }\n",
       "}\n",
       "\n",
       "#sk-container-id-1 {\n",
       "  color: var(--sklearn-color-text);\n",
       "}\n",
       "\n",
       "#sk-container-id-1 pre {\n",
       "  padding: 0;\n",
       "}\n",
       "\n",
       "#sk-container-id-1 input.sk-hidden--visually {\n",
       "  border: 0;\n",
       "  clip: rect(1px 1px 1px 1px);\n",
       "  clip: rect(1px, 1px, 1px, 1px);\n",
       "  height: 1px;\n",
       "  margin: -1px;\n",
       "  overflow: hidden;\n",
       "  padding: 0;\n",
       "  position: absolute;\n",
       "  width: 1px;\n",
       "}\n",
       "\n",
       "#sk-container-id-1 div.sk-dashed-wrapped {\n",
       "  border: 1px dashed var(--sklearn-color-line);\n",
       "  margin: 0 0.4em 0.5em 0.4em;\n",
       "  box-sizing: border-box;\n",
       "  padding-bottom: 0.4em;\n",
       "  background-color: var(--sklearn-color-background);\n",
       "}\n",
       "\n",
       "#sk-container-id-1 div.sk-container {\n",
       "  /* jupyter's `normalize.less` sets `[hidden] { display: none; }`\n",
       "     but bootstrap.min.css set `[hidden] { display: none !important; }`\n",
       "     so we also need the `!important` here to be able to override the\n",
       "     default hidden behavior on the sphinx rendered scikit-learn.org.\n",
       "     See: https://github.com/scikit-learn/scikit-learn/issues/21755 */\n",
       "  display: inline-block !important;\n",
       "  position: relative;\n",
       "}\n",
       "\n",
       "#sk-container-id-1 div.sk-text-repr-fallback {\n",
       "  display: none;\n",
       "}\n",
       "\n",
       "div.sk-parallel-item,\n",
       "div.sk-serial,\n",
       "div.sk-item {\n",
       "  /* draw centered vertical line to link estimators */\n",
       "  background-image: linear-gradient(var(--sklearn-color-text-on-default-background), var(--sklearn-color-text-on-default-background));\n",
       "  background-size: 2px 100%;\n",
       "  background-repeat: no-repeat;\n",
       "  background-position: center center;\n",
       "}\n",
       "\n",
       "/* Parallel-specific style estimator block */\n",
       "\n",
       "#sk-container-id-1 div.sk-parallel-item::after {\n",
       "  content: \"\";\n",
       "  width: 100%;\n",
       "  border-bottom: 2px solid var(--sklearn-color-text-on-default-background);\n",
       "  flex-grow: 1;\n",
       "}\n",
       "\n",
       "#sk-container-id-1 div.sk-parallel {\n",
       "  display: flex;\n",
       "  align-items: stretch;\n",
       "  justify-content: center;\n",
       "  background-color: var(--sklearn-color-background);\n",
       "  position: relative;\n",
       "}\n",
       "\n",
       "#sk-container-id-1 div.sk-parallel-item {\n",
       "  display: flex;\n",
       "  flex-direction: column;\n",
       "}\n",
       "\n",
       "#sk-container-id-1 div.sk-parallel-item:first-child::after {\n",
       "  align-self: flex-end;\n",
       "  width: 50%;\n",
       "}\n",
       "\n",
       "#sk-container-id-1 div.sk-parallel-item:last-child::after {\n",
       "  align-self: flex-start;\n",
       "  width: 50%;\n",
       "}\n",
       "\n",
       "#sk-container-id-1 div.sk-parallel-item:only-child::after {\n",
       "  width: 0;\n",
       "}\n",
       "\n",
       "/* Serial-specific style estimator block */\n",
       "\n",
       "#sk-container-id-1 div.sk-serial {\n",
       "  display: flex;\n",
       "  flex-direction: column;\n",
       "  align-items: center;\n",
       "  background-color: var(--sklearn-color-background);\n",
       "  padding-right: 1em;\n",
       "  padding-left: 1em;\n",
       "}\n",
       "\n",
       "\n",
       "/* Toggleable style: style used for estimator/Pipeline/ColumnTransformer box that is\n",
       "clickable and can be expanded/collapsed.\n",
       "- Pipeline and ColumnTransformer use this feature and define the default style\n",
       "- Estimators will overwrite some part of the style using the `sk-estimator` class\n",
       "*/\n",
       "\n",
       "/* Pipeline and ColumnTransformer style (default) */\n",
       "\n",
       "#sk-container-id-1 div.sk-toggleable {\n",
       "  /* Default theme specific background. It is overwritten whether we have a\n",
       "  specific estimator or a Pipeline/ColumnTransformer */\n",
       "  background-color: var(--sklearn-color-background);\n",
       "}\n",
       "\n",
       "/* Toggleable label */\n",
       "#sk-container-id-1 label.sk-toggleable__label {\n",
       "  cursor: pointer;\n",
       "  display: block;\n",
       "  width: 100%;\n",
       "  margin-bottom: 0;\n",
       "  padding: 0.5em;\n",
       "  box-sizing: border-box;\n",
       "  text-align: center;\n",
       "}\n",
       "\n",
       "#sk-container-id-1 label.sk-toggleable__label-arrow:before {\n",
       "  /* Arrow on the left of the label */\n",
       "  content: \"▸\";\n",
       "  float: left;\n",
       "  margin-right: 0.25em;\n",
       "  color: var(--sklearn-color-icon);\n",
       "}\n",
       "\n",
       "#sk-container-id-1 label.sk-toggleable__label-arrow:hover:before {\n",
       "  color: var(--sklearn-color-text);\n",
       "}\n",
       "\n",
       "/* Toggleable content - dropdown */\n",
       "\n",
       "#sk-container-id-1 div.sk-toggleable__content {\n",
       "  max-height: 0;\n",
       "  max-width: 0;\n",
       "  overflow: hidden;\n",
       "  text-align: left;\n",
       "  /* unfitted */\n",
       "  background-color: var(--sklearn-color-unfitted-level-0);\n",
       "}\n",
       "\n",
       "#sk-container-id-1 div.sk-toggleable__content.fitted {\n",
       "  /* fitted */\n",
       "  background-color: var(--sklearn-color-fitted-level-0);\n",
       "}\n",
       "\n",
       "#sk-container-id-1 div.sk-toggleable__content pre {\n",
       "  margin: 0.2em;\n",
       "  border-radius: 0.25em;\n",
       "  color: var(--sklearn-color-text);\n",
       "  /* unfitted */\n",
       "  background-color: var(--sklearn-color-unfitted-level-0);\n",
       "}\n",
       "\n",
       "#sk-container-id-1 div.sk-toggleable__content.fitted pre {\n",
       "  /* unfitted */\n",
       "  background-color: var(--sklearn-color-fitted-level-0);\n",
       "}\n",
       "\n",
       "#sk-container-id-1 input.sk-toggleable__control:checked~div.sk-toggleable__content {\n",
       "  /* Expand drop-down */\n",
       "  max-height: 200px;\n",
       "  max-width: 100%;\n",
       "  overflow: auto;\n",
       "}\n",
       "\n",
       "#sk-container-id-1 input.sk-toggleable__control:checked~label.sk-toggleable__label-arrow:before {\n",
       "  content: \"▾\";\n",
       "}\n",
       "\n",
       "/* Pipeline/ColumnTransformer-specific style */\n",
       "\n",
       "#sk-container-id-1 div.sk-label input.sk-toggleable__control:checked~label.sk-toggleable__label {\n",
       "  color: var(--sklearn-color-text);\n",
       "  background-color: var(--sklearn-color-unfitted-level-2);\n",
       "}\n",
       "\n",
       "#sk-container-id-1 div.sk-label.fitted input.sk-toggleable__control:checked~label.sk-toggleable__label {\n",
       "  background-color: var(--sklearn-color-fitted-level-2);\n",
       "}\n",
       "\n",
       "/* Estimator-specific style */\n",
       "\n",
       "/* Colorize estimator box */\n",
       "#sk-container-id-1 div.sk-estimator input.sk-toggleable__control:checked~label.sk-toggleable__label {\n",
       "  /* unfitted */\n",
       "  background-color: var(--sklearn-color-unfitted-level-2);\n",
       "}\n",
       "\n",
       "#sk-container-id-1 div.sk-estimator.fitted input.sk-toggleable__control:checked~label.sk-toggleable__label {\n",
       "  /* fitted */\n",
       "  background-color: var(--sklearn-color-fitted-level-2);\n",
       "}\n",
       "\n",
       "#sk-container-id-1 div.sk-label label.sk-toggleable__label,\n",
       "#sk-container-id-1 div.sk-label label {\n",
       "  /* The background is the default theme color */\n",
       "  color: var(--sklearn-color-text-on-default-background);\n",
       "}\n",
       "\n",
       "/* On hover, darken the color of the background */\n",
       "#sk-container-id-1 div.sk-label:hover label.sk-toggleable__label {\n",
       "  color: var(--sklearn-color-text);\n",
       "  background-color: var(--sklearn-color-unfitted-level-2);\n",
       "}\n",
       "\n",
       "/* Label box, darken color on hover, fitted */\n",
       "#sk-container-id-1 div.sk-label.fitted:hover label.sk-toggleable__label.fitted {\n",
       "  color: var(--sklearn-color-text);\n",
       "  background-color: var(--sklearn-color-fitted-level-2);\n",
       "}\n",
       "\n",
       "/* Estimator label */\n",
       "\n",
       "#sk-container-id-1 div.sk-label label {\n",
       "  font-family: monospace;\n",
       "  font-weight: bold;\n",
       "  display: inline-block;\n",
       "  line-height: 1.2em;\n",
       "}\n",
       "\n",
       "#sk-container-id-1 div.sk-label-container {\n",
       "  text-align: center;\n",
       "}\n",
       "\n",
       "/* Estimator-specific */\n",
       "#sk-container-id-1 div.sk-estimator {\n",
       "  font-family: monospace;\n",
       "  border: 1px dotted var(--sklearn-color-border-box);\n",
       "  border-radius: 0.25em;\n",
       "  box-sizing: border-box;\n",
       "  margin-bottom: 0.5em;\n",
       "  /* unfitted */\n",
       "  background-color: var(--sklearn-color-unfitted-level-0);\n",
       "}\n",
       "\n",
       "#sk-container-id-1 div.sk-estimator.fitted {\n",
       "  /* fitted */\n",
       "  background-color: var(--sklearn-color-fitted-level-0);\n",
       "}\n",
       "\n",
       "/* on hover */\n",
       "#sk-container-id-1 div.sk-estimator:hover {\n",
       "  /* unfitted */\n",
       "  background-color: var(--sklearn-color-unfitted-level-2);\n",
       "}\n",
       "\n",
       "#sk-container-id-1 div.sk-estimator.fitted:hover {\n",
       "  /* fitted */\n",
       "  background-color: var(--sklearn-color-fitted-level-2);\n",
       "}\n",
       "\n",
       "/* Specification for estimator info (e.g. \"i\" and \"?\") */\n",
       "\n",
       "/* Common style for \"i\" and \"?\" */\n",
       "\n",
       ".sk-estimator-doc-link,\n",
       "a:link.sk-estimator-doc-link,\n",
       "a:visited.sk-estimator-doc-link {\n",
       "  float: right;\n",
       "  font-size: smaller;\n",
       "  line-height: 1em;\n",
       "  font-family: monospace;\n",
       "  background-color: var(--sklearn-color-background);\n",
       "  border-radius: 1em;\n",
       "  height: 1em;\n",
       "  width: 1em;\n",
       "  text-decoration: none !important;\n",
       "  margin-left: 1ex;\n",
       "  /* unfitted */\n",
       "  border: var(--sklearn-color-unfitted-level-1) 1pt solid;\n",
       "  color: var(--sklearn-color-unfitted-level-1);\n",
       "}\n",
       "\n",
       ".sk-estimator-doc-link.fitted,\n",
       "a:link.sk-estimator-doc-link.fitted,\n",
       "a:visited.sk-estimator-doc-link.fitted {\n",
       "  /* fitted */\n",
       "  border: var(--sklearn-color-fitted-level-1) 1pt solid;\n",
       "  color: var(--sklearn-color-fitted-level-1);\n",
       "}\n",
       "\n",
       "/* On hover */\n",
       "div.sk-estimator:hover .sk-estimator-doc-link:hover,\n",
       ".sk-estimator-doc-link:hover,\n",
       "div.sk-label-container:hover .sk-estimator-doc-link:hover,\n",
       ".sk-estimator-doc-link:hover {\n",
       "  /* unfitted */\n",
       "  background-color: var(--sklearn-color-unfitted-level-3);\n",
       "  color: var(--sklearn-color-background);\n",
       "  text-decoration: none;\n",
       "}\n",
       "\n",
       "div.sk-estimator.fitted:hover .sk-estimator-doc-link.fitted:hover,\n",
       ".sk-estimator-doc-link.fitted:hover,\n",
       "div.sk-label-container:hover .sk-estimator-doc-link.fitted:hover,\n",
       ".sk-estimator-doc-link.fitted:hover {\n",
       "  /* fitted */\n",
       "  background-color: var(--sklearn-color-fitted-level-3);\n",
       "  color: var(--sklearn-color-background);\n",
       "  text-decoration: none;\n",
       "}\n",
       "\n",
       "/* Span, style for the box shown on hovering the info icon */\n",
       ".sk-estimator-doc-link span {\n",
       "  display: none;\n",
       "  z-index: 9999;\n",
       "  position: relative;\n",
       "  font-weight: normal;\n",
       "  right: .2ex;\n",
       "  padding: .5ex;\n",
       "  margin: .5ex;\n",
       "  width: min-content;\n",
       "  min-width: 20ex;\n",
       "  max-width: 50ex;\n",
       "  color: var(--sklearn-color-text);\n",
       "  box-shadow: 2pt 2pt 4pt #999;\n",
       "  /* unfitted */\n",
       "  background: var(--sklearn-color-unfitted-level-0);\n",
       "  border: .5pt solid var(--sklearn-color-unfitted-level-3);\n",
       "}\n",
       "\n",
       ".sk-estimator-doc-link.fitted span {\n",
       "  /* fitted */\n",
       "  background: var(--sklearn-color-fitted-level-0);\n",
       "  border: var(--sklearn-color-fitted-level-3);\n",
       "}\n",
       "\n",
       ".sk-estimator-doc-link:hover span {\n",
       "  display: block;\n",
       "}\n",
       "\n",
       "/* \"?\"-specific style due to the `<a>` HTML tag */\n",
       "\n",
       "#sk-container-id-1 a.estimator_doc_link {\n",
       "  float: right;\n",
       "  font-size: 1rem;\n",
       "  line-height: 1em;\n",
       "  font-family: monospace;\n",
       "  background-color: var(--sklearn-color-background);\n",
       "  border-radius: 1rem;\n",
       "  height: 1rem;\n",
       "  width: 1rem;\n",
       "  text-decoration: none;\n",
       "  /* unfitted */\n",
       "  color: var(--sklearn-color-unfitted-level-1);\n",
       "  border: var(--sklearn-color-unfitted-level-1) 1pt solid;\n",
       "}\n",
       "\n",
       "#sk-container-id-1 a.estimator_doc_link.fitted {\n",
       "  /* fitted */\n",
       "  border: var(--sklearn-color-fitted-level-1) 1pt solid;\n",
       "  color: var(--sklearn-color-fitted-level-1);\n",
       "}\n",
       "\n",
       "/* On hover */\n",
       "#sk-container-id-1 a.estimator_doc_link:hover {\n",
       "  /* unfitted */\n",
       "  background-color: var(--sklearn-color-unfitted-level-3);\n",
       "  color: var(--sklearn-color-background);\n",
       "  text-decoration: none;\n",
       "}\n",
       "\n",
       "#sk-container-id-1 a.estimator_doc_link.fitted:hover {\n",
       "  /* fitted */\n",
       "  background-color: var(--sklearn-color-fitted-level-3);\n",
       "}\n",
       "</style><div id=\"sk-container-id-1\" class=\"sk-top-container\"><div class=\"sk-text-repr-fallback\"><pre>RandomForestRegressor(n_estimators=200, random_state=30)</pre><b>In a Jupyter environment, please rerun this cell to show the HTML representation or trust the notebook. <br />On GitHub, the HTML representation is unable to render, please try loading this page with nbviewer.org.</b></div><div class=\"sk-container\" hidden><div class=\"sk-item\"><div class=\"sk-estimator fitted sk-toggleable\"><input class=\"sk-toggleable__control sk-hidden--visually\" id=\"sk-estimator-id-1\" type=\"checkbox\" checked><label for=\"sk-estimator-id-1\" class=\"sk-toggleable__label fitted sk-toggleable__label-arrow fitted\">&nbsp;&nbsp;RandomForestRegressor<a class=\"sk-estimator-doc-link fitted\" rel=\"noreferrer\" target=\"_blank\" href=\"https://scikit-learn.org/1.5/modules/generated/sklearn.ensemble.RandomForestRegressor.html\">?<span>Documentation for RandomForestRegressor</span></a><span class=\"sk-estimator-doc-link fitted\">i<span>Fitted</span></span></label><div class=\"sk-toggleable__content fitted\"><pre>RandomForestRegressor(n_estimators=200, random_state=30)</pre></div> </div></div></div></div>"
      ],
      "text/plain": [
       "RandomForestRegressor(n_estimators=200, random_state=30)"
      ]
     },
     "execution_count": 78,
     "metadata": {},
     "output_type": "execute_result"
    }
   ],
   "source": [
    "# Train model\n",
    "rf_model = RandomForestRegressor(n_estimators=200,random_state=30)\n",
    "rf_model.fit(x_train, y_train)"
   ]
  },
  {
   "cell_type": "code",
   "execution_count": 79,
   "id": "0b5c84ea-fca3-4308-bc02-0382a9153dfb",
   "metadata": {},
   "outputs": [],
   "source": [
    "# Predict\n",
    "y_pred = rf_model.predict(x_test)"
   ]
  },
  {
   "cell_type": "code",
   "execution_count": 80,
   "id": "1a775a0a-d7ff-4e73-bf14-c2977220f7f3",
   "metadata": {},
   "outputs": [
    {
     "data": {
      "text/plain": [
       "0.9891023684418143"
      ]
     },
     "execution_count": 80,
     "metadata": {},
     "output_type": "execute_result"
    }
   ],
   "source": [
    "rf_model.score(x_train,y_train)"
   ]
  },
  {
   "cell_type": "code",
   "execution_count": 81,
   "id": "d38fdefb-097d-4434-bc82-10c68394728d",
   "metadata": {},
   "outputs": [
    {
     "data": {
      "text/plain": [
       "0.6723157736595049"
      ]
     },
     "execution_count": 81,
     "metadata": {},
     "output_type": "execute_result"
    }
   ],
   "source": [
    "rf_model.score(x_test,y_test)"
   ]
  },
  {
   "cell_type": "code",
   "execution_count": 82,
   "id": "bb25f317-2b0f-4f3f-a859-6cb707c6b263",
   "metadata": {},
   "outputs": [
    {
     "name": "stdout",
     "output_type": "stream",
     "text": [
      "MAE: 16.55, RMSE: 21.28\n"
     ]
    }
   ],
   "source": [
    "mae = mean_absolute_error(y_test, y_pred)\n",
    "rmse = np.sqrt(mean_squared_error(y_test, y_pred))\n",
    "print(f\"MAE: {mae:.2f}, RMSE: {rmse:.2f}\")"
   ]
  },
  {
   "cell_type": "markdown",
   "id": "4582fb04-b893-41be-883d-fe98de3f89be",
   "metadata": {},
   "source": [
    "### **CO(GT)**"
   ]
  },
  {
   "cell_type": "code",
   "execution_count": 84,
   "id": "52a77645-959a-4442-b850-90aac96c19cd",
   "metadata": {},
   "outputs": [
    {
     "data": {
      "text/plain": [
       "Index(['CO(GT)', 'PT08.S1(CO)', 'NMHC(GT)', 'C6H6(GT)', 'PT08.S2(NMHC)',\n",
       "       'NOx(GT)', 'PT08.S3(NOx)', 'NO2(GT)', 'PT08.S4(NO2)', 'PT08.S5(O3)',\n",
       "       'T', 'RH', 'AH', 'day', 'month', 'CO_lag1', 'NO2_lag1', 'day_of_week',\n",
       "       'week_of_year', 'T_lag1', 'RH_lag1', 'AH_lag1'],\n",
       "      dtype='object')"
      ]
     },
     "execution_count": 84,
     "metadata": {},
     "output_type": "execute_result"
    }
   ],
   "source": [
    "df_daily.columns"
   ]
  },
  {
   "cell_type": "code",
   "execution_count": 85,
   "id": "cf977aea-bd60-48ac-a8b3-9483ae688cab",
   "metadata": {},
   "outputs": [],
   "source": [
    "x_co = df_daily.drop(['CO(GT)'],axis=1)\n",
    "y_co = df_daily['CO(GT)']"
   ]
  },
  {
   "cell_type": "code",
   "execution_count": 86,
   "id": "34709269-b74f-412e-865c-fa94e114fd68",
   "metadata": {},
   "outputs": [],
   "source": [
    "xtrain, xtest, ytrain, ytest = train_test_split(x_co, y_co, test_size=0.3, shuffle=False,random_state=30)"
   ]
  },
  {
   "cell_type": "code",
   "execution_count": 87,
   "id": "f283b791-1b40-4ca9-854c-e2d603487fd4",
   "metadata": {},
   "outputs": [
    {
     "data": {
      "text/html": [
       "<style>#sk-container-id-2 {\n",
       "  /* Definition of color scheme common for light and dark mode */\n",
       "  --sklearn-color-text: black;\n",
       "  --sklearn-color-line: gray;\n",
       "  /* Definition of color scheme for unfitted estimators */\n",
       "  --sklearn-color-unfitted-level-0: #fff5e6;\n",
       "  --sklearn-color-unfitted-level-1: #f6e4d2;\n",
       "  --sklearn-color-unfitted-level-2: #ffe0b3;\n",
       "  --sklearn-color-unfitted-level-3: chocolate;\n",
       "  /* Definition of color scheme for fitted estimators */\n",
       "  --sklearn-color-fitted-level-0: #f0f8ff;\n",
       "  --sklearn-color-fitted-level-1: #d4ebff;\n",
       "  --sklearn-color-fitted-level-2: #b3dbfd;\n",
       "  --sklearn-color-fitted-level-3: cornflowerblue;\n",
       "\n",
       "  /* Specific color for light theme */\n",
       "  --sklearn-color-text-on-default-background: var(--sg-text-color, var(--theme-code-foreground, var(--jp-content-font-color1, black)));\n",
       "  --sklearn-color-background: var(--sg-background-color, var(--theme-background, var(--jp-layout-color0, white)));\n",
       "  --sklearn-color-border-box: var(--sg-text-color, var(--theme-code-foreground, var(--jp-content-font-color1, black)));\n",
       "  --sklearn-color-icon: #696969;\n",
       "\n",
       "  @media (prefers-color-scheme: dark) {\n",
       "    /* Redefinition of color scheme for dark theme */\n",
       "    --sklearn-color-text-on-default-background: var(--sg-text-color, var(--theme-code-foreground, var(--jp-content-font-color1, white)));\n",
       "    --sklearn-color-background: var(--sg-background-color, var(--theme-background, var(--jp-layout-color0, #111)));\n",
       "    --sklearn-color-border-box: var(--sg-text-color, var(--theme-code-foreground, var(--jp-content-font-color1, white)));\n",
       "    --sklearn-color-icon: #878787;\n",
       "  }\n",
       "}\n",
       "\n",
       "#sk-container-id-2 {\n",
       "  color: var(--sklearn-color-text);\n",
       "}\n",
       "\n",
       "#sk-container-id-2 pre {\n",
       "  padding: 0;\n",
       "}\n",
       "\n",
       "#sk-container-id-2 input.sk-hidden--visually {\n",
       "  border: 0;\n",
       "  clip: rect(1px 1px 1px 1px);\n",
       "  clip: rect(1px, 1px, 1px, 1px);\n",
       "  height: 1px;\n",
       "  margin: -1px;\n",
       "  overflow: hidden;\n",
       "  padding: 0;\n",
       "  position: absolute;\n",
       "  width: 1px;\n",
       "}\n",
       "\n",
       "#sk-container-id-2 div.sk-dashed-wrapped {\n",
       "  border: 1px dashed var(--sklearn-color-line);\n",
       "  margin: 0 0.4em 0.5em 0.4em;\n",
       "  box-sizing: border-box;\n",
       "  padding-bottom: 0.4em;\n",
       "  background-color: var(--sklearn-color-background);\n",
       "}\n",
       "\n",
       "#sk-container-id-2 div.sk-container {\n",
       "  /* jupyter's `normalize.less` sets `[hidden] { display: none; }`\n",
       "     but bootstrap.min.css set `[hidden] { display: none !important; }`\n",
       "     so we also need the `!important` here to be able to override the\n",
       "     default hidden behavior on the sphinx rendered scikit-learn.org.\n",
       "     See: https://github.com/scikit-learn/scikit-learn/issues/21755 */\n",
       "  display: inline-block !important;\n",
       "  position: relative;\n",
       "}\n",
       "\n",
       "#sk-container-id-2 div.sk-text-repr-fallback {\n",
       "  display: none;\n",
       "}\n",
       "\n",
       "div.sk-parallel-item,\n",
       "div.sk-serial,\n",
       "div.sk-item {\n",
       "  /* draw centered vertical line to link estimators */\n",
       "  background-image: linear-gradient(var(--sklearn-color-text-on-default-background), var(--sklearn-color-text-on-default-background));\n",
       "  background-size: 2px 100%;\n",
       "  background-repeat: no-repeat;\n",
       "  background-position: center center;\n",
       "}\n",
       "\n",
       "/* Parallel-specific style estimator block */\n",
       "\n",
       "#sk-container-id-2 div.sk-parallel-item::after {\n",
       "  content: \"\";\n",
       "  width: 100%;\n",
       "  border-bottom: 2px solid var(--sklearn-color-text-on-default-background);\n",
       "  flex-grow: 1;\n",
       "}\n",
       "\n",
       "#sk-container-id-2 div.sk-parallel {\n",
       "  display: flex;\n",
       "  align-items: stretch;\n",
       "  justify-content: center;\n",
       "  background-color: var(--sklearn-color-background);\n",
       "  position: relative;\n",
       "}\n",
       "\n",
       "#sk-container-id-2 div.sk-parallel-item {\n",
       "  display: flex;\n",
       "  flex-direction: column;\n",
       "}\n",
       "\n",
       "#sk-container-id-2 div.sk-parallel-item:first-child::after {\n",
       "  align-self: flex-end;\n",
       "  width: 50%;\n",
       "}\n",
       "\n",
       "#sk-container-id-2 div.sk-parallel-item:last-child::after {\n",
       "  align-self: flex-start;\n",
       "  width: 50%;\n",
       "}\n",
       "\n",
       "#sk-container-id-2 div.sk-parallel-item:only-child::after {\n",
       "  width: 0;\n",
       "}\n",
       "\n",
       "/* Serial-specific style estimator block */\n",
       "\n",
       "#sk-container-id-2 div.sk-serial {\n",
       "  display: flex;\n",
       "  flex-direction: column;\n",
       "  align-items: center;\n",
       "  background-color: var(--sklearn-color-background);\n",
       "  padding-right: 1em;\n",
       "  padding-left: 1em;\n",
       "}\n",
       "\n",
       "\n",
       "/* Toggleable style: style used for estimator/Pipeline/ColumnTransformer box that is\n",
       "clickable and can be expanded/collapsed.\n",
       "- Pipeline and ColumnTransformer use this feature and define the default style\n",
       "- Estimators will overwrite some part of the style using the `sk-estimator` class\n",
       "*/\n",
       "\n",
       "/* Pipeline and ColumnTransformer style (default) */\n",
       "\n",
       "#sk-container-id-2 div.sk-toggleable {\n",
       "  /* Default theme specific background. It is overwritten whether we have a\n",
       "  specific estimator or a Pipeline/ColumnTransformer */\n",
       "  background-color: var(--sklearn-color-background);\n",
       "}\n",
       "\n",
       "/* Toggleable label */\n",
       "#sk-container-id-2 label.sk-toggleable__label {\n",
       "  cursor: pointer;\n",
       "  display: block;\n",
       "  width: 100%;\n",
       "  margin-bottom: 0;\n",
       "  padding: 0.5em;\n",
       "  box-sizing: border-box;\n",
       "  text-align: center;\n",
       "}\n",
       "\n",
       "#sk-container-id-2 label.sk-toggleable__label-arrow:before {\n",
       "  /* Arrow on the left of the label */\n",
       "  content: \"▸\";\n",
       "  float: left;\n",
       "  margin-right: 0.25em;\n",
       "  color: var(--sklearn-color-icon);\n",
       "}\n",
       "\n",
       "#sk-container-id-2 label.sk-toggleable__label-arrow:hover:before {\n",
       "  color: var(--sklearn-color-text);\n",
       "}\n",
       "\n",
       "/* Toggleable content - dropdown */\n",
       "\n",
       "#sk-container-id-2 div.sk-toggleable__content {\n",
       "  max-height: 0;\n",
       "  max-width: 0;\n",
       "  overflow: hidden;\n",
       "  text-align: left;\n",
       "  /* unfitted */\n",
       "  background-color: var(--sklearn-color-unfitted-level-0);\n",
       "}\n",
       "\n",
       "#sk-container-id-2 div.sk-toggleable__content.fitted {\n",
       "  /* fitted */\n",
       "  background-color: var(--sklearn-color-fitted-level-0);\n",
       "}\n",
       "\n",
       "#sk-container-id-2 div.sk-toggleable__content pre {\n",
       "  margin: 0.2em;\n",
       "  border-radius: 0.25em;\n",
       "  color: var(--sklearn-color-text);\n",
       "  /* unfitted */\n",
       "  background-color: var(--sklearn-color-unfitted-level-0);\n",
       "}\n",
       "\n",
       "#sk-container-id-2 div.sk-toggleable__content.fitted pre {\n",
       "  /* unfitted */\n",
       "  background-color: var(--sklearn-color-fitted-level-0);\n",
       "}\n",
       "\n",
       "#sk-container-id-2 input.sk-toggleable__control:checked~div.sk-toggleable__content {\n",
       "  /* Expand drop-down */\n",
       "  max-height: 200px;\n",
       "  max-width: 100%;\n",
       "  overflow: auto;\n",
       "}\n",
       "\n",
       "#sk-container-id-2 input.sk-toggleable__control:checked~label.sk-toggleable__label-arrow:before {\n",
       "  content: \"▾\";\n",
       "}\n",
       "\n",
       "/* Pipeline/ColumnTransformer-specific style */\n",
       "\n",
       "#sk-container-id-2 div.sk-label input.sk-toggleable__control:checked~label.sk-toggleable__label {\n",
       "  color: var(--sklearn-color-text);\n",
       "  background-color: var(--sklearn-color-unfitted-level-2);\n",
       "}\n",
       "\n",
       "#sk-container-id-2 div.sk-label.fitted input.sk-toggleable__control:checked~label.sk-toggleable__label {\n",
       "  background-color: var(--sklearn-color-fitted-level-2);\n",
       "}\n",
       "\n",
       "/* Estimator-specific style */\n",
       "\n",
       "/* Colorize estimator box */\n",
       "#sk-container-id-2 div.sk-estimator input.sk-toggleable__control:checked~label.sk-toggleable__label {\n",
       "  /* unfitted */\n",
       "  background-color: var(--sklearn-color-unfitted-level-2);\n",
       "}\n",
       "\n",
       "#sk-container-id-2 div.sk-estimator.fitted input.sk-toggleable__control:checked~label.sk-toggleable__label {\n",
       "  /* fitted */\n",
       "  background-color: var(--sklearn-color-fitted-level-2);\n",
       "}\n",
       "\n",
       "#sk-container-id-2 div.sk-label label.sk-toggleable__label,\n",
       "#sk-container-id-2 div.sk-label label {\n",
       "  /* The background is the default theme color */\n",
       "  color: var(--sklearn-color-text-on-default-background);\n",
       "}\n",
       "\n",
       "/* On hover, darken the color of the background */\n",
       "#sk-container-id-2 div.sk-label:hover label.sk-toggleable__label {\n",
       "  color: var(--sklearn-color-text);\n",
       "  background-color: var(--sklearn-color-unfitted-level-2);\n",
       "}\n",
       "\n",
       "/* Label box, darken color on hover, fitted */\n",
       "#sk-container-id-2 div.sk-label.fitted:hover label.sk-toggleable__label.fitted {\n",
       "  color: var(--sklearn-color-text);\n",
       "  background-color: var(--sklearn-color-fitted-level-2);\n",
       "}\n",
       "\n",
       "/* Estimator label */\n",
       "\n",
       "#sk-container-id-2 div.sk-label label {\n",
       "  font-family: monospace;\n",
       "  font-weight: bold;\n",
       "  display: inline-block;\n",
       "  line-height: 1.2em;\n",
       "}\n",
       "\n",
       "#sk-container-id-2 div.sk-label-container {\n",
       "  text-align: center;\n",
       "}\n",
       "\n",
       "/* Estimator-specific */\n",
       "#sk-container-id-2 div.sk-estimator {\n",
       "  font-family: monospace;\n",
       "  border: 1px dotted var(--sklearn-color-border-box);\n",
       "  border-radius: 0.25em;\n",
       "  box-sizing: border-box;\n",
       "  margin-bottom: 0.5em;\n",
       "  /* unfitted */\n",
       "  background-color: var(--sklearn-color-unfitted-level-0);\n",
       "}\n",
       "\n",
       "#sk-container-id-2 div.sk-estimator.fitted {\n",
       "  /* fitted */\n",
       "  background-color: var(--sklearn-color-fitted-level-0);\n",
       "}\n",
       "\n",
       "/* on hover */\n",
       "#sk-container-id-2 div.sk-estimator:hover {\n",
       "  /* unfitted */\n",
       "  background-color: var(--sklearn-color-unfitted-level-2);\n",
       "}\n",
       "\n",
       "#sk-container-id-2 div.sk-estimator.fitted:hover {\n",
       "  /* fitted */\n",
       "  background-color: var(--sklearn-color-fitted-level-2);\n",
       "}\n",
       "\n",
       "/* Specification for estimator info (e.g. \"i\" and \"?\") */\n",
       "\n",
       "/* Common style for \"i\" and \"?\" */\n",
       "\n",
       ".sk-estimator-doc-link,\n",
       "a:link.sk-estimator-doc-link,\n",
       "a:visited.sk-estimator-doc-link {\n",
       "  float: right;\n",
       "  font-size: smaller;\n",
       "  line-height: 1em;\n",
       "  font-family: monospace;\n",
       "  background-color: var(--sklearn-color-background);\n",
       "  border-radius: 1em;\n",
       "  height: 1em;\n",
       "  width: 1em;\n",
       "  text-decoration: none !important;\n",
       "  margin-left: 1ex;\n",
       "  /* unfitted */\n",
       "  border: var(--sklearn-color-unfitted-level-1) 1pt solid;\n",
       "  color: var(--sklearn-color-unfitted-level-1);\n",
       "}\n",
       "\n",
       ".sk-estimator-doc-link.fitted,\n",
       "a:link.sk-estimator-doc-link.fitted,\n",
       "a:visited.sk-estimator-doc-link.fitted {\n",
       "  /* fitted */\n",
       "  border: var(--sklearn-color-fitted-level-1) 1pt solid;\n",
       "  color: var(--sklearn-color-fitted-level-1);\n",
       "}\n",
       "\n",
       "/* On hover */\n",
       "div.sk-estimator:hover .sk-estimator-doc-link:hover,\n",
       ".sk-estimator-doc-link:hover,\n",
       "div.sk-label-container:hover .sk-estimator-doc-link:hover,\n",
       ".sk-estimator-doc-link:hover {\n",
       "  /* unfitted */\n",
       "  background-color: var(--sklearn-color-unfitted-level-3);\n",
       "  color: var(--sklearn-color-background);\n",
       "  text-decoration: none;\n",
       "}\n",
       "\n",
       "div.sk-estimator.fitted:hover .sk-estimator-doc-link.fitted:hover,\n",
       ".sk-estimator-doc-link.fitted:hover,\n",
       "div.sk-label-container:hover .sk-estimator-doc-link.fitted:hover,\n",
       ".sk-estimator-doc-link.fitted:hover {\n",
       "  /* fitted */\n",
       "  background-color: var(--sklearn-color-fitted-level-3);\n",
       "  color: var(--sklearn-color-background);\n",
       "  text-decoration: none;\n",
       "}\n",
       "\n",
       "/* Span, style for the box shown on hovering the info icon */\n",
       ".sk-estimator-doc-link span {\n",
       "  display: none;\n",
       "  z-index: 9999;\n",
       "  position: relative;\n",
       "  font-weight: normal;\n",
       "  right: .2ex;\n",
       "  padding: .5ex;\n",
       "  margin: .5ex;\n",
       "  width: min-content;\n",
       "  min-width: 20ex;\n",
       "  max-width: 50ex;\n",
       "  color: var(--sklearn-color-text);\n",
       "  box-shadow: 2pt 2pt 4pt #999;\n",
       "  /* unfitted */\n",
       "  background: var(--sklearn-color-unfitted-level-0);\n",
       "  border: .5pt solid var(--sklearn-color-unfitted-level-3);\n",
       "}\n",
       "\n",
       ".sk-estimator-doc-link.fitted span {\n",
       "  /* fitted */\n",
       "  background: var(--sklearn-color-fitted-level-0);\n",
       "  border: var(--sklearn-color-fitted-level-3);\n",
       "}\n",
       "\n",
       ".sk-estimator-doc-link:hover span {\n",
       "  display: block;\n",
       "}\n",
       "\n",
       "/* \"?\"-specific style due to the `<a>` HTML tag */\n",
       "\n",
       "#sk-container-id-2 a.estimator_doc_link {\n",
       "  float: right;\n",
       "  font-size: 1rem;\n",
       "  line-height: 1em;\n",
       "  font-family: monospace;\n",
       "  background-color: var(--sklearn-color-background);\n",
       "  border-radius: 1rem;\n",
       "  height: 1rem;\n",
       "  width: 1rem;\n",
       "  text-decoration: none;\n",
       "  /* unfitted */\n",
       "  color: var(--sklearn-color-unfitted-level-1);\n",
       "  border: var(--sklearn-color-unfitted-level-1) 1pt solid;\n",
       "}\n",
       "\n",
       "#sk-container-id-2 a.estimator_doc_link.fitted {\n",
       "  /* fitted */\n",
       "  border: var(--sklearn-color-fitted-level-1) 1pt solid;\n",
       "  color: var(--sklearn-color-fitted-level-1);\n",
       "}\n",
       "\n",
       "/* On hover */\n",
       "#sk-container-id-2 a.estimator_doc_link:hover {\n",
       "  /* unfitted */\n",
       "  background-color: var(--sklearn-color-unfitted-level-3);\n",
       "  color: var(--sklearn-color-background);\n",
       "  text-decoration: none;\n",
       "}\n",
       "\n",
       "#sk-container-id-2 a.estimator_doc_link.fitted:hover {\n",
       "  /* fitted */\n",
       "  background-color: var(--sklearn-color-fitted-level-3);\n",
       "}\n",
       "</style><div id=\"sk-container-id-2\" class=\"sk-top-container\"><div class=\"sk-text-repr-fallback\"><pre>RandomForestRegressor(n_estimators=200, random_state=30)</pre><b>In a Jupyter environment, please rerun this cell to show the HTML representation or trust the notebook. <br />On GitHub, the HTML representation is unable to render, please try loading this page with nbviewer.org.</b></div><div class=\"sk-container\" hidden><div class=\"sk-item\"><div class=\"sk-estimator fitted sk-toggleable\"><input class=\"sk-toggleable__control sk-hidden--visually\" id=\"sk-estimator-id-2\" type=\"checkbox\" checked><label for=\"sk-estimator-id-2\" class=\"sk-toggleable__label fitted sk-toggleable__label-arrow fitted\">&nbsp;&nbsp;RandomForestRegressor<a class=\"sk-estimator-doc-link fitted\" rel=\"noreferrer\" target=\"_blank\" href=\"https://scikit-learn.org/1.5/modules/generated/sklearn.ensemble.RandomForestRegressor.html\">?<span>Documentation for RandomForestRegressor</span></a><span class=\"sk-estimator-doc-link fitted\">i<span>Fitted</span></span></label><div class=\"sk-toggleable__content fitted\"><pre>RandomForestRegressor(n_estimators=200, random_state=30)</pre></div> </div></div></div></div>"
      ],
      "text/plain": [
       "RandomForestRegressor(n_estimators=200, random_state=30)"
      ]
     },
     "execution_count": 87,
     "metadata": {},
     "output_type": "execute_result"
    }
   ],
   "source": [
    "# Train model\n",
    "rf_model_co = RandomForestRegressor(n_estimators=200,random_state=30)\n",
    "rf_model_co.fit(xtrain, ytrain)"
   ]
  },
  {
   "cell_type": "code",
   "execution_count": 88,
   "id": "8e9875ca-dc9a-4db7-9ba4-63f6b736d450",
   "metadata": {},
   "outputs": [],
   "source": [
    "# Predict\n",
    "ypred = rf_model_co.predict(xtest)"
   ]
  },
  {
   "cell_type": "code",
   "execution_count": 89,
   "id": "9aed6ff2-5d5b-4b9c-be64-9377e50de9e6",
   "metadata": {},
   "outputs": [
    {
     "data": {
      "text/plain": [
       "0.9584336629051624"
      ]
     },
     "execution_count": 89,
     "metadata": {},
     "output_type": "execute_result"
    }
   ],
   "source": [
    "rf_model_co.score(xtrain,ytrain)"
   ]
  },
  {
   "cell_type": "code",
   "execution_count": 90,
   "id": "b7202016-0489-42ad-b51a-1bf2f2e9c9a6",
   "metadata": {},
   "outputs": [
    {
     "data": {
      "text/plain": [
       "0.3600743407328546"
      ]
     },
     "execution_count": 90,
     "metadata": {},
     "output_type": "execute_result"
    }
   ],
   "source": [
    "rf_model_co.score(xtest,ytest)"
   ]
  },
  {
   "cell_type": "code",
   "execution_count": 91,
   "id": "610c38a9-e1ec-4684-8b8c-4af61f8dd4e9",
   "metadata": {},
   "outputs": [
    {
     "name": "stdout",
     "output_type": "stream",
     "text": [
      "MAE: 6.46, RMSE: 9.23\n"
     ]
    }
   ],
   "source": [
    "mae = mean_absolute_error(ytest, ypred)\n",
    "rmse = np.sqrt(mean_squared_error(ytest, ypred))\n",
    "print(f\"MAE: {mae:.2f}, RMSE: {rmse:.2f}\")"
   ]
  },
  {
   "cell_type": "markdown",
   "id": "76f0bfac-1db1-483d-ab0f-506d8cb55eda",
   "metadata": {},
   "source": [
    "# Deep Learning Models"
   ]
  },
  {
   "cell_type": "markdown",
   "id": "1644cbb9-da47-490b-bb6f-b86815321e8c",
   "metadata": {},
   "source": [
    "### *NO2(GT) PREDICTION*"
   ]
  },
  {
   "cell_type": "code",
   "execution_count": 309,
   "id": "50bfeea4-f636-4900-aa68-0dfd3fca01f2",
   "metadata": {},
   "outputs": [
    {
     "name": "stdout",
     "output_type": "stream",
     "text": [
      "ADF value: -2.791884637068419\n",
      "p-value: 0.059442373116984464\n",
      "The time series is not stationary. Differencing will be applied\n"
     ]
    }
   ],
   "source": [
    "# applying differencing to find seasonality\n",
    "from statsmodels.tsa.stattools import adfuller\n",
    "result = adfuller(df_daily['NO2(GT)'])\n",
    "print('ADF value:', result[0])\n",
    "print('p-value:', result[1])\n",
    "\n",
    "if result[1] >0.05:\n",
    "    print('The time series is not stationary. Differencing will be applied')\n",
    "    df_daily['NO2(GT)_diff'] = df_daily['NO2(GT)'].diff().dropna()\n",
    "\n",
    "else:\n",
    "    print('The series is stationary. Proceeding without differencing')"
   ]
  },
  {
   "cell_type": "code",
   "execution_count": 311,
   "id": "8cffb44f-d3bb-4d89-abd6-cd0479f0b511",
   "metadata": {},
   "outputs": [],
   "source": [
    "df_daily = df_daily.drop(df_daily.index[0])"
   ]
  },
  {
   "cell_type": "code",
   "execution_count": 313,
   "id": "798804c9-1ca7-4924-ab64-60d681db0a9c",
   "metadata": {},
   "outputs": [
    {
     "data": {
      "text/plain": [
       "Index(['CO(GT)', 'PT08.S1(CO)', 'NMHC(GT)', 'C6H6(GT)', 'PT08.S2(NMHC)',\n",
       "       'NOx(GT)', 'PT08.S3(NOx)', 'NO2(GT)', 'PT08.S4(NO2)', 'PT08.S5(O3)',\n",
       "       'T', 'RH', 'AH', 'day', 'month', 'CO_lag1', 'NO2_lag1', 'day_of_week',\n",
       "       'week_of_year', 'T_lag1', 'RH_lag1', 'AH_lag1', 'NO2(GT)_diff'],\n",
       "      dtype='object')"
      ]
     },
     "execution_count": 313,
     "metadata": {},
     "output_type": "execute_result"
    }
   ],
   "source": [
    "df_daily.columns"
   ]
  },
  {
   "cell_type": "code",
   "execution_count": 315,
   "id": "d82e95b1-8089-4903-9944-7f39a4a8af42",
   "metadata": {},
   "outputs": [],
   "source": [
    "from tensorflow.keras.models import Sequential\n",
    "from tensorflow.keras.layers import Embedding, LSTM , Dense, Dropout\n",
    "from tensorflow.keras.layers import GRU"
   ]
  },
  {
   "cell_type": "code",
   "execution_count": 317,
   "id": "20d6b8eb-a42d-4f47-af9d-5e2322e1ef83",
   "metadata": {},
   "outputs": [],
   "source": [
    "from sklearn.model_selection import train_test_split"
   ]
  },
  {
   "cell_type": "code",
   "execution_count": 319,
   "id": "c6b50e5c-62cc-40a3-936b-5a0aa153f73c",
   "metadata": {},
   "outputs": [],
   "source": [
    "from sklearn.preprocessing import MinMaxScaler"
   ]
  },
  {
   "cell_type": "code",
   "execution_count": 321,
   "id": "40be5342-febc-4a29-bd4c-9492a3f85a04",
   "metadata": {},
   "outputs": [],
   "source": [
    "features = [col for col in df_daily.columns if col not in ['NO2(GT)_diff', 'NO2(GT)']]\n",
    "target = 'NO2(GT)_diff'"
   ]
  },
  {
   "cell_type": "code",
   "execution_count": 323,
   "id": "9e4247cf-7dce-4bb3-a88a-5da435b6963f",
   "metadata": {},
   "outputs": [],
   "source": [
    "X = df_daily[features].dropna().values\n",
    "y = df_daily[target].dropna().values"
   ]
  },
  {
   "cell_type": "code",
   "execution_count": 325,
   "id": "cf8e0f4d-f367-4944-8049-de7bc478beca",
   "metadata": {},
   "outputs": [],
   "source": [
    "scaler = MinMaxScaler()\n",
    "X_scaled = scaler.fit_transform(X)"
   ]
  },
  {
   "cell_type": "code",
   "execution_count": 327,
   "id": "12629564-d08b-47a4-a2c4-31895255330f",
   "metadata": {},
   "outputs": [],
   "source": [
    "xtrain_no2, xtest_no2, ytrain_no2, ytest_no2 = train_test_split(X_scaled, y, test_size=0.3,random_state=30, shuffle=False)"
   ]
  },
  {
   "cell_type": "code",
   "execution_count": 329,
   "id": "e61c99e8-a6f5-4292-9407-6faef2d449a4",
   "metadata": {},
   "outputs": [],
   "source": [
    "# Reshape to 3D for gru: [samples, timesteps, features]\n",
    "X_train = xtrain_no2.reshape((xtrain_no2.shape[0], 1, xtrain_no2.shape[1]))\n",
    "X_test = xtest_no2.reshape((xtest_no2.shape[0], 1, xtest_no2.shape[1]))"
   ]
  },
  {
   "cell_type": "markdown",
   "id": "9bdab71a-8a0f-45dd-83e9-2129722b838d",
   "metadata": {},
   "source": [
    "GRU Model"
   ]
  },
  {
   "cell_type": "code",
   "execution_count": 332,
   "id": "78a25175-f30d-44f1-b73c-6c0949fdf312",
   "metadata": {
    "scrolled": true
   },
   "outputs": [
    {
     "name": "stdout",
     "output_type": "stream",
     "text": [
      "Epoch 1/100\n"
     ]
    },
    {
     "name": "stderr",
     "output_type": "stream",
     "text": [
      "C:\\Users\\PC\\anaconda3\\envs\\py312-env\\Lib\\site-packages\\keras\\src\\layers\\rnn\\rnn.py:199: UserWarning: Do not pass an `input_shape`/`input_dim` argument to a layer. When using Sequential models, prefer using an `Input(shape)` object as the first layer in the model instead.\n",
      "  super().__init__(**kwargs)\n"
     ]
    },
    {
     "name": "stdout",
     "output_type": "stream",
     "text": [
      "\u001b[1m9/9\u001b[0m \u001b[32m━━━━━━━━━━━━━━━━━━━━\u001b[0m\u001b[37m\u001b[0m \u001b[1m4s\u001b[0m 54ms/step - loss: 355.2308 - val_loss: 522.7600\n",
      "Epoch 2/100\n",
      "\u001b[1m9/9\u001b[0m \u001b[32m━━━━━━━━━━━━━━━━━━━━\u001b[0m\u001b[37m\u001b[0m \u001b[1m0s\u001b[0m 8ms/step - loss: 355.0992 - val_loss: 522.6564\n",
      "Epoch 3/100\n",
      "\u001b[1m9/9\u001b[0m \u001b[32m━━━━━━━━━━━━━━━━━━━━\u001b[0m\u001b[37m\u001b[0m \u001b[1m0s\u001b[0m 9ms/step - loss: 354.9566 - val_loss: 522.4785\n",
      "Epoch 4/100\n",
      "\u001b[1m9/9\u001b[0m \u001b[32m━━━━━━━━━━━━━━━━━━━━\u001b[0m\u001b[37m\u001b[0m \u001b[1m0s\u001b[0m 10ms/step - loss: 354.7233 - val_loss: 522.1754\n",
      "Epoch 5/100\n",
      "\u001b[1m9/9\u001b[0m \u001b[32m━━━━━━━━━━━━━━━━━━━━\u001b[0m\u001b[37m\u001b[0m \u001b[1m0s\u001b[0m 8ms/step - loss: 354.4797 - val_loss: 521.7200\n",
      "Epoch 6/100\n",
      "\u001b[1m9/9\u001b[0m \u001b[32m━━━━━━━━━━━━━━━━━━━━\u001b[0m\u001b[37m\u001b[0m \u001b[1m0s\u001b[0m 8ms/step - loss: 353.8844 - val_loss: 520.9199\n",
      "Epoch 7/100\n",
      "\u001b[1m9/9\u001b[0m \u001b[32m━━━━━━━━━━━━━━━━━━━━\u001b[0m\u001b[37m\u001b[0m \u001b[1m0s\u001b[0m 9ms/step - loss: 353.1458 - val_loss: 519.6921\n",
      "Epoch 8/100\n",
      "\u001b[1m9/9\u001b[0m \u001b[32m━━━━━━━━━━━━━━━━━━━━\u001b[0m\u001b[37m\u001b[0m \u001b[1m0s\u001b[0m 8ms/step - loss: 351.9440 - val_loss: 517.7479\n",
      "Epoch 9/100\n",
      "\u001b[1m9/9\u001b[0m \u001b[32m━━━━━━━━━━━━━━━━━━━━\u001b[0m\u001b[37m\u001b[0m \u001b[1m0s\u001b[0m 9ms/step - loss: 349.4516 - val_loss: 514.4458\n",
      "Epoch 10/100\n",
      "\u001b[1m9/9\u001b[0m \u001b[32m━━━━━━━━━━━━━━━━━━━━\u001b[0m\u001b[37m\u001b[0m \u001b[1m0s\u001b[0m 8ms/step - loss: 345.7716 - val_loss: 508.7897\n",
      "Epoch 11/100\n",
      "\u001b[1m9/9\u001b[0m \u001b[32m━━━━━━━━━━━━━━━━━━━━\u001b[0m\u001b[37m\u001b[0m \u001b[1m0s\u001b[0m 7ms/step - loss: 339.3569 - val_loss: 499.0082\n",
      "Epoch 12/100\n",
      "\u001b[1m9/9\u001b[0m \u001b[32m━━━━━━━━━━━━━━━━━━━━\u001b[0m\u001b[37m\u001b[0m \u001b[1m0s\u001b[0m 8ms/step - loss: 331.5141 - val_loss: 485.2483\n",
      "Epoch 13/100\n",
      "\u001b[1m9/9\u001b[0m \u001b[32m━━━━━━━━━━━━━━━━━━━━\u001b[0m\u001b[37m\u001b[0m \u001b[1m0s\u001b[0m 7ms/step - loss: 322.7454 - val_loss: 467.2191\n",
      "Epoch 14/100\n",
      "\u001b[1m9/9\u001b[0m \u001b[32m━━━━━━━━━━━━━━━━━━━━\u001b[0m\u001b[37m\u001b[0m \u001b[1m0s\u001b[0m 8ms/step - loss: 309.0016 - val_loss: 453.4948\n",
      "Epoch 15/100\n",
      "\u001b[1m9/9\u001b[0m \u001b[32m━━━━━━━━━━━━━━━━━━━━\u001b[0m\u001b[37m\u001b[0m \u001b[1m0s\u001b[0m 8ms/step - loss: 296.3234 - val_loss: 437.5985\n",
      "Epoch 16/100\n",
      "\u001b[1m9/9\u001b[0m \u001b[32m━━━━━━━━━━━━━━━━━━━━\u001b[0m\u001b[37m\u001b[0m \u001b[1m0s\u001b[0m 8ms/step - loss: 287.4936 - val_loss: 420.0540\n",
      "Epoch 17/100\n",
      "\u001b[1m9/9\u001b[0m \u001b[32m━━━━━━━━━━━━━━━━━━━━\u001b[0m\u001b[37m\u001b[0m \u001b[1m0s\u001b[0m 8ms/step - loss: 279.1565 - val_loss: 407.9075\n",
      "Epoch 18/100\n",
      "\u001b[1m9/9\u001b[0m \u001b[32m━━━━━━━━━━━━━━━━━━━━\u001b[0m\u001b[37m\u001b[0m \u001b[1m0s\u001b[0m 7ms/step - loss: 268.7618 - val_loss: 397.5147\n",
      "Epoch 19/100\n",
      "\u001b[1m9/9\u001b[0m \u001b[32m━━━━━━━━━━━━━━━━━━━━\u001b[0m\u001b[37m\u001b[0m \u001b[1m0s\u001b[0m 8ms/step - loss: 265.1217 - val_loss: 383.6116\n",
      "Epoch 20/100\n",
      "\u001b[1m9/9\u001b[0m \u001b[32m━━━━━━━━━━━━━━━━━━━━\u001b[0m\u001b[37m\u001b[0m \u001b[1m0s\u001b[0m 8ms/step - loss: 258.7621 - val_loss: 377.9388\n",
      "Epoch 21/100\n",
      "\u001b[1m9/9\u001b[0m \u001b[32m━━━━━━━━━━━━━━━━━━━━\u001b[0m\u001b[37m\u001b[0m \u001b[1m0s\u001b[0m 7ms/step - loss: 255.4971 - val_loss: 373.2508\n",
      "Epoch 22/100\n",
      "\u001b[1m9/9\u001b[0m \u001b[32m━━━━━━━━━━━━━━━━━━━━\u001b[0m\u001b[37m\u001b[0m \u001b[1m0s\u001b[0m 7ms/step - loss: 250.2576 - val_loss: 367.4603\n",
      "Epoch 23/100\n",
      "\u001b[1m9/9\u001b[0m \u001b[32m━━━━━━━━━━━━━━━━━━━━\u001b[0m\u001b[37m\u001b[0m \u001b[1m0s\u001b[0m 12ms/step - loss: 244.3600 - val_loss: 356.6477\n",
      "Epoch 24/100\n",
      "\u001b[1m9/9\u001b[0m \u001b[32m━━━━━━━━━━━━━━━━━━━━\u001b[0m\u001b[37m\u001b[0m \u001b[1m0s\u001b[0m 8ms/step - loss: 239.8739 - val_loss: 353.2423\n",
      "Epoch 25/100\n",
      "\u001b[1m9/9\u001b[0m \u001b[32m━━━━━━━━━━━━━━━━━━━━\u001b[0m\u001b[37m\u001b[0m \u001b[1m0s\u001b[0m 8ms/step - loss: 236.2419 - val_loss: 346.4279\n",
      "Epoch 26/100\n",
      "\u001b[1m9/9\u001b[0m \u001b[32m━━━━━━━━━━━━━━━━━━━━\u001b[0m\u001b[37m\u001b[0m \u001b[1m0s\u001b[0m 9ms/step - loss: 232.2480 - val_loss: 341.2137\n",
      "Epoch 27/100\n",
      "\u001b[1m9/9\u001b[0m \u001b[32m━━━━━━━━━━━━━━━━━━━━\u001b[0m\u001b[37m\u001b[0m \u001b[1m0s\u001b[0m 9ms/step - loss: 232.3982 - val_loss: 328.9895\n",
      "Epoch 28/100\n",
      "\u001b[1m9/9\u001b[0m \u001b[32m━━━━━━━━━━━━━━━━━━━━\u001b[0m\u001b[37m\u001b[0m \u001b[1m0s\u001b[0m 9ms/step - loss: 230.9983 - val_loss: 350.3913\n",
      "Epoch 29/100\n",
      "\u001b[1m9/9\u001b[0m \u001b[32m━━━━━━━━━━━━━━━━━━━━\u001b[0m\u001b[37m\u001b[0m \u001b[1m0s\u001b[0m 9ms/step - loss: 223.0475 - val_loss: 317.1304\n",
      "Epoch 30/100\n",
      "\u001b[1m9/9\u001b[0m \u001b[32m━━━━━━━━━━━━━━━━━━━━\u001b[0m\u001b[37m\u001b[0m \u001b[1m0s\u001b[0m 8ms/step - loss: 221.1028 - val_loss: 377.9411\n",
      "Epoch 31/100\n",
      "\u001b[1m9/9\u001b[0m \u001b[32m━━━━━━━━━━━━━━━━━━━━\u001b[0m\u001b[37m\u001b[0m \u001b[1m0s\u001b[0m 9ms/step - loss: 236.6848 - val_loss: 312.4144\n",
      "Epoch 32/100\n",
      "\u001b[1m9/9\u001b[0m \u001b[32m━━━━━━━━━━━━━━━━━━━━\u001b[0m\u001b[37m\u001b[0m \u001b[1m0s\u001b[0m 9ms/step - loss: 213.7984 - val_loss: 334.0468\n",
      "Epoch 33/100\n",
      "\u001b[1m9/9\u001b[0m \u001b[32m━━━━━━━━━━━━━━━━━━━━\u001b[0m\u001b[37m\u001b[0m \u001b[1m0s\u001b[0m 8ms/step - loss: 218.1999 - val_loss: 306.7432\n",
      "Epoch 34/100\n",
      "\u001b[1m9/9\u001b[0m \u001b[32m━━━━━━━━━━━━━━━━━━━━\u001b[0m\u001b[37m\u001b[0m \u001b[1m0s\u001b[0m 8ms/step - loss: 214.8510 - val_loss: 305.7800\n",
      "Epoch 35/100\n",
      "\u001b[1m9/9\u001b[0m \u001b[32m━━━━━━━━━━━━━━━━━━━━\u001b[0m\u001b[37m\u001b[0m \u001b[1m0s\u001b[0m 7ms/step - loss: 207.2642 - val_loss: 301.3457\n",
      "Epoch 36/100\n",
      "\u001b[1m9/9\u001b[0m \u001b[32m━━━━━━━━━━━━━━━━━━━━\u001b[0m\u001b[37m\u001b[0m \u001b[1m0s\u001b[0m 8ms/step - loss: 203.3028 - val_loss: 298.5522\n",
      "Epoch 37/100\n",
      "\u001b[1m9/9\u001b[0m \u001b[32m━━━━━━━━━━━━━━━━━━━━\u001b[0m\u001b[37m\u001b[0m \u001b[1m0s\u001b[0m 7ms/step - loss: 200.7807 - val_loss: 284.3395\n",
      "Epoch 38/100\n",
      "\u001b[1m9/9\u001b[0m \u001b[32m━━━━━━━━━━━━━━━━━━━━\u001b[0m\u001b[37m\u001b[0m \u001b[1m0s\u001b[0m 8ms/step - loss: 198.6046 - val_loss: 286.5690\n",
      "Epoch 39/100\n",
      "\u001b[1m9/9\u001b[0m \u001b[32m━━━━━━━━━━━━━━━━━━━━\u001b[0m\u001b[37m\u001b[0m \u001b[1m0s\u001b[0m 7ms/step - loss: 194.2412 - val_loss: 282.5126\n",
      "Epoch 40/100\n",
      "\u001b[1m9/9\u001b[0m \u001b[32m━━━━━━━━━━━━━━━━━━━━\u001b[0m\u001b[37m\u001b[0m \u001b[1m0s\u001b[0m 8ms/step - loss: 191.5117 - val_loss: 275.5612\n",
      "Epoch 41/100\n",
      "\u001b[1m9/9\u001b[0m \u001b[32m━━━━━━━━━━━━━━━━━━━━\u001b[0m\u001b[37m\u001b[0m \u001b[1m0s\u001b[0m 8ms/step - loss: 189.2354 - val_loss: 265.1320\n",
      "Epoch 42/100\n",
      "\u001b[1m9/9\u001b[0m \u001b[32m━━━━━━━━━━━━━━━━━━━━\u001b[0m\u001b[37m\u001b[0m \u001b[1m0s\u001b[0m 8ms/step - loss: 189.6711 - val_loss: 292.1276\n",
      "Epoch 43/100\n",
      "\u001b[1m9/9\u001b[0m \u001b[32m━━━━━━━━━━━━━━━━━━━━\u001b[0m\u001b[37m\u001b[0m \u001b[1m0s\u001b[0m 8ms/step - loss: 193.8830 - val_loss: 256.6349\n",
      "Epoch 44/100\n",
      "\u001b[1m9/9\u001b[0m \u001b[32m━━━━━━━━━━━━━━━━━━━━\u001b[0m\u001b[37m\u001b[0m \u001b[1m0s\u001b[0m 9ms/step - loss: 190.9417 - val_loss: 249.3746\n",
      "Epoch 45/100\n",
      "\u001b[1m9/9\u001b[0m \u001b[32m━━━━━━━━━━━━━━━━━━━━\u001b[0m\u001b[37m\u001b[0m \u001b[1m0s\u001b[0m 9ms/step - loss: 187.8186 - val_loss: 277.3213\n",
      "Epoch 46/100\n",
      "\u001b[1m9/9\u001b[0m \u001b[32m━━━━━━━━━━━━━━━━━━━━\u001b[0m\u001b[37m\u001b[0m \u001b[1m0s\u001b[0m 8ms/step - loss: 185.3849 - val_loss: 268.0756\n",
      "Epoch 47/100\n",
      "\u001b[1m9/9\u001b[0m \u001b[32m━━━━━━━━━━━━━━━━━━━━\u001b[0m\u001b[37m\u001b[0m \u001b[1m0s\u001b[0m 7ms/step - loss: 182.2103 - val_loss: 254.6478\n",
      "Epoch 48/100\n",
      "\u001b[1m9/9\u001b[0m \u001b[32m━━━━━━━━━━━━━━━━━━━━\u001b[0m\u001b[37m\u001b[0m \u001b[1m0s\u001b[0m 9ms/step - loss: 180.0002 - val_loss: 236.1562\n",
      "Epoch 49/100\n",
      "\u001b[1m9/9\u001b[0m \u001b[32m━━━━━━━━━━━━━━━━━━━━\u001b[0m\u001b[37m\u001b[0m \u001b[1m0s\u001b[0m 9ms/step - loss: 200.3688 - val_loss: 236.2440\n",
      "Epoch 50/100\n",
      "\u001b[1m9/9\u001b[0m \u001b[32m━━━━━━━━━━━━━━━━━━━━\u001b[0m\u001b[37m\u001b[0m \u001b[1m0s\u001b[0m 7ms/step - loss: 178.2793 - val_loss: 272.2544\n",
      "Epoch 51/100\n",
      "\u001b[1m9/9\u001b[0m \u001b[32m━━━━━━━━━━━━━━━━━━━━\u001b[0m\u001b[37m\u001b[0m \u001b[1m0s\u001b[0m 8ms/step - loss: 182.2392 - val_loss: 239.3836\n",
      "Epoch 52/100\n",
      "\u001b[1m9/9\u001b[0m \u001b[32m━━━━━━━━━━━━━━━━━━━━\u001b[0m\u001b[37m\u001b[0m \u001b[1m0s\u001b[0m 8ms/step - loss: 170.3497 - val_loss: 247.3934\n",
      "Epoch 53/100\n",
      "\u001b[1m9/9\u001b[0m \u001b[32m━━━━━━━━━━━━━━━━━━━━\u001b[0m\u001b[37m\u001b[0m \u001b[1m0s\u001b[0m 8ms/step - loss: 169.4051 - val_loss: 229.7590\n",
      "Epoch 54/100\n",
      "\u001b[1m9/9\u001b[0m \u001b[32m━━━━━━━━━━━━━━━━━━━━\u001b[0m\u001b[37m\u001b[0m \u001b[1m0s\u001b[0m 7ms/step - loss: 172.6099 - val_loss: 246.6841\n",
      "Epoch 55/100\n",
      "\u001b[1m9/9\u001b[0m \u001b[32m━━━━━━━━━━━━━━━━━━━━\u001b[0m\u001b[37m\u001b[0m \u001b[1m0s\u001b[0m 8ms/step - loss: 164.5709 - val_loss: 218.8338\n",
      "Epoch 56/100\n",
      "\u001b[1m9/9\u001b[0m \u001b[32m━━━━━━━━━━━━━━━━━━━━\u001b[0m\u001b[37m\u001b[0m \u001b[1m0s\u001b[0m 8ms/step - loss: 174.3571 - val_loss: 271.9102\n",
      "Epoch 57/100\n",
      "\u001b[1m9/9\u001b[0m \u001b[32m━━━━━━━━━━━━━━━━━━━━\u001b[0m\u001b[37m\u001b[0m \u001b[1m0s\u001b[0m 14ms/step - loss: 170.5255 - val_loss: 218.3987\n",
      "Epoch 58/100\n",
      "\u001b[1m9/9\u001b[0m \u001b[32m━━━━━━━━━━━━━━━━━━━━\u001b[0m\u001b[37m\u001b[0m \u001b[1m0s\u001b[0m 8ms/step - loss: 169.3827 - val_loss: 216.6191\n",
      "Epoch 59/100\n",
      "\u001b[1m9/9\u001b[0m \u001b[32m━━━━━━━━━━━━━━━━━━━━\u001b[0m\u001b[37m\u001b[0m \u001b[1m0s\u001b[0m 8ms/step - loss: 164.7374 - val_loss: 242.7404\n",
      "Epoch 60/100\n",
      "\u001b[1m9/9\u001b[0m \u001b[32m━━━━━━━━━━━━━━━━━━━━\u001b[0m\u001b[37m\u001b[0m \u001b[1m0s\u001b[0m 8ms/step - loss: 170.1155 - val_loss: 221.8348\n",
      "Epoch 61/100\n",
      "\u001b[1m9/9\u001b[0m \u001b[32m━━━━━━━━━━━━━━━━━━━━\u001b[0m\u001b[37m\u001b[0m \u001b[1m0s\u001b[0m 8ms/step - loss: 176.4578 - val_loss: 209.5217\n",
      "Epoch 62/100\n",
      "\u001b[1m9/9\u001b[0m \u001b[32m━━━━━━━━━━━━━━━━━━━━\u001b[0m\u001b[37m\u001b[0m \u001b[1m0s\u001b[0m 8ms/step - loss: 172.5040 - val_loss: 221.5048\n",
      "Epoch 63/100\n",
      "\u001b[1m9/9\u001b[0m \u001b[32m━━━━━━━━━━━━━━━━━━━━\u001b[0m\u001b[37m\u001b[0m \u001b[1m0s\u001b[0m 8ms/step - loss: 164.4554 - val_loss: 223.3967\n",
      "Epoch 64/100\n",
      "\u001b[1m9/9\u001b[0m \u001b[32m━━━━━━━━━━━━━━━━━━━━\u001b[0m\u001b[37m\u001b[0m \u001b[1m0s\u001b[0m 8ms/step - loss: 180.1461 - val_loss: 205.1584\n",
      "Epoch 65/100\n",
      "\u001b[1m9/9\u001b[0m \u001b[32m━━━━━━━━━━━━━━━━━━━━\u001b[0m\u001b[37m\u001b[0m \u001b[1m0s\u001b[0m 8ms/step - loss: 168.0308 - val_loss: 213.1074\n",
      "Epoch 66/100\n",
      "\u001b[1m9/9\u001b[0m \u001b[32m━━━━━━━━━━━━━━━━━━━━\u001b[0m\u001b[37m\u001b[0m \u001b[1m0s\u001b[0m 8ms/step - loss: 158.7853 - val_loss: 208.7035\n",
      "Epoch 67/100\n",
      "\u001b[1m9/9\u001b[0m \u001b[32m━━━━━━━━━━━━━━━━━━━━\u001b[0m\u001b[37m\u001b[0m \u001b[1m0s\u001b[0m 8ms/step - loss: 157.8586 - val_loss: 203.8780\n",
      "Epoch 68/100\n",
      "\u001b[1m9/9\u001b[0m \u001b[32m━━━━━━━━━━━━━━━━━━━━\u001b[0m\u001b[37m\u001b[0m \u001b[1m0s\u001b[0m 8ms/step - loss: 163.9879 - val_loss: 204.2711\n",
      "Epoch 69/100\n",
      "\u001b[1m9/9\u001b[0m \u001b[32m━━━━━━━━━━━━━━━━━━━━\u001b[0m\u001b[37m\u001b[0m \u001b[1m0s\u001b[0m 8ms/step - loss: 157.7147 - val_loss: 221.0521\n",
      "Epoch 70/100\n",
      "\u001b[1m9/9\u001b[0m \u001b[32m━━━━━━━━━━━━━━━━━━━━\u001b[0m\u001b[37m\u001b[0m \u001b[1m0s\u001b[0m 8ms/step - loss: 162.1947 - val_loss: 211.2804\n",
      "Epoch 71/100\n",
      "\u001b[1m9/9\u001b[0m \u001b[32m━━━━━━━━━━━━━━━━━━━━\u001b[0m\u001b[37m\u001b[0m \u001b[1m0s\u001b[0m 8ms/step - loss: 172.6246 - val_loss: 200.6364\n",
      "Epoch 72/100\n",
      "\u001b[1m9/9\u001b[0m \u001b[32m━━━━━━━━━━━━━━━━━━━━\u001b[0m\u001b[37m\u001b[0m \u001b[1m0s\u001b[0m 8ms/step - loss: 169.0861 - val_loss: 203.8948\n",
      "Epoch 73/100\n",
      "\u001b[1m9/9\u001b[0m \u001b[32m━━━━━━━━━━━━━━━━━━━━\u001b[0m\u001b[37m\u001b[0m \u001b[1m0s\u001b[0m 7ms/step - loss: 163.4885 - val_loss: 225.1230\n",
      "Epoch 74/100\n",
      "\u001b[1m9/9\u001b[0m \u001b[32m━━━━━━━━━━━━━━━━━━━━\u001b[0m\u001b[37m\u001b[0m \u001b[1m0s\u001b[0m 8ms/step - loss: 161.1233 - val_loss: 198.7946\n",
      "Epoch 75/100\n",
      "\u001b[1m9/9\u001b[0m \u001b[32m━━━━━━━━━━━━━━━━━━━━\u001b[0m\u001b[37m\u001b[0m \u001b[1m0s\u001b[0m 8ms/step - loss: 161.4690 - val_loss: 198.3943\n",
      "Epoch 76/100\n",
      "\u001b[1m9/9\u001b[0m \u001b[32m━━━━━━━━━━━━━━━━━━━━\u001b[0m\u001b[37m\u001b[0m \u001b[1m0s\u001b[0m 8ms/step - loss: 163.0013 - val_loss: 233.3670\n",
      "Epoch 77/100\n",
      "\u001b[1m9/9\u001b[0m \u001b[32m━━━━━━━━━━━━━━━━━━━━\u001b[0m\u001b[37m\u001b[0m \u001b[1m0s\u001b[0m 8ms/step - loss: 168.4291 - val_loss: 199.2716\n",
      "Epoch 78/100\n",
      "\u001b[1m9/9\u001b[0m \u001b[32m━━━━━━━━━━━━━━━━━━━━\u001b[0m\u001b[37m\u001b[0m \u001b[1m0s\u001b[0m 8ms/step - loss: 156.8177 - val_loss: 197.6214\n",
      "Epoch 79/100\n",
      "\u001b[1m9/9\u001b[0m \u001b[32m━━━━━━━━━━━━━━━━━━━━\u001b[0m\u001b[37m\u001b[0m \u001b[1m0s\u001b[0m 8ms/step - loss: 169.6612 - val_loss: 212.0492\n",
      "Epoch 80/100\n",
      "\u001b[1m9/9\u001b[0m \u001b[32m━━━━━━━━━━━━━━━━━━━━\u001b[0m\u001b[37m\u001b[0m \u001b[1m0s\u001b[0m 8ms/step - loss: 153.7055 - val_loss: 199.1006\n",
      "Epoch 81/100\n",
      "\u001b[1m9/9\u001b[0m \u001b[32m━━━━━━━━━━━━━━━━━━━━\u001b[0m\u001b[37m\u001b[0m \u001b[1m0s\u001b[0m 8ms/step - loss: 151.9450 - val_loss: 204.6877\n",
      "Epoch 82/100\n",
      "\u001b[1m9/9\u001b[0m \u001b[32m━━━━━━━━━━━━━━━━━━━━\u001b[0m\u001b[37m\u001b[0m \u001b[1m0s\u001b[0m 8ms/step - loss: 149.7487 - val_loss: 195.1190\n",
      "Epoch 83/100\n",
      "\u001b[1m9/9\u001b[0m \u001b[32m━━━━━━━━━━━━━━━━━━━━\u001b[0m\u001b[37m\u001b[0m \u001b[1m0s\u001b[0m 8ms/step - loss: 149.0576 - val_loss: 198.1655\n",
      "Epoch 84/100\n",
      "\u001b[1m9/9\u001b[0m \u001b[32m━━━━━━━━━━━━━━━━━━━━\u001b[0m\u001b[37m\u001b[0m \u001b[1m0s\u001b[0m 8ms/step - loss: 149.8209 - val_loss: 202.1858\n",
      "Epoch 85/100\n",
      "\u001b[1m9/9\u001b[0m \u001b[32m━━━━━━━━━━━━━━━━━━━━\u001b[0m\u001b[37m\u001b[0m \u001b[1m0s\u001b[0m 8ms/step - loss: 151.0162 - val_loss: 195.1426\n",
      "Epoch 86/100\n",
      "\u001b[1m9/9\u001b[0m \u001b[32m━━━━━━━━━━━━━━━━━━━━\u001b[0m\u001b[37m\u001b[0m \u001b[1m0s\u001b[0m 8ms/step - loss: 151.8013 - val_loss: 195.6256\n",
      "Epoch 87/100\n",
      "\u001b[1m9/9\u001b[0m \u001b[32m━━━━━━━━━━━━━━━━━━━━\u001b[0m\u001b[37m\u001b[0m \u001b[1m0s\u001b[0m 8ms/step - loss: 152.0808 - val_loss: 200.5558\n",
      "Epoch 88/100\n",
      "\u001b[1m9/9\u001b[0m \u001b[32m━━━━━━━━━━━━━━━━━━━━\u001b[0m\u001b[37m\u001b[0m \u001b[1m0s\u001b[0m 8ms/step - loss: 147.7366 - val_loss: 195.0375\n",
      "Epoch 89/100\n",
      "\u001b[1m9/9\u001b[0m \u001b[32m━━━━━━━━━━━━━━━━━━━━\u001b[0m\u001b[37m\u001b[0m \u001b[1m0s\u001b[0m 8ms/step - loss: 145.0956 - val_loss: 198.4073\n",
      "Epoch 90/100\n",
      "\u001b[1m9/9\u001b[0m \u001b[32m━━━━━━━━━━━━━━━━━━━━\u001b[0m\u001b[37m\u001b[0m \u001b[1m0s\u001b[0m 12ms/step - loss: 150.4387 - val_loss: 194.7352\n",
      "Epoch 91/100\n",
      "\u001b[1m9/9\u001b[0m \u001b[32m━━━━━━━━━━━━━━━━━━━━\u001b[0m\u001b[37m\u001b[0m \u001b[1m0s\u001b[0m 8ms/step - loss: 145.5271 - val_loss: 195.0380\n",
      "Epoch 92/100\n",
      "\u001b[1m9/9\u001b[0m \u001b[32m━━━━━━━━━━━━━━━━━━━━\u001b[0m\u001b[37m\u001b[0m \u001b[1m0s\u001b[0m 9ms/step - loss: 144.7736 - val_loss: 195.0689\n",
      "Epoch 93/100\n",
      "\u001b[1m9/9\u001b[0m \u001b[32m━━━━━━━━━━━━━━━━━━━━\u001b[0m\u001b[37m\u001b[0m \u001b[1m0s\u001b[0m 8ms/step - loss: 147.4762 - val_loss: 195.7168\n",
      "Epoch 94/100\n",
      "\u001b[1m9/9\u001b[0m \u001b[32m━━━━━━━━━━━━━━━━━━━━\u001b[0m\u001b[37m\u001b[0m \u001b[1m0s\u001b[0m 9ms/step - loss: 143.1660 - val_loss: 194.4850\n",
      "Epoch 95/100\n",
      "\u001b[1m9/9\u001b[0m \u001b[32m━━━━━━━━━━━━━━━━━━━━\u001b[0m\u001b[37m\u001b[0m \u001b[1m0s\u001b[0m 9ms/step - loss: 144.1314 - val_loss: 194.7774\n",
      "Epoch 96/100\n",
      "\u001b[1m9/9\u001b[0m \u001b[32m━━━━━━━━━━━━━━━━━━━━\u001b[0m\u001b[37m\u001b[0m \u001b[1m0s\u001b[0m 9ms/step - loss: 144.6999 - val_loss: 196.3386\n",
      "Epoch 97/100\n",
      "\u001b[1m9/9\u001b[0m \u001b[32m━━━━━━━━━━━━━━━━━━━━\u001b[0m\u001b[37m\u001b[0m \u001b[1m0s\u001b[0m 8ms/step - loss: 143.3321 - val_loss: 203.3347\n",
      "Epoch 98/100\n",
      "\u001b[1m9/9\u001b[0m \u001b[32m━━━━━━━━━━━━━━━━━━━━\u001b[0m\u001b[37m\u001b[0m \u001b[1m0s\u001b[0m 8ms/step - loss: 144.3074 - val_loss: 200.5073\n",
      "Epoch 99/100\n",
      "\u001b[1m9/9\u001b[0m \u001b[32m━━━━━━━━━━━━━━━━━━━━\u001b[0m\u001b[37m\u001b[0m \u001b[1m0s\u001b[0m 8ms/step - loss: 142.2948 - val_loss: 196.9180\n",
      "Epoch 100/100\n",
      "\u001b[1m9/9\u001b[0m \u001b[32m━━━━━━━━━━━━━━━━━━━━\u001b[0m\u001b[37m\u001b[0m \u001b[1m0s\u001b[0m 8ms/step - loss: 141.2061 - val_loss: 200.2585\n"
     ]
    }
   ],
   "source": [
    "model_gru = Sequential()\n",
    "model_gru.add(GRU(64, activation='relu', return_sequences=True, input_shape=(X_train.shape[1], X_train.shape[2])))\n",
    "model_gru.add(GRU(32, activation='relu', return_sequences=True))\n",
    "model_gru.add(GRU(16, activation='relu'))\n",
    "model_gru.add(Dense(1))  # Predict NO2(GT)\n",
    "\n",
    "model_gru.compile(optimizer='adam', loss='mse')\n",
    "\n",
    "# Train\n",
    "history = model_gru.fit(X_train, ytrain_no2, epochs=100, batch_size=32,\n",
    "                    validation_data=(X_test, ytest_no2), verbose=1)"
   ]
  },
  {
   "cell_type": "code",
   "execution_count": 334,
   "id": "72d98dc2-fb8d-4f55-9646-9d155ea0c46d",
   "metadata": {},
   "outputs": [
    {
     "name": "stdout",
     "output_type": "stream",
     "text": [
      "\u001b[1m1/4\u001b[0m \u001b[32m━━━━━\u001b[0m\u001b[37m━━━━━━━━━━━━━━━\u001b[0m \u001b[1m0s\u001b[0m 293ms/stepWARNING:tensorflow:5 out of the last 21 calls to <function TensorFlowTrainer.make_predict_function.<locals>.one_step_on_data_distributed at 0x00000234864754E0> triggered tf.function retracing. Tracing is expensive and the excessive number of tracings could be due to (1) creating @tf.function repeatedly in a loop, (2) passing tensors with different shapes, (3) passing Python objects instead of tensors. For (1), please define your @tf.function outside of the loop. For (2), @tf.function has reduce_retracing=True option that can avoid unnecessary retracing. For (3), please refer to https://www.tensorflow.org/guide/function#controlling_retracing and https://www.tensorflow.org/api_docs/python/tf/function for  more details.\n",
      "\u001b[1m4/4\u001b[0m \u001b[32m━━━━━━━━━━━━━━━━━━━━\u001b[0m\u001b[37m\u001b[0m \u001b[1m1s\u001b[0m 103ms/step\n"
     ]
    },
    {
     "data": {
      "image/png": "[encoded data removed]",
      "text/plain": [
       "<Figure size 1000x500 with 1 Axes>"
      ]
     },
     "metadata": {},
     "output_type": "display_data"
    }
   ],
   "source": [
    "y_pred_gru = model_gru.predict(X_test)\n",
    "\n",
    "# Compare actual vs predicted\n",
    "import matplotlib.pyplot as plt\n",
    "\n",
    "plt.figure(figsize=(10,5))\n",
    "plt.plot(ytest_no2, label=\"Actual NO2(GT)\")\n",
    "plt.plot(y_pred_gru, label=\"Predicted NO2(GT)\")\n",
    "plt.legend()\n",
    "plt.show()"
   ]
  },
  {
   "cell_type": "code",
   "execution_count": 336,
   "id": "36461b6b-d27c-4cdd-a84a-d37bb6049486",
   "metadata": {},
   "outputs": [
    {
     "name": "stdout",
     "output_type": "stream",
     "text": [
      "Mean Squared Error (MSE): 200.2585\n",
      "Root Mean Squared Error (RMSE): 14.1513\n",
      "Mean Absolute Error (MAE): 11.2162\n",
      "R² Score: 0.6169\n"
     ]
    }
   ],
   "source": [
    "from sklearn.metrics import mean_squared_error, mean_absolute_error, r2_score\n",
    "import numpy as np\n",
    "\n",
    "mse = mean_squared_error(ytest_no2, y_pred_gru)\n",
    "rmse = np.sqrt(mse)\n",
    "mae = mean_absolute_error(ytest_no2, y_pred_gru)\n",
    "r2 = r2_score(ytest_no2, y_pred_gru)\n",
    "\n",
    "print(f\"Mean Squared Error (MSE): {mse:.4f}\")\n",
    "print(f\"Root Mean Squared Error (RMSE): {rmse:.4f}\")\n",
    "print(f\"Mean Absolute Error (MAE): {mae:.4f}\")\n",
    "print(f\"R² Score: {r2:.4f}\")"
   ]
  },
  {
   "cell_type": "markdown",
   "id": "b8bfe077-229d-4590-ad70-4980d7a384e2",
   "metadata": {},
   "source": [
    "### *CO(GT) PREDICTION*"
   ]
  },
  {
   "cell_type": "code",
   "execution_count": 338,
   "id": "81f865ae-8c03-4b82-a350-fc2ff2cff207",
   "metadata": {},
   "outputs": [
    {
     "name": "stdout",
     "output_type": "stream",
     "text": [
      "ADF value: -3.6662672612346277\n",
      "p-value: 0.004613445938870153\n",
      "The series is stationary. Proceeding without differencing\n"
     ]
    }
   ],
   "source": [
    "# applying differencing to find seasonality\n",
    "from statsmodels.tsa.stattools import adfuller\n",
    "result = adfuller(df_daily['CO(GT)'])\n",
    "print('ADF value:', result[0])\n",
    "print('p-value:', result[1])\n",
    "\n",
    "if result[1] >0.05:\n",
    "    print('The time series is not stationary. Differencing will be applied')\n",
    "    df_daily['CO(GT)_diff'] = df_daily['CO(GT)'].diff().dropna()\n",
    "\n",
    "else:\n",
    "    print('The series is stationary. Proceeding without differencing')"
   ]
  },
  {
   "cell_type": "code",
   "execution_count": 340,
   "id": "e2a92aef-1f09-4104-b9c5-597fa9ffcf55",
   "metadata": {},
   "outputs": [],
   "source": [
    "fea_co = [col for col in df_daily.columns if col != 'CO(GT)']  # all except target\n",
    "tar_co = ['CO(GT)']"
   ]
  },
  {
   "cell_type": "code",
   "execution_count": 342,
   "id": "9a496013-e16a-4d2f-8be0-ef0114ba5464",
   "metadata": {},
   "outputs": [],
   "source": [
    "x_co = df_daily[fea_co].dropna().values\n",
    "y_co = df_daily[tar_co].dropna().values"
   ]
  },
  {
   "cell_type": "code",
   "execution_count": 344,
   "id": "632cc558-b123-4751-9015-34b6a8d3fa86",
   "metadata": {},
   "outputs": [],
   "source": [
    "scaler = MinMaxScaler()\n",
    "x_scaled = scaler.fit_transform(x_co)"
   ]
  },
  {
   "cell_type": "code",
   "execution_count": 346,
   "id": "41d56b5b-44b7-41af-880a-a10311572e7a",
   "metadata": {},
   "outputs": [],
   "source": [
    "xtrain, xtest, ytrain, ytest = train_test_split(x_scaled, y_co, test_size=0.3, random_state=30, shuffle=False)\n",
    "\n",
    "# Reshape to 3D for LSTM\n",
    "xtrain = xtrain.reshape((xtrain.shape[0], 1, xtrain.shape[1]))\n",
    "xtest = xtest.reshape((xtest.shape[0], 1, xtest.shape[1]))"
   ]
  },
  {
   "cell_type": "markdown",
   "id": "7708fd82-a505-48bd-a71a-8d55350e8b2a",
   "metadata": {},
   "source": [
    "CO(GT)--GRU"
   ]
  },
  {
   "cell_type": "code",
   "execution_count": 349,
   "id": "6b3638c5-4ac2-4a34-a198-00319546ad61",
   "metadata": {
    "scrolled": true
   },
   "outputs": [
    {
     "name": "stdout",
     "output_type": "stream",
     "text": [
      "Epoch 1/100\n"
     ]
    },
    {
     "name": "stderr",
     "output_type": "stream",
     "text": [
      "C:\\Users\\PC\\anaconda3\\envs\\py312-env\\Lib\\site-packages\\keras\\src\\layers\\rnn\\rnn.py:199: UserWarning: Do not pass an `input_shape`/`input_dim` argument to a layer. When using Sequential models, prefer using an `Input(shape)` object as the first layer in the model instead.\n",
      "  super().__init__(**kwargs)\n"
     ]
    },
    {
     "name": "stdout",
     "output_type": "stream",
     "text": [
      "\u001b[1m9/9\u001b[0m \u001b[32m━━━━━━━━━━━━━━━━━━━━\u001b[0m\u001b[37m\u001b[0m \u001b[1m3s\u001b[0m 52ms/step - loss: 4.9086 - val_loss: 5.1451\n",
      "Epoch 2/100\n",
      "\u001b[1m9/9\u001b[0m \u001b[32m━━━━━━━━━━━━━━━━━━━━\u001b[0m\u001b[37m\u001b[0m \u001b[1m0s\u001b[0m 8ms/step - loss: 4.6890 - val_loss: 4.8586\n",
      "Epoch 3/100\n",
      "\u001b[1m9/9\u001b[0m \u001b[32m━━━━━━━━━━━━━━━━━━━━\u001b[0m\u001b[37m\u001b[0m \u001b[1m0s\u001b[0m 7ms/step - loss: 4.3069 - val_loss: 4.3408\n",
      "Epoch 4/100\n",
      "\u001b[1m9/9\u001b[0m \u001b[32m━━━━━━━━━━━━━━━━━━━━\u001b[0m\u001b[37m\u001b[0m \u001b[1m0s\u001b[0m 8ms/step - loss: 3.5506 - val_loss: 3.3079\n",
      "Epoch 5/100\n",
      "\u001b[1m9/9\u001b[0m \u001b[32m━━━━━━━━━━━━━━━━━━━━\u001b[0m\u001b[37m\u001b[0m \u001b[1m0s\u001b[0m 8ms/step - loss: 2.0780 - val_loss: 1.4257\n",
      "Epoch 6/100\n",
      "\u001b[1m9/9\u001b[0m \u001b[32m━━━━━━━━━━━━━━━━━━━━\u001b[0m\u001b[37m\u001b[0m \u001b[1m0s\u001b[0m 7ms/step - loss: 0.5138 - val_loss: 0.3604\n",
      "Epoch 7/100\n",
      "\u001b[1m9/9\u001b[0m \u001b[32m━━━━━━━━━━━━━━━━━━━━\u001b[0m\u001b[37m\u001b[0m \u001b[1m0s\u001b[0m 7ms/step - loss: 0.5605 - val_loss: 0.5113\n",
      "Epoch 8/100\n",
      "\u001b[1m9/9\u001b[0m \u001b[32m━━━━━━━━━━━━━━━━━━━━\u001b[0m\u001b[37m\u001b[0m \u001b[1m0s\u001b[0m 8ms/step - loss: 0.3838 - val_loss: 0.6645\n",
      "Epoch 9/100\n",
      "\u001b[1m9/9\u001b[0m \u001b[32m━━━━━━━━━━━━━━━━━━━━\u001b[0m\u001b[37m\u001b[0m \u001b[1m0s\u001b[0m 7ms/step - loss: 0.3436 - val_loss: 0.4179\n",
      "Epoch 10/100\n",
      "\u001b[1m9/9\u001b[0m \u001b[32m━━━━━━━━━━━━━━━━━━━━\u001b[0m\u001b[37m\u001b[0m \u001b[1m0s\u001b[0m 8ms/step - loss: 0.3234 - val_loss: 0.3719\n",
      "Epoch 11/100\n",
      "\u001b[1m9/9\u001b[0m \u001b[32m━━━━━━━━━━━━━━━━━━━━\u001b[0m\u001b[37m\u001b[0m \u001b[1m0s\u001b[0m 8ms/step - loss: 0.3029 - val_loss: 0.4365\n",
      "Epoch 12/100\n",
      "\u001b[1m9/9\u001b[0m \u001b[32m━━━━━━━━━━━━━━━━━━━━\u001b[0m\u001b[37m\u001b[0m \u001b[1m0s\u001b[0m 9ms/step - loss: 0.2770 - val_loss: 0.3446\n",
      "Epoch 13/100\n",
      "\u001b[1m9/9\u001b[0m \u001b[32m━━━━━━━━━━━━━━━━━━━━\u001b[0m\u001b[37m\u001b[0m \u001b[1m0s\u001b[0m 9ms/step - loss: 0.2561 - val_loss: 0.3346\n",
      "Epoch 14/100\n",
      "\u001b[1m9/9\u001b[0m \u001b[32m━━━━━━━━━━━━━━━━━━━━\u001b[0m\u001b[37m\u001b[0m \u001b[1m0s\u001b[0m 9ms/step - loss: 0.2419 - val_loss: 0.3325\n",
      "Epoch 15/100\n",
      "\u001b[1m9/9\u001b[0m \u001b[32m━━━━━━━━━━━━━━━━━━━━\u001b[0m\u001b[37m\u001b[0m \u001b[1m0s\u001b[0m 8ms/step - loss: 0.2301 - val_loss: 0.2852\n",
      "Epoch 16/100\n",
      "\u001b[1m9/9\u001b[0m \u001b[32m━━━━━━━━━━━━━━━━━━━━\u001b[0m\u001b[37m\u001b[0m \u001b[1m0s\u001b[0m 8ms/step - loss: 0.2104 - val_loss: 0.2925\n",
      "Epoch 17/100\n",
      "\u001b[1m9/9\u001b[0m \u001b[32m━━━━━━━━━━━━━━━━━━━━\u001b[0m\u001b[37m\u001b[0m \u001b[1m0s\u001b[0m 8ms/step - loss: 0.2003 - val_loss: 0.2662\n",
      "Epoch 18/100\n",
      "\u001b[1m9/9\u001b[0m \u001b[32m━━━━━━━━━━━━━━━━━━━━\u001b[0m\u001b[37m\u001b[0m \u001b[1m0s\u001b[0m 8ms/step - loss: 0.1924 - val_loss: 0.2577\n",
      "Epoch 19/100\n",
      "\u001b[1m9/9\u001b[0m \u001b[32m━━━━━━━━━━━━━━━━━━━━\u001b[0m\u001b[37m\u001b[0m \u001b[1m0s\u001b[0m 8ms/step - loss: 0.1780 - val_loss: 0.2539\n",
      "Epoch 20/100\n",
      "\u001b[1m9/9\u001b[0m \u001b[32m━━━━━━━━━━━━━━━━━━━━\u001b[0m\u001b[37m\u001b[0m \u001b[1m0s\u001b[0m 8ms/step - loss: 0.1709 - val_loss: 0.2506\n",
      "Epoch 21/100\n",
      "\u001b[1m9/9\u001b[0m \u001b[32m━━━━━━━━━━━━━━━━━━━━\u001b[0m\u001b[37m\u001b[0m \u001b[1m0s\u001b[0m 8ms/step - loss: 0.1609 - val_loss: 0.2468\n",
      "Epoch 22/100\n",
      "\u001b[1m9/9\u001b[0m \u001b[32m━━━━━━━━━━━━━━━━━━━━\u001b[0m\u001b[37m\u001b[0m \u001b[1m0s\u001b[0m 8ms/step - loss: 0.1538 - val_loss: 0.2532\n",
      "Epoch 23/100\n",
      "\u001b[1m9/9\u001b[0m \u001b[32m━━━━━━━━━━━━━━━━━━━━\u001b[0m\u001b[37m\u001b[0m \u001b[1m0s\u001b[0m 8ms/step - loss: 0.1480 - val_loss: 0.2590\n",
      "Epoch 24/100\n",
      "\u001b[1m9/9\u001b[0m \u001b[32m━━━━━━━━━━━━━━━━━━━━\u001b[0m\u001b[37m\u001b[0m \u001b[1m0s\u001b[0m 8ms/step - loss: 0.1421 - val_loss: 0.2565\n",
      "Epoch 25/100\n",
      "\u001b[1m9/9\u001b[0m \u001b[32m━━━━━━━━━━━━━━━━━━━━\u001b[0m\u001b[37m\u001b[0m \u001b[1m0s\u001b[0m 8ms/step - loss: 0.1374 - val_loss: 0.2719\n",
      "Epoch 26/100\n",
      "\u001b[1m9/9\u001b[0m \u001b[32m━━━━━━━━━━━━━━━━━━━━\u001b[0m\u001b[37m\u001b[0m \u001b[1m0s\u001b[0m 8ms/step - loss: 0.1340 - val_loss: 0.2793\n",
      "Epoch 27/100\n",
      "\u001b[1m9/9\u001b[0m \u001b[32m━━━━━━━━━━━━━━━━━━━━\u001b[0m\u001b[37m\u001b[0m \u001b[1m0s\u001b[0m 8ms/step - loss: 0.1306 - val_loss: 0.2849\n",
      "Epoch 28/100\n",
      "\u001b[1m9/9\u001b[0m \u001b[32m━━━━━━━━━━━━━━━━━━━━\u001b[0m\u001b[37m\u001b[0m \u001b[1m0s\u001b[0m 8ms/step - loss: 0.1270 - val_loss: 0.2955\n",
      "Epoch 29/100\n",
      "\u001b[1m9/9\u001b[0m \u001b[32m━━━━━━━━━━━━━━━━━━━━\u001b[0m\u001b[37m\u001b[0m \u001b[1m0s\u001b[0m 8ms/step - loss: 0.1264 - val_loss: 0.2952\n",
      "Epoch 30/100\n",
      "\u001b[1m9/9\u001b[0m \u001b[32m━━━━━━━━━━━━━━━━━━━━\u001b[0m\u001b[37m\u001b[0m \u001b[1m0s\u001b[0m 8ms/step - loss: 0.1214 - val_loss: 0.3141\n",
      "Epoch 31/100\n",
      "\u001b[1m9/9\u001b[0m \u001b[32m━━━━━━━━━━━━━━━━━━━━\u001b[0m\u001b[37m\u001b[0m \u001b[1m0s\u001b[0m 8ms/step - loss: 0.1191 - val_loss: 0.2971\n",
      "Epoch 32/100\n",
      "\u001b[1m9/9\u001b[0m \u001b[32m━━━━━━━━━━━━━━━━━━━━\u001b[0m\u001b[37m\u001b[0m \u001b[1m0s\u001b[0m 8ms/step - loss: 0.1186 - val_loss: 0.3090\n",
      "Epoch 33/100\n",
      "\u001b[1m9/9\u001b[0m \u001b[32m━━━━━━━━━━━━━━━━━━━━\u001b[0m\u001b[37m\u001b[0m \u001b[1m0s\u001b[0m 8ms/step - loss: 0.1168 - val_loss: 0.3248\n",
      "Epoch 34/100\n",
      "\u001b[1m9/9\u001b[0m \u001b[32m━━━━━━━━━━━━━━━━━━━━\u001b[0m\u001b[37m\u001b[0m \u001b[1m0s\u001b[0m 8ms/step - loss: 0.1159 - val_loss: 0.3164\n",
      "Epoch 35/100\n",
      "\u001b[1m9/9\u001b[0m \u001b[32m━━━━━━━━━━━━━━━━━━━━\u001b[0m\u001b[37m\u001b[0m \u001b[1m0s\u001b[0m 8ms/step - loss: 0.1148 - val_loss: 0.3126\n",
      "Epoch 36/100\n",
      "\u001b[1m9/9\u001b[0m \u001b[32m━━━━━━━━━━━━━━━━━━━━\u001b[0m\u001b[37m\u001b[0m \u001b[1m0s\u001b[0m 8ms/step - loss: 0.1172 - val_loss: 0.3260\n",
      "Epoch 37/100\n",
      "\u001b[1m9/9\u001b[0m \u001b[32m━━━━━━━━━━━━━━━━━━━━\u001b[0m\u001b[37m\u001b[0m \u001b[1m0s\u001b[0m 8ms/step - loss: 0.1113 - val_loss: 0.2976\n",
      "Epoch 38/100\n",
      "\u001b[1m9/9\u001b[0m \u001b[32m━━━━━━━━━━━━━━━━━━━━\u001b[0m\u001b[37m\u001b[0m \u001b[1m0s\u001b[0m 8ms/step - loss: 0.1103 - val_loss: 0.3147\n",
      "Epoch 39/100\n",
      "\u001b[1m9/9\u001b[0m \u001b[32m━━━━━━━━━━━━━━━━━━━━\u001b[0m\u001b[37m\u001b[0m \u001b[1m0s\u001b[0m 8ms/step - loss: 0.1084 - val_loss: 0.3187\n",
      "Epoch 40/100\n",
      "\u001b[1m9/9\u001b[0m \u001b[32m━━━━━━━━━━━━━━━━━━━━\u001b[0m\u001b[37m\u001b[0m \u001b[1m0s\u001b[0m 9ms/step - loss: 0.1075 - val_loss: 0.2943\n",
      "Epoch 41/100\n",
      "\u001b[1m9/9\u001b[0m \u001b[32m━━━━━━━━━━━━━━━━━━━━\u001b[0m\u001b[37m\u001b[0m \u001b[1m0s\u001b[0m 8ms/step - loss: 0.1119 - val_loss: 0.3457\n",
      "Epoch 42/100\n",
      "\u001b[1m9/9\u001b[0m \u001b[32m━━━━━━━━━━━━━━━━━━━━\u001b[0m\u001b[37m\u001b[0m \u001b[1m0s\u001b[0m 10ms/step - loss: 0.1096 - val_loss: 0.2786\n",
      "Epoch 43/100\n",
      "\u001b[1m9/9\u001b[0m \u001b[32m━━━━━━━━━━━━━━━━━━━━\u001b[0m\u001b[37m\u001b[0m \u001b[1m0s\u001b[0m 14ms/step - loss: 0.1085 - val_loss: 0.3421\n",
      "Epoch 44/100\n",
      "\u001b[1m9/9\u001b[0m \u001b[32m━━━━━━━━━━━━━━━━━━━━\u001b[0m\u001b[37m\u001b[0m \u001b[1m0s\u001b[0m 10ms/step - loss: 0.1031 - val_loss: 0.2885\n",
      "Epoch 45/100\n",
      "\u001b[1m9/9\u001b[0m \u001b[32m━━━━━━━━━━━━━━━━━━━━\u001b[0m\u001b[37m\u001b[0m \u001b[1m0s\u001b[0m 8ms/step - loss: 0.0987 - val_loss: 0.3229\n",
      "Epoch 46/100\n",
      "\u001b[1m9/9\u001b[0m \u001b[32m━━━━━━━━━━━━━━━━━━━━\u001b[0m\u001b[37m\u001b[0m \u001b[1m0s\u001b[0m 8ms/step - loss: 0.1020 - val_loss: 0.2785\n",
      "Epoch 47/100\n",
      "\u001b[1m9/9\u001b[0m \u001b[32m━━━━━━━━━━━━━━━━━━━━\u001b[0m\u001b[37m\u001b[0m \u001b[1m0s\u001b[0m 9ms/step - loss: 0.0993 - val_loss: 0.3105\n",
      "Epoch 48/100\n",
      "\u001b[1m9/9\u001b[0m \u001b[32m━━━━━━━━━━━━━━━━━━━━\u001b[0m\u001b[37m\u001b[0m \u001b[1m0s\u001b[0m 8ms/step - loss: 0.0957 - val_loss: 0.2947\n",
      "Epoch 49/100\n",
      "\u001b[1m9/9\u001b[0m \u001b[32m━━━━━━━━━━━━━━━━━━━━\u001b[0m\u001b[37m\u001b[0m \u001b[1m0s\u001b[0m 8ms/step - loss: 0.0957 - val_loss: 0.2787\n",
      "Epoch 50/100\n",
      "\u001b[1m9/9\u001b[0m \u001b[32m━━━━━━━━━━━━━━━━━━━━\u001b[0m\u001b[37m\u001b[0m \u001b[1m0s\u001b[0m 8ms/step - loss: 0.0932 - val_loss: 0.3106\n",
      "Epoch 51/100\n",
      "\u001b[1m9/9\u001b[0m \u001b[32m━━━━━━━━━━━━━━━━━━━━\u001b[0m\u001b[37m\u001b[0m \u001b[1m0s\u001b[0m 8ms/step - loss: 0.0935 - val_loss: 0.2901\n",
      "Epoch 52/100\n",
      "\u001b[1m9/9\u001b[0m \u001b[32m━━━━━━━━━━━━━━━━━━━━\u001b[0m\u001b[37m\u001b[0m \u001b[1m0s\u001b[0m 8ms/step - loss: 0.0898 - val_loss: 0.2929\n",
      "Epoch 53/100\n",
      "\u001b[1m9/9\u001b[0m \u001b[32m━━━━━━━━━━━━━━━━━━━━\u001b[0m\u001b[37m\u001b[0m \u001b[1m0s\u001b[0m 8ms/step - loss: 0.0886 - val_loss: 0.2568\n",
      "Epoch 54/100\n",
      "\u001b[1m9/9\u001b[0m \u001b[32m━━━━━━━━━━━━━━━━━━━━\u001b[0m\u001b[37m\u001b[0m \u001b[1m0s\u001b[0m 8ms/step - loss: 0.0894 - val_loss: 0.2826\n",
      "Epoch 55/100\n",
      "\u001b[1m9/9\u001b[0m \u001b[32m━━━━━━━━━━━━━━━━━━━━\u001b[0m\u001b[37m\u001b[0m \u001b[1m0s\u001b[0m 9ms/step - loss: 0.0872 - val_loss: 0.2774\n",
      "Epoch 56/100\n",
      "\u001b[1m9/9\u001b[0m \u001b[32m━━━━━━━━━━━━━━━━━━━━\u001b[0m\u001b[37m\u001b[0m \u001b[1m0s\u001b[0m 9ms/step - loss: 0.0853 - val_loss: 0.2773\n",
      "Epoch 57/100\n",
      "\u001b[1m9/9\u001b[0m \u001b[32m━━━━━━━━━━━━━━━━━━━━\u001b[0m\u001b[37m\u001b[0m \u001b[1m0s\u001b[0m 9ms/step - loss: 0.0853 - val_loss: 0.2366\n",
      "Epoch 58/100\n",
      "\u001b[1m9/9\u001b[0m \u001b[32m━━━━━━━━━━━━━━━━━━━━\u001b[0m\u001b[37m\u001b[0m \u001b[1m0s\u001b[0m 9ms/step - loss: 0.0822 - val_loss: 0.2488\n",
      "Epoch 59/100\n",
      "\u001b[1m9/9\u001b[0m \u001b[32m━━━━━━━━━━━━━━━━━━━━\u001b[0m\u001b[37m\u001b[0m \u001b[1m0s\u001b[0m 9ms/step - loss: 0.0813 - val_loss: 0.2390\n",
      "Epoch 60/100\n",
      "\u001b[1m9/9\u001b[0m \u001b[32m━━━━━━━━━━━━━━━━━━━━\u001b[0m\u001b[37m\u001b[0m \u001b[1m0s\u001b[0m 8ms/step - loss: 0.0810 - val_loss: 0.2399\n",
      "Epoch 61/100\n",
      "\u001b[1m9/9\u001b[0m \u001b[32m━━━━━━━━━━━━━━━━━━━━\u001b[0m\u001b[37m\u001b[0m \u001b[1m0s\u001b[0m 9ms/step - loss: 0.0907 - val_loss: 0.2636\n",
      "Epoch 62/100\n",
      "\u001b[1m9/9\u001b[0m \u001b[32m━━━━━━━━━━━━━━━━━━━━\u001b[0m\u001b[37m\u001b[0m \u001b[1m0s\u001b[0m 9ms/step - loss: 0.0810 - val_loss: 0.2533\n",
      "Epoch 63/100\n",
      "\u001b[1m9/9\u001b[0m \u001b[32m━━━━━━━━━━━━━━━━━━━━\u001b[0m\u001b[37m\u001b[0m \u001b[1m0s\u001b[0m 9ms/step - loss: 0.0765 - val_loss: 0.2260\n",
      "Epoch 64/100\n",
      "\u001b[1m9/9\u001b[0m \u001b[32m━━━━━━━━━━━━━━━━━━━━\u001b[0m\u001b[37m\u001b[0m \u001b[1m0s\u001b[0m 8ms/step - loss: 0.0803 - val_loss: 0.2635\n",
      "Epoch 65/100\n",
      "\u001b[1m9/9\u001b[0m \u001b[32m━━━━━━━━━━━━━━━━━━━━\u001b[0m\u001b[37m\u001b[0m \u001b[1m0s\u001b[0m 8ms/step - loss: 0.0753 - val_loss: 0.2214\n",
      "Epoch 66/100\n",
      "\u001b[1m9/9\u001b[0m \u001b[32m━━━━━━━━━━━━━━━━━━━━\u001b[0m\u001b[37m\u001b[0m \u001b[1m0s\u001b[0m 8ms/step - loss: 0.0745 - val_loss: 0.2358\n",
      "Epoch 67/100\n",
      "\u001b[1m9/9\u001b[0m \u001b[32m━━━━━━━━━━━━━━━━━━━━\u001b[0m\u001b[37m\u001b[0m \u001b[1m0s\u001b[0m 8ms/step - loss: 0.0740 - val_loss: 0.2507\n",
      "Epoch 68/100\n",
      "\u001b[1m9/9\u001b[0m \u001b[32m━━━━━━━━━━━━━━━━━━━━\u001b[0m\u001b[37m\u001b[0m \u001b[1m0s\u001b[0m 8ms/step - loss: 0.0736 - val_loss: 0.2016\n",
      "Epoch 69/100\n",
      "\u001b[1m9/9\u001b[0m \u001b[32m━━━━━━━━━━━━━━━━━━━━\u001b[0m\u001b[37m\u001b[0m \u001b[1m0s\u001b[0m 8ms/step - loss: 0.0746 - val_loss: 0.2639\n",
      "Epoch 70/100\n",
      "\u001b[1m9/9\u001b[0m \u001b[32m━━━━━━━━━━━━━━━━━━━━\u001b[0m\u001b[37m\u001b[0m \u001b[1m0s\u001b[0m 8ms/step - loss: 0.0758 - val_loss: 0.2035\n",
      "Epoch 71/100\n",
      "\u001b[1m9/9\u001b[0m \u001b[32m━━━━━━━━━━━━━━━━━━━━\u001b[0m\u001b[37m\u001b[0m \u001b[1m0s\u001b[0m 8ms/step - loss: 0.0717 - val_loss: 0.2216\n",
      "Epoch 72/100\n",
      "\u001b[1m9/9\u001b[0m \u001b[32m━━━━━━━━━━━━━━━━━━━━\u001b[0m\u001b[37m\u001b[0m \u001b[1m0s\u001b[0m 9ms/step - loss: 0.0705 - val_loss: 0.2374\n",
      "Epoch 73/100\n",
      "\u001b[1m9/9\u001b[0m \u001b[32m━━━━━━━━━━━━━━━━━━━━\u001b[0m\u001b[37m\u001b[0m \u001b[1m0s\u001b[0m 8ms/step - loss: 0.0720 - val_loss: 0.2003\n",
      "Epoch 74/100\n",
      "\u001b[1m9/9\u001b[0m \u001b[32m━━━━━━━━━━━━━━━━━━━━\u001b[0m\u001b[37m\u001b[0m \u001b[1m0s\u001b[0m 10ms/step - loss: 0.0706 - val_loss: 0.2120\n",
      "Epoch 75/100\n",
      "\u001b[1m9/9\u001b[0m \u001b[32m━━━━━━━━━━━━━━━━━━━━\u001b[0m\u001b[37m\u001b[0m \u001b[1m0s\u001b[0m 8ms/step - loss: 0.0687 - val_loss: 0.2270\n",
      "Epoch 76/100\n",
      "\u001b[1m9/9\u001b[0m \u001b[32m━━━━━━━━━━━━━━━━━━━━\u001b[0m\u001b[37m\u001b[0m \u001b[1m0s\u001b[0m 7ms/step - loss: 0.0687 - val_loss: 0.2069\n",
      "Epoch 77/100\n",
      "\u001b[1m9/9\u001b[0m \u001b[32m━━━━━━━━━━━━━━━━━━━━\u001b[0m\u001b[37m\u001b[0m \u001b[1m0s\u001b[0m 8ms/step - loss: 0.0680 - val_loss: 0.2280\n",
      "Epoch 78/100\n",
      "\u001b[1m9/9\u001b[0m \u001b[32m━━━━━━━━━━━━━━━━━━━━\u001b[0m\u001b[37m\u001b[0m \u001b[1m0s\u001b[0m 8ms/step - loss: 0.0692 - val_loss: 0.1918\n",
      "Epoch 79/100\n",
      "\u001b[1m9/9\u001b[0m \u001b[32m━━━━━━━━━━━━━━━━━━━━\u001b[0m\u001b[37m\u001b[0m \u001b[1m0s\u001b[0m 10ms/step - loss: 0.0692 - val_loss: 0.2029\n",
      "Epoch 80/100\n",
      "\u001b[1m9/9\u001b[0m \u001b[32m━━━━━━━━━━━━━━━━━━━━\u001b[0m\u001b[37m\u001b[0m \u001b[1m0s\u001b[0m 8ms/step - loss: 0.0666 - val_loss: 0.2023\n",
      "Epoch 81/100\n",
      "\u001b[1m9/9\u001b[0m \u001b[32m━━━━━━━━━━━━━━━━━━━━\u001b[0m\u001b[37m\u001b[0m \u001b[1m0s\u001b[0m 8ms/step - loss: 0.0667 - val_loss: 0.1942\n",
      "Epoch 82/100\n",
      "\u001b[1m9/9\u001b[0m \u001b[32m━━━━━━━━━━━━━━━━━━━━\u001b[0m\u001b[37m\u001b[0m \u001b[1m0s\u001b[0m 9ms/step - loss: 0.0672 - val_loss: 0.2162\n",
      "Epoch 83/100\n",
      "\u001b[1m9/9\u001b[0m \u001b[32m━━━━━━━━━━━━━━━━━━━━\u001b[0m\u001b[37m\u001b[0m \u001b[1m0s\u001b[0m 9ms/step - loss: 0.0644 - val_loss: 0.2074\n",
      "Epoch 84/100\n",
      "\u001b[1m9/9\u001b[0m \u001b[32m━━━━━━━━━━━━━━━━━━━━\u001b[0m\u001b[37m\u001b[0m \u001b[1m0s\u001b[0m 9ms/step - loss: 0.0662 - val_loss: 0.2135\n",
      "Epoch 85/100\n",
      "\u001b[1m9/9\u001b[0m \u001b[32m━━━━━━━━━━━━━━━━━━━━\u001b[0m\u001b[37m\u001b[0m \u001b[1m0s\u001b[0m 8ms/step - loss: 0.0665 - val_loss: 0.2223\n",
      "Epoch 86/100\n",
      "\u001b[1m9/9\u001b[0m \u001b[32m━━━━━━━━━━━━━━━━━━━━\u001b[0m\u001b[37m\u001b[0m \u001b[1m0s\u001b[0m 8ms/step - loss: 0.0643 - val_loss: 0.1978\n",
      "Epoch 87/100\n",
      "\u001b[1m9/9\u001b[0m \u001b[32m━━━━━━━━━━━━━━━━━━━━\u001b[0m\u001b[37m\u001b[0m \u001b[1m0s\u001b[0m 8ms/step - loss: 0.0632 - val_loss: 0.2218\n",
      "Epoch 88/100\n",
      "\u001b[1m9/9\u001b[0m \u001b[32m━━━━━━━━━━━━━━━━━━━━\u001b[0m\u001b[37m\u001b[0m \u001b[1m0s\u001b[0m 8ms/step - loss: 0.0645 - val_loss: 0.1925\n",
      "Epoch 89/100\n",
      "\u001b[1m9/9\u001b[0m \u001b[32m━━━━━━━━━━━━━━━━━━━━\u001b[0m\u001b[37m\u001b[0m \u001b[1m0s\u001b[0m 8ms/step - loss: 0.0633 - val_loss: 0.2061\n",
      "Epoch 90/100\n",
      "\u001b[1m9/9\u001b[0m \u001b[32m━━━━━━━━━━━━━━━━━━━━\u001b[0m\u001b[37m\u001b[0m \u001b[1m0s\u001b[0m 8ms/step - loss: 0.0610 - val_loss: 0.1858\n",
      "Epoch 91/100\n",
      "\u001b[1m9/9\u001b[0m \u001b[32m━━━━━━━━━━━━━━━━━━━━\u001b[0m\u001b[37m\u001b[0m \u001b[1m0s\u001b[0m 8ms/step - loss: 0.0613 - val_loss: 0.2209\n",
      "Epoch 92/100\n",
      "\u001b[1m9/9\u001b[0m \u001b[32m━━━━━━━━━━━━━━━━━━━━\u001b[0m\u001b[37m\u001b[0m \u001b[1m0s\u001b[0m 8ms/step - loss: 0.0622 - val_loss: 0.1953\n",
      "Epoch 93/100\n",
      "\u001b[1m9/9\u001b[0m \u001b[32m━━━━━━━━━━━━━━━━━━━━\u001b[0m\u001b[37m\u001b[0m \u001b[1m0s\u001b[0m 8ms/step - loss: 0.0601 - val_loss: 0.1960\n",
      "Epoch 94/100\n",
      "\u001b[1m9/9\u001b[0m \u001b[32m━━━━━━━━━━━━━━━━━━━━\u001b[0m\u001b[37m\u001b[0m \u001b[1m0s\u001b[0m 8ms/step - loss: 0.0601 - val_loss: 0.1761\n",
      "Epoch 95/100\n",
      "\u001b[1m9/9\u001b[0m \u001b[32m━━━━━━━━━━━━━━━━━━━━\u001b[0m\u001b[37m\u001b[0m \u001b[1m0s\u001b[0m 8ms/step - loss: 0.0649 - val_loss: 0.2174\n",
      "Epoch 96/100\n",
      "\u001b[1m9/9\u001b[0m \u001b[32m━━━━━━━━━━━━━━━━━━━━\u001b[0m\u001b[37m\u001b[0m \u001b[1m0s\u001b[0m 9ms/step - loss: 0.0635 - val_loss: 0.2045\n",
      "Epoch 97/100\n",
      "\u001b[1m9/9\u001b[0m \u001b[32m━━━━━━━━━━━━━━━━━━━━\u001b[0m\u001b[37m\u001b[0m \u001b[1m0s\u001b[0m 9ms/step - loss: 0.0616 - val_loss: 0.1769\n",
      "Epoch 98/100\n",
      "\u001b[1m9/9\u001b[0m \u001b[32m━━━━━━━━━━━━━━━━━━━━\u001b[0m\u001b[37m\u001b[0m \u001b[1m0s\u001b[0m 8ms/step - loss: 0.0617 - val_loss: 0.1802\n",
      "Epoch 99/100\n",
      "\u001b[1m9/9\u001b[0m \u001b[32m━━━━━━━━━━━━━━━━━━━━\u001b[0m\u001b[37m\u001b[0m \u001b[1m0s\u001b[0m 7ms/step - loss: 0.0587 - val_loss: 0.1933\n",
      "Epoch 100/100\n",
      "\u001b[1m9/9\u001b[0m \u001b[32m━━━━━━━━━━━━━━━━━━━━\u001b[0m\u001b[37m\u001b[0m \u001b[1m0s\u001b[0m 8ms/step - loss: 0.0593 - val_loss: 0.1909\n"
     ]
    }
   ],
   "source": [
    "model_gru_co = Sequential()\n",
    "model_gru_co.add(GRU(64, activation='relu', return_sequences=True, input_shape=(xtrain.shape[1], xtrain.shape[2])))\n",
    "model_gru_co.add(GRU(32, activation='relu', return_sequences=True))\n",
    "model_gru_co.add(GRU(16, activation='relu'))\n",
    "model_gru_co.add(Dense(1))  # Predict NO2(GT)\n",
    "\n",
    "model_gru_co.compile(optimizer='adam', loss='mse')\n",
    "\n",
    "# Train\n",
    "history = model_gru_co.fit(xtrain, ytrain, epochs=100, batch_size=32,\n",
    "                    validation_data=(xtest, ytest), verbose=1)"
   ]
  },
  {
   "cell_type": "code",
   "execution_count": 350,
   "id": "a89d2bd6-8550-4dac-93f4-db11b865804b",
   "metadata": {},
   "outputs": [
    {
     "name": "stdout",
     "output_type": "stream",
     "text": [
      "WARNING:tensorflow:6 out of the last 22 calls to <function TensorFlowTrainer.make_predict_function.<locals>.one_step_on_data_distributed at 0x0000023486B39760> triggered tf.function retracing. Tracing is expensive and the excessive number of tracings could be due to (1) creating @tf.function repeatedly in a loop, (2) passing tensors with different shapes, (3) passing Python objects instead of tensors. For (1), please define your @tf.function outside of the loop. For (2), @tf.function has reduce_retracing=True option that can avoid unnecessary retracing. For (3), please refer to https://www.tensorflow.org/guide/function#controlling_retracing and https://www.tensorflow.org/api_docs/python/tf/function for  more details.\n",
      "\u001b[1m4/4\u001b[0m \u001b[32m━━━━━━━━━━━━━━━━━━━━\u001b[0m\u001b[37m\u001b[0m \u001b[1m1s\u001b[0m 103ms/step\n"
     ]
    },
    {
     "data": {
      "image/png": "[encoded data removed]",
      "text/plain": [
       "<Figure size 1000x500 with 1 Axes>"
      ]
     },
     "metadata": {},
     "output_type": "display_data"
    }
   ],
   "source": [
    "y_pred_co = model_gru_co.predict(xtest)\n",
    "\n",
    "# Compare actual vs predicted\n",
    "import matplotlib.pyplot as plt\n",
    "\n",
    "plt.figure(figsize=(10,5))\n",
    "plt.plot(ytest, label=\"Actual CO(GT)\")\n",
    "plt.plot(y_pred_co, label=\"Predicted CO(GT)\")\n",
    "plt.legend()\n",
    "plt.show()"
   ]
  },
  {
   "cell_type": "code",
   "execution_count": 355,
   "id": "e4de24ad-54b5-4fa3-8b94-e4309efeaa49",
   "metadata": {},
   "outputs": [
    {
     "name": "stdout",
     "output_type": "stream",
     "text": [
      "Mean Squared Error (MSE): 0.1909\n",
      "Root Mean Squared Error (RMSE): 0.4369\n",
      "Mean Absolute Error (MAE): 0.3244\n",
      "R² Score: 0.5896\n"
     ]
    }
   ],
   "source": [
    "from sklearn.metrics import mean_squared_error, mean_absolute_error, r2_score\n",
    "import numpy as np\n",
    "\n",
    "mse = mean_squared_error(ytest, y_pred_co)\n",
    "rmse = np.sqrt(mse)\n",
    "mae = mean_absolute_error(ytest, y_pred_co)\n",
    "r2 = r2_score(ytest, y_pred_co)\n",
    "\n",
    "print(f\"Mean Squared Error (MSE): {mse:.4f}\")\n",
    "print(f\"Root Mean Squared Error (RMSE): {rmse:.4f}\")\n",
    "print(f\"Mean Absolute Error (MAE): {mae:.4f}\")\n",
    "print(f\"R² Score: {r2:.4f}\")"
   ]
  },
  {
   "cell_type": "markdown",
   "id": "e7a15138",
   "metadata": {},
   "source": [
    "### 5. Model Evaluation\n",
    "- Use appropriate metrics for forecasting:\n",
    "  - Mean Absolute Error (MAE)\n",
    "  - Root Mean Squared Error (RMSE)\n",
    "  - Mean Absolute Percentage Error (MAPE)\n",
    "- Plot actual vs. predicted values to visualize performance.\n"
   ]
  },
  {
   "cell_type": "code",
   "execution_count": 358,
   "id": "d6e10112",
   "metadata": {},
   "outputs": [],
   "source": [
    "def evaluate_forecast(y_actual, y_pred, model_name=\"Model\"):\n",
    "    # Metrics\n",
    "    mae = mean_absolute_error(y_actual, y_pred)\n",
    "    rmse = np.sqrt(mean_squared_error(y_actual, y_pred))\n",
    "    mape = np.mean(np.abs((y_actual - y_pred) / y_actual)) * 100  # %\n",
    "\n",
    "    print(f\"Evaluation for {model_name}\")\n",
    "    print(f\"MAE  : {mae:.4f}\")\n",
    "    print(f\"RMSE : {rmse:.4f}\")\n",
    "    print(f\"MAPE : {mape:.2f}%\")\n",
    "\n",
    "    return mae, rmse, mape"
   ]
  },
  {
   "cell_type": "code",
   "execution_count": 360,
   "id": "a99afeab",
   "metadata": {},
   "outputs": [
    {
     "name": "stdout",
     "output_type": "stream",
     "text": [
      "Evaluation for <Sequential name=sequential_4, built=True>\n",
      "MAE  : 0.3244\n",
      "RMSE : 0.4369\n",
      "MAPE : 16.47%\n"
     ]
    },
    {
     "data": {
      "text/plain": [
       "(0.32439668093877877, 0.4368879640882163, 16.468435821715)"
      ]
     },
     "execution_count": 360,
     "metadata": {},
     "output_type": "execute_result"
    }
   ],
   "source": [
    "evaluate_forecast(ytest, y_pred_co,model_gru_co)"
   ]
  },
  {
   "cell_type": "code",
   "execution_count": 366,
   "id": "157bf18b",
   "metadata": {},
   "outputs": [
    {
     "name": "stdout",
     "output_type": "stream",
     "text": [
      "\u001b[1m4/4\u001b[0m \u001b[32m━━━━━━━━━━━━━━━━━━━━\u001b[0m\u001b[37m\u001b[0m \u001b[1m0s\u001b[0m 10ms/step\n"
     ]
    },
    {
     "data": {
      "image/png": "[encoded data removed]",
      "text/plain": [
       "<Figure size 800x500 with 1 Axes>"
      ]
     },
     "metadata": {},
     "output_type": "display_data"
    }
   ],
   "source": [
    "y_pred_co = model_gru_co.predict(xtest)\n",
    "\n",
    "# Compare actual vs predicted\n",
    "import matplotlib.pyplot as plt\n",
    "\n",
    "plt.figure(figsize=(8,5))\n",
    "plt.plot(ytest, label=\"Actual CO(GT)\")\n",
    "plt.plot(y_pred_co, label=\"Predicted CO(GT)\")\n",
    "plt.legend()\n",
    "plt.show()"
   ]
  },
  {
   "cell_type": "code",
   "execution_count": 364,
   "id": "be567492-fa47-4dcf-9d12-ca26ce86b46b",
   "metadata": {},
   "outputs": [
    {
     "name": "stdout",
     "output_type": "stream",
     "text": [
      "Evaluation for <Sequential name=sequential_3, built=True>\n",
      "MAE  : 11.2162\n",
      "RMSE : 14.1513\n",
      "MAPE : inf%\n"
     ]
    },
    {
     "name": "stderr",
     "output_type": "stream",
     "text": [
      "C:\\Users\\PC\\AppData\\Local\\Temp\\ipykernel_8868\\2979779528.py:5: RuntimeWarning: divide by zero encountered in divide\n",
      "  mape = np.mean(np.abs((y_actual - y_pred) / y_actual)) * 100  # %\n"
     ]
    },
    {
     "data": {
      "text/plain": [
       "(11.2161920683676, 14.151270339116447, inf)"
      ]
     },
     "execution_count": 364,
     "metadata": {},
     "output_type": "execute_result"
    }
   ],
   "source": [
    "evaluate_forecast(ytest_no2, y_pred_gru, model_gru)"
   ]
  },
  {
   "cell_type": "code",
   "execution_count": 368,
   "id": "84a20933-385d-4c20-b465-c1910db8f0c2",
   "metadata": {},
   "outputs": [
    {
     "name": "stdout",
     "output_type": "stream",
     "text": [
      "\u001b[1m4/4\u001b[0m \u001b[32m━━━━━━━━━━━━━━━━━━━━\u001b[0m\u001b[37m\u001b[0m \u001b[1m0s\u001b[0m 4ms/step \n"
     ]
    },
    {
     "data": {
      "image/png": "[encoded data removed]",
      "text/plain": [
       "<Figure size 800x500 with 1 Axes>"
      ]
     },
     "metadata": {},
     "output_type": "display_data"
    }
   ],
   "source": [
    "y_pred_gru = model_gru.predict(X_test)\n",
    "\n",
    "# Compare actual vs predicted\n",
    "import matplotlib.pyplot as plt\n",
    "\n",
    "plt.figure(figsize=(8,5))\n",
    "plt.plot(ytest_no2, label=\"Actual NO2(GT)\")\n",
    "plt.plot(y_pred_gru, label=\"Predicted NO2(GT)\")\n",
    "plt.legend()\n",
    "plt.show()"
   ]
  },
  {
   "cell_type": "code",
   "execution_count": null,
   "id": "27e16d61",
   "metadata": {},
   "outputs": [],
   "source": []
  },
  {
   "cell_type": "code",
   "execution_count": null,
   "id": "18ca70bc",
   "metadata": {},
   "outputs": [],
   "source": []
  },
  {
   "cell_type": "code",
   "execution_count": null,
   "id": "07d8def3",
   "metadata": {},
   "outputs": [],
   "source": []
  }
 ],
 "metadata": {
  "kernelspec": {
   "display_name": "Python [conda env:py312-env]",
   "language": "python",
   "name": "conda-env-py312-env-py"
  },
  "language_info": {
   "codemirror_mode": {
    "name": "ipython",
    "version": 3
   },
   "file_extension": ".py",
   "mimetype": "text/x-python",
   "name": "python",
   "nbconvert_exporter": "python",
   "pygments_lexer": "ipython3",
   "version": "3.12.7"
  }
 },
 "nbformat": 4,
 "nbformat_minor": 5
}
